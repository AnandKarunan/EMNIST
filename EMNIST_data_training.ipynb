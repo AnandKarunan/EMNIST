{
  "nbformat": 4,
  "nbformat_minor": 0,
  "metadata": {
    "colab": {
      "name": "EMNIST_data_training.ipynb",
      "provenance": []
    },
    "kernelspec": {
      "name": "python3",
      "display_name": "Python 3"
    },
    "language_info": {
      "name": "python"
    },
    "accelerator": "GPU",
    "widgets": {
      "application/vnd.jupyter.widget-state+json": {
        "0985a40023c249d7aa8f7126e90e8605": {
          "model_module": "@jupyter-widgets/controls",
          "model_name": "VBoxModel",
          "state": {
            "_view_name": "VBoxView",
            "_dom_classes": [],
            "_model_name": "VBoxModel",
            "_view_module": "@jupyter-widgets/controls",
            "_model_module_version": "1.5.0",
            "_view_count": null,
            "_view_module_version": "1.5.0",
            "box_style": "",
            "layout": "IPY_MODEL_3f9e9e40165a4902a7bf61048ac95d3a",
            "_model_module": "@jupyter-widgets/controls",
            "children": [
              "IPY_MODEL_e6b3b8f892554842a5320cac380e6439",
              "IPY_MODEL_89e7b146436d4639a19dff7ef87cb412"
            ]
          }
        },
        "3f9e9e40165a4902a7bf61048ac95d3a": {
          "model_module": "@jupyter-widgets/base",
          "model_name": "LayoutModel",
          "state": {
            "_view_name": "LayoutView",
            "grid_template_rows": null,
            "right": null,
            "justify_content": null,
            "_view_module": "@jupyter-widgets/base",
            "overflow": null,
            "_model_module_version": "1.2.0",
            "_view_count": null,
            "flex_flow": null,
            "width": null,
            "min_width": null,
            "border": null,
            "align_items": null,
            "bottom": null,
            "_model_module": "@jupyter-widgets/base",
            "top": null,
            "grid_column": null,
            "overflow_y": null,
            "overflow_x": null,
            "grid_auto_flow": null,
            "grid_area": null,
            "grid_template_columns": null,
            "flex": null,
            "_model_name": "LayoutModel",
            "justify_items": null,
            "grid_row": null,
            "max_height": null,
            "align_content": null,
            "visibility": null,
            "align_self": null,
            "height": null,
            "min_height": null,
            "padding": null,
            "grid_auto_rows": null,
            "grid_gap": null,
            "max_width": null,
            "order": null,
            "_view_module_version": "1.2.0",
            "grid_template_areas": null,
            "object_position": null,
            "object_fit": null,
            "grid_auto_columns": null,
            "margin": null,
            "display": null,
            "left": null
          }
        },
        "e6b3b8f892554842a5320cac380e6439": {
          "model_module": "@jupyter-widgets/controls",
          "model_name": "LabelModel",
          "state": {
            "_view_name": "LabelView",
            "style": "IPY_MODEL_7596b3eebdd041ce8bc333d3f4811db9",
            "_dom_classes": [],
            "description": "",
            "_model_name": "LabelModel",
            "placeholder": "​",
            "_view_module": "@jupyter-widgets/controls",
            "_model_module_version": "1.5.0",
            "value": " 5.38MB of 5.38MB uploaded (0.00MB deduped)\r",
            "_view_count": null,
            "_view_module_version": "1.5.0",
            "description_tooltip": null,
            "_model_module": "@jupyter-widgets/controls",
            "layout": "IPY_MODEL_8d1d634528b142a997a20888de2c27ad"
          }
        },
        "89e7b146436d4639a19dff7ef87cb412": {
          "model_module": "@jupyter-widgets/controls",
          "model_name": "FloatProgressModel",
          "state": {
            "_view_name": "ProgressView",
            "style": "IPY_MODEL_28c90dc6393b45269478d80593af7512",
            "_dom_classes": [],
            "description": "",
            "_model_name": "FloatProgressModel",
            "bar_style": "",
            "max": 1,
            "_view_module": "@jupyter-widgets/controls",
            "_model_module_version": "1.5.0",
            "value": 1,
            "_view_count": null,
            "_view_module_version": "1.5.0",
            "orientation": "horizontal",
            "min": 0,
            "description_tooltip": null,
            "_model_module": "@jupyter-widgets/controls",
            "layout": "IPY_MODEL_16b2c6b471474c8d8d8752134a73acb3"
          }
        },
        "7596b3eebdd041ce8bc333d3f4811db9": {
          "model_module": "@jupyter-widgets/controls",
          "model_name": "DescriptionStyleModel",
          "state": {
            "_view_name": "StyleView",
            "_model_name": "DescriptionStyleModel",
            "description_width": "",
            "_view_module": "@jupyter-widgets/base",
            "_model_module_version": "1.5.0",
            "_view_count": null,
            "_view_module_version": "1.2.0",
            "_model_module": "@jupyter-widgets/controls"
          }
        },
        "8d1d634528b142a997a20888de2c27ad": {
          "model_module": "@jupyter-widgets/base",
          "model_name": "LayoutModel",
          "state": {
            "_view_name": "LayoutView",
            "grid_template_rows": null,
            "right": null,
            "justify_content": null,
            "_view_module": "@jupyter-widgets/base",
            "overflow": null,
            "_model_module_version": "1.2.0",
            "_view_count": null,
            "flex_flow": null,
            "width": null,
            "min_width": null,
            "border": null,
            "align_items": null,
            "bottom": null,
            "_model_module": "@jupyter-widgets/base",
            "top": null,
            "grid_column": null,
            "overflow_y": null,
            "overflow_x": null,
            "grid_auto_flow": null,
            "grid_area": null,
            "grid_template_columns": null,
            "flex": null,
            "_model_name": "LayoutModel",
            "justify_items": null,
            "grid_row": null,
            "max_height": null,
            "align_content": null,
            "visibility": null,
            "align_self": null,
            "height": null,
            "min_height": null,
            "padding": null,
            "grid_auto_rows": null,
            "grid_gap": null,
            "max_width": null,
            "order": null,
            "_view_module_version": "1.2.0",
            "grid_template_areas": null,
            "object_position": null,
            "object_fit": null,
            "grid_auto_columns": null,
            "margin": null,
            "display": null,
            "left": null
          }
        },
        "28c90dc6393b45269478d80593af7512": {
          "model_module": "@jupyter-widgets/controls",
          "model_name": "ProgressStyleModel",
          "state": {
            "_view_name": "StyleView",
            "_model_name": "ProgressStyleModel",
            "description_width": "",
            "_view_module": "@jupyter-widgets/base",
            "_model_module_version": "1.5.0",
            "_view_count": null,
            "_view_module_version": "1.2.0",
            "bar_color": null,
            "_model_module": "@jupyter-widgets/controls"
          }
        },
        "16b2c6b471474c8d8d8752134a73acb3": {
          "model_module": "@jupyter-widgets/base",
          "model_name": "LayoutModel",
          "state": {
            "_view_name": "LayoutView",
            "grid_template_rows": null,
            "right": null,
            "justify_content": null,
            "_view_module": "@jupyter-widgets/base",
            "overflow": null,
            "_model_module_version": "1.2.0",
            "_view_count": null,
            "flex_flow": null,
            "width": null,
            "min_width": null,
            "border": null,
            "align_items": null,
            "bottom": null,
            "_model_module": "@jupyter-widgets/base",
            "top": null,
            "grid_column": null,
            "overflow_y": null,
            "overflow_x": null,
            "grid_auto_flow": null,
            "grid_area": null,
            "grid_template_columns": null,
            "flex": null,
            "_model_name": "LayoutModel",
            "justify_items": null,
            "grid_row": null,
            "max_height": null,
            "align_content": null,
            "visibility": null,
            "align_self": null,
            "height": null,
            "min_height": null,
            "padding": null,
            "grid_auto_rows": null,
            "grid_gap": null,
            "max_width": null,
            "order": null,
            "_view_module_version": "1.2.0",
            "grid_template_areas": null,
            "object_position": null,
            "object_fit": null,
            "grid_auto_columns": null,
            "margin": null,
            "display": null,
            "left": null
          }
        },
        "c0734739b7684ac9a946c83dbaf8f8d0": {
          "model_module": "@jupyter-widgets/controls",
          "model_name": "VBoxModel",
          "state": {
            "_view_name": "VBoxView",
            "_dom_classes": [],
            "_model_name": "VBoxModel",
            "_view_module": "@jupyter-widgets/controls",
            "_model_module_version": "1.5.0",
            "_view_count": null,
            "_view_module_version": "1.5.0",
            "box_style": "",
            "layout": "IPY_MODEL_95aa2f6185f14f00af1f0ab62f069403",
            "_model_module": "@jupyter-widgets/controls",
            "children": [
              "IPY_MODEL_9862b9e2d4334a408870b36b47328f4f",
              "IPY_MODEL_f52e20cc5718414d8132730e4551fd97"
            ]
          }
        },
        "95aa2f6185f14f00af1f0ab62f069403": {
          "model_module": "@jupyter-widgets/base",
          "model_name": "LayoutModel",
          "state": {
            "_view_name": "LayoutView",
            "grid_template_rows": null,
            "right": null,
            "justify_content": null,
            "_view_module": "@jupyter-widgets/base",
            "overflow": null,
            "_model_module_version": "1.2.0",
            "_view_count": null,
            "flex_flow": null,
            "width": null,
            "min_width": null,
            "border": null,
            "align_items": null,
            "bottom": null,
            "_model_module": "@jupyter-widgets/base",
            "top": null,
            "grid_column": null,
            "overflow_y": null,
            "overflow_x": null,
            "grid_auto_flow": null,
            "grid_area": null,
            "grid_template_columns": null,
            "flex": null,
            "_model_name": "LayoutModel",
            "justify_items": null,
            "grid_row": null,
            "max_height": null,
            "align_content": null,
            "visibility": null,
            "align_self": null,
            "height": null,
            "min_height": null,
            "padding": null,
            "grid_auto_rows": null,
            "grid_gap": null,
            "max_width": null,
            "order": null,
            "_view_module_version": "1.2.0",
            "grid_template_areas": null,
            "object_position": null,
            "object_fit": null,
            "grid_auto_columns": null,
            "margin": null,
            "display": null,
            "left": null
          }
        },
        "9862b9e2d4334a408870b36b47328f4f": {
          "model_module": "@jupyter-widgets/controls",
          "model_name": "LabelModel",
          "state": {
            "_view_name": "LabelView",
            "style": "IPY_MODEL_e3a1245ddd004850b7540fce2926837e",
            "_dom_classes": [],
            "description": "",
            "_model_name": "LabelModel",
            "placeholder": "​",
            "_view_module": "@jupyter-widgets/controls",
            "_model_module_version": "1.5.0",
            "value": " 5.39MB of 5.39MB uploaded (0.00MB deduped)\r",
            "_view_count": null,
            "_view_module_version": "1.5.0",
            "description_tooltip": null,
            "_model_module": "@jupyter-widgets/controls",
            "layout": "IPY_MODEL_12b2b9bde77e47e689dd11c068bf929d"
          }
        },
        "f52e20cc5718414d8132730e4551fd97": {
          "model_module": "@jupyter-widgets/controls",
          "model_name": "FloatProgressModel",
          "state": {
            "_view_name": "ProgressView",
            "style": "IPY_MODEL_0c07ea90e0444eae90aba4638b0749f7",
            "_dom_classes": [],
            "description": "",
            "_model_name": "FloatProgressModel",
            "bar_style": "",
            "max": 1,
            "_view_module": "@jupyter-widgets/controls",
            "_model_module_version": "1.5.0",
            "value": 1,
            "_view_count": null,
            "_view_module_version": "1.5.0",
            "orientation": "horizontal",
            "min": 0,
            "description_tooltip": null,
            "_model_module": "@jupyter-widgets/controls",
            "layout": "IPY_MODEL_87d30056fb0d499ba0bed4bfe4c86078"
          }
        },
        "e3a1245ddd004850b7540fce2926837e": {
          "model_module": "@jupyter-widgets/controls",
          "model_name": "DescriptionStyleModel",
          "state": {
            "_view_name": "StyleView",
            "_model_name": "DescriptionStyleModel",
            "description_width": "",
            "_view_module": "@jupyter-widgets/base",
            "_model_module_version": "1.5.0",
            "_view_count": null,
            "_view_module_version": "1.2.0",
            "_model_module": "@jupyter-widgets/controls"
          }
        },
        "12b2b9bde77e47e689dd11c068bf929d": {
          "model_module": "@jupyter-widgets/base",
          "model_name": "LayoutModel",
          "state": {
            "_view_name": "LayoutView",
            "grid_template_rows": null,
            "right": null,
            "justify_content": null,
            "_view_module": "@jupyter-widgets/base",
            "overflow": null,
            "_model_module_version": "1.2.0",
            "_view_count": null,
            "flex_flow": null,
            "width": null,
            "min_width": null,
            "border": null,
            "align_items": null,
            "bottom": null,
            "_model_module": "@jupyter-widgets/base",
            "top": null,
            "grid_column": null,
            "overflow_y": null,
            "overflow_x": null,
            "grid_auto_flow": null,
            "grid_area": null,
            "grid_template_columns": null,
            "flex": null,
            "_model_name": "LayoutModel",
            "justify_items": null,
            "grid_row": null,
            "max_height": null,
            "align_content": null,
            "visibility": null,
            "align_self": null,
            "height": null,
            "min_height": null,
            "padding": null,
            "grid_auto_rows": null,
            "grid_gap": null,
            "max_width": null,
            "order": null,
            "_view_module_version": "1.2.0",
            "grid_template_areas": null,
            "object_position": null,
            "object_fit": null,
            "grid_auto_columns": null,
            "margin": null,
            "display": null,
            "left": null
          }
        },
        "0c07ea90e0444eae90aba4638b0749f7": {
          "model_module": "@jupyter-widgets/controls",
          "model_name": "ProgressStyleModel",
          "state": {
            "_view_name": "StyleView",
            "_model_name": "ProgressStyleModel",
            "description_width": "",
            "_view_module": "@jupyter-widgets/base",
            "_model_module_version": "1.5.0",
            "_view_count": null,
            "_view_module_version": "1.2.0",
            "bar_color": null,
            "_model_module": "@jupyter-widgets/controls"
          }
        },
        "87d30056fb0d499ba0bed4bfe4c86078": {
          "model_module": "@jupyter-widgets/base",
          "model_name": "LayoutModel",
          "state": {
            "_view_name": "LayoutView",
            "grid_template_rows": null,
            "right": null,
            "justify_content": null,
            "_view_module": "@jupyter-widgets/base",
            "overflow": null,
            "_model_module_version": "1.2.0",
            "_view_count": null,
            "flex_flow": null,
            "width": null,
            "min_width": null,
            "border": null,
            "align_items": null,
            "bottom": null,
            "_model_module": "@jupyter-widgets/base",
            "top": null,
            "grid_column": null,
            "overflow_y": null,
            "overflow_x": null,
            "grid_auto_flow": null,
            "grid_area": null,
            "grid_template_columns": null,
            "flex": null,
            "_model_name": "LayoutModel",
            "justify_items": null,
            "grid_row": null,
            "max_height": null,
            "align_content": null,
            "visibility": null,
            "align_self": null,
            "height": null,
            "min_height": null,
            "padding": null,
            "grid_auto_rows": null,
            "grid_gap": null,
            "max_width": null,
            "order": null,
            "_view_module_version": "1.2.0",
            "grid_template_areas": null,
            "object_position": null,
            "object_fit": null,
            "grid_auto_columns": null,
            "margin": null,
            "display": null,
            "left": null
          }
        },
        "eeb8b789c6534831b5e84cd8df533ef5": {
          "model_module": "@jupyter-widgets/controls",
          "model_name": "VBoxModel",
          "state": {
            "_view_name": "VBoxView",
            "_dom_classes": [],
            "_model_name": "VBoxModel",
            "_view_module": "@jupyter-widgets/controls",
            "_model_module_version": "1.5.0",
            "_view_count": null,
            "_view_module_version": "1.5.0",
            "box_style": "",
            "layout": "IPY_MODEL_9ee1551235514a9e83758c932162d91c",
            "_model_module": "@jupyter-widgets/controls",
            "children": [
              "IPY_MODEL_78a91ffb5d2643c5979d62917068fb6f",
              "IPY_MODEL_b920ed41ea30459b9b7c8d795f02fd3d"
            ]
          }
        },
        "9ee1551235514a9e83758c932162d91c": {
          "model_module": "@jupyter-widgets/base",
          "model_name": "LayoutModel",
          "state": {
            "_view_name": "LayoutView",
            "grid_template_rows": null,
            "right": null,
            "justify_content": null,
            "_view_module": "@jupyter-widgets/base",
            "overflow": null,
            "_model_module_version": "1.2.0",
            "_view_count": null,
            "flex_flow": null,
            "width": null,
            "min_width": null,
            "border": null,
            "align_items": null,
            "bottom": null,
            "_model_module": "@jupyter-widgets/base",
            "top": null,
            "grid_column": null,
            "overflow_y": null,
            "overflow_x": null,
            "grid_auto_flow": null,
            "grid_area": null,
            "grid_template_columns": null,
            "flex": null,
            "_model_name": "LayoutModel",
            "justify_items": null,
            "grid_row": null,
            "max_height": null,
            "align_content": null,
            "visibility": null,
            "align_self": null,
            "height": null,
            "min_height": null,
            "padding": null,
            "grid_auto_rows": null,
            "grid_gap": null,
            "max_width": null,
            "order": null,
            "_view_module_version": "1.2.0",
            "grid_template_areas": null,
            "object_position": null,
            "object_fit": null,
            "grid_auto_columns": null,
            "margin": null,
            "display": null,
            "left": null
          }
        },
        "78a91ffb5d2643c5979d62917068fb6f": {
          "model_module": "@jupyter-widgets/controls",
          "model_name": "LabelModel",
          "state": {
            "_view_name": "LabelView",
            "style": "IPY_MODEL_4728babbb9be4fe5974f4c431423ec94",
            "_dom_classes": [],
            "description": "",
            "_model_name": "LabelModel",
            "placeholder": "​",
            "_view_module": "@jupyter-widgets/controls",
            "_model_module_version": "1.5.0",
            "value": " 5.40MB of 5.40MB uploaded (0.00MB deduped)\r",
            "_view_count": null,
            "_view_module_version": "1.5.0",
            "description_tooltip": null,
            "_model_module": "@jupyter-widgets/controls",
            "layout": "IPY_MODEL_e723d89dd54b415b9abc7b503b8baa42"
          }
        },
        "b920ed41ea30459b9b7c8d795f02fd3d": {
          "model_module": "@jupyter-widgets/controls",
          "model_name": "FloatProgressModel",
          "state": {
            "_view_name": "ProgressView",
            "style": "IPY_MODEL_e848673d1c78439683a144617290aefd",
            "_dom_classes": [],
            "description": "",
            "_model_name": "FloatProgressModel",
            "bar_style": "",
            "max": 1,
            "_view_module": "@jupyter-widgets/controls",
            "_model_module_version": "1.5.0",
            "value": 1,
            "_view_count": null,
            "_view_module_version": "1.5.0",
            "orientation": "horizontal",
            "min": 0,
            "description_tooltip": null,
            "_model_module": "@jupyter-widgets/controls",
            "layout": "IPY_MODEL_0a0720527f9842bab166fbba86b4617f"
          }
        },
        "4728babbb9be4fe5974f4c431423ec94": {
          "model_module": "@jupyter-widgets/controls",
          "model_name": "DescriptionStyleModel",
          "state": {
            "_view_name": "StyleView",
            "_model_name": "DescriptionStyleModel",
            "description_width": "",
            "_view_module": "@jupyter-widgets/base",
            "_model_module_version": "1.5.0",
            "_view_count": null,
            "_view_module_version": "1.2.0",
            "_model_module": "@jupyter-widgets/controls"
          }
        },
        "e723d89dd54b415b9abc7b503b8baa42": {
          "model_module": "@jupyter-widgets/base",
          "model_name": "LayoutModel",
          "state": {
            "_view_name": "LayoutView",
            "grid_template_rows": null,
            "right": null,
            "justify_content": null,
            "_view_module": "@jupyter-widgets/base",
            "overflow": null,
            "_model_module_version": "1.2.0",
            "_view_count": null,
            "flex_flow": null,
            "width": null,
            "min_width": null,
            "border": null,
            "align_items": null,
            "bottom": null,
            "_model_module": "@jupyter-widgets/base",
            "top": null,
            "grid_column": null,
            "overflow_y": null,
            "overflow_x": null,
            "grid_auto_flow": null,
            "grid_area": null,
            "grid_template_columns": null,
            "flex": null,
            "_model_name": "LayoutModel",
            "justify_items": null,
            "grid_row": null,
            "max_height": null,
            "align_content": null,
            "visibility": null,
            "align_self": null,
            "height": null,
            "min_height": null,
            "padding": null,
            "grid_auto_rows": null,
            "grid_gap": null,
            "max_width": null,
            "order": null,
            "_view_module_version": "1.2.0",
            "grid_template_areas": null,
            "object_position": null,
            "object_fit": null,
            "grid_auto_columns": null,
            "margin": null,
            "display": null,
            "left": null
          }
        },
        "e848673d1c78439683a144617290aefd": {
          "model_module": "@jupyter-widgets/controls",
          "model_name": "ProgressStyleModel",
          "state": {
            "_view_name": "StyleView",
            "_model_name": "ProgressStyleModel",
            "description_width": "",
            "_view_module": "@jupyter-widgets/base",
            "_model_module_version": "1.5.0",
            "_view_count": null,
            "_view_module_version": "1.2.0",
            "bar_color": null,
            "_model_module": "@jupyter-widgets/controls"
          }
        },
        "0a0720527f9842bab166fbba86b4617f": {
          "model_module": "@jupyter-widgets/base",
          "model_name": "LayoutModel",
          "state": {
            "_view_name": "LayoutView",
            "grid_template_rows": null,
            "right": null,
            "justify_content": null,
            "_view_module": "@jupyter-widgets/base",
            "overflow": null,
            "_model_module_version": "1.2.0",
            "_view_count": null,
            "flex_flow": null,
            "width": null,
            "min_width": null,
            "border": null,
            "align_items": null,
            "bottom": null,
            "_model_module": "@jupyter-widgets/base",
            "top": null,
            "grid_column": null,
            "overflow_y": null,
            "overflow_x": null,
            "grid_auto_flow": null,
            "grid_area": null,
            "grid_template_columns": null,
            "flex": null,
            "_model_name": "LayoutModel",
            "justify_items": null,
            "grid_row": null,
            "max_height": null,
            "align_content": null,
            "visibility": null,
            "align_self": null,
            "height": null,
            "min_height": null,
            "padding": null,
            "grid_auto_rows": null,
            "grid_gap": null,
            "max_width": null,
            "order": null,
            "_view_module_version": "1.2.0",
            "grid_template_areas": null,
            "object_position": null,
            "object_fit": null,
            "grid_auto_columns": null,
            "margin": null,
            "display": null,
            "left": null
          }
        },
        "5662dbf82b984ddfbf5bfb7a543061d5": {
          "model_module": "@jupyter-widgets/controls",
          "model_name": "VBoxModel",
          "state": {
            "_view_name": "VBoxView",
            "_dom_classes": [],
            "_model_name": "VBoxModel",
            "_view_module": "@jupyter-widgets/controls",
            "_model_module_version": "1.5.0",
            "_view_count": null,
            "_view_module_version": "1.5.0",
            "box_style": "",
            "layout": "IPY_MODEL_10965f086308437cbb61f9f38738afa6",
            "_model_module": "@jupyter-widgets/controls",
            "children": [
              "IPY_MODEL_6b71de7080c847fcbde8791882cbbc37",
              "IPY_MODEL_bc0d3bf6e3c149fdac4f54fce3992fb7"
            ]
          }
        },
        "10965f086308437cbb61f9f38738afa6": {
          "model_module": "@jupyter-widgets/base",
          "model_name": "LayoutModel",
          "state": {
            "_view_name": "LayoutView",
            "grid_template_rows": null,
            "right": null,
            "justify_content": null,
            "_view_module": "@jupyter-widgets/base",
            "overflow": null,
            "_model_module_version": "1.2.0",
            "_view_count": null,
            "flex_flow": null,
            "width": null,
            "min_width": null,
            "border": null,
            "align_items": null,
            "bottom": null,
            "_model_module": "@jupyter-widgets/base",
            "top": null,
            "grid_column": null,
            "overflow_y": null,
            "overflow_x": null,
            "grid_auto_flow": null,
            "grid_area": null,
            "grid_template_columns": null,
            "flex": null,
            "_model_name": "LayoutModel",
            "justify_items": null,
            "grid_row": null,
            "max_height": null,
            "align_content": null,
            "visibility": null,
            "align_self": null,
            "height": null,
            "min_height": null,
            "padding": null,
            "grid_auto_rows": null,
            "grid_gap": null,
            "max_width": null,
            "order": null,
            "_view_module_version": "1.2.0",
            "grid_template_areas": null,
            "object_position": null,
            "object_fit": null,
            "grid_auto_columns": null,
            "margin": null,
            "display": null,
            "left": null
          }
        },
        "6b71de7080c847fcbde8791882cbbc37": {
          "model_module": "@jupyter-widgets/controls",
          "model_name": "LabelModel",
          "state": {
            "_view_name": "LabelView",
            "style": "IPY_MODEL_05eaf249d69c4d97a7d3a63740c51039",
            "_dom_classes": [],
            "description": "",
            "_model_name": "LabelModel",
            "placeholder": "​",
            "_view_module": "@jupyter-widgets/controls",
            "_model_module_version": "1.5.0",
            "value": " 5.41MB of 5.41MB uploaded (0.00MB deduped)\r",
            "_view_count": null,
            "_view_module_version": "1.5.0",
            "description_tooltip": null,
            "_model_module": "@jupyter-widgets/controls",
            "layout": "IPY_MODEL_feef387252bf4c03b1d7630ff6b7dca3"
          }
        },
        "bc0d3bf6e3c149fdac4f54fce3992fb7": {
          "model_module": "@jupyter-widgets/controls",
          "model_name": "FloatProgressModel",
          "state": {
            "_view_name": "ProgressView",
            "style": "IPY_MODEL_fe5476c3ada34fa886403fea8da90057",
            "_dom_classes": [],
            "description": "",
            "_model_name": "FloatProgressModel",
            "bar_style": "",
            "max": 1,
            "_view_module": "@jupyter-widgets/controls",
            "_model_module_version": "1.5.0",
            "value": 1,
            "_view_count": null,
            "_view_module_version": "1.5.0",
            "orientation": "horizontal",
            "min": 0,
            "description_tooltip": null,
            "_model_module": "@jupyter-widgets/controls",
            "layout": "IPY_MODEL_ad970c6161344927adbfbca37806fc19"
          }
        },
        "05eaf249d69c4d97a7d3a63740c51039": {
          "model_module": "@jupyter-widgets/controls",
          "model_name": "DescriptionStyleModel",
          "state": {
            "_view_name": "StyleView",
            "_model_name": "DescriptionStyleModel",
            "description_width": "",
            "_view_module": "@jupyter-widgets/base",
            "_model_module_version": "1.5.0",
            "_view_count": null,
            "_view_module_version": "1.2.0",
            "_model_module": "@jupyter-widgets/controls"
          }
        },
        "feef387252bf4c03b1d7630ff6b7dca3": {
          "model_module": "@jupyter-widgets/base",
          "model_name": "LayoutModel",
          "state": {
            "_view_name": "LayoutView",
            "grid_template_rows": null,
            "right": null,
            "justify_content": null,
            "_view_module": "@jupyter-widgets/base",
            "overflow": null,
            "_model_module_version": "1.2.0",
            "_view_count": null,
            "flex_flow": null,
            "width": null,
            "min_width": null,
            "border": null,
            "align_items": null,
            "bottom": null,
            "_model_module": "@jupyter-widgets/base",
            "top": null,
            "grid_column": null,
            "overflow_y": null,
            "overflow_x": null,
            "grid_auto_flow": null,
            "grid_area": null,
            "grid_template_columns": null,
            "flex": null,
            "_model_name": "LayoutModel",
            "justify_items": null,
            "grid_row": null,
            "max_height": null,
            "align_content": null,
            "visibility": null,
            "align_self": null,
            "height": null,
            "min_height": null,
            "padding": null,
            "grid_auto_rows": null,
            "grid_gap": null,
            "max_width": null,
            "order": null,
            "_view_module_version": "1.2.0",
            "grid_template_areas": null,
            "object_position": null,
            "object_fit": null,
            "grid_auto_columns": null,
            "margin": null,
            "display": null,
            "left": null
          }
        },
        "fe5476c3ada34fa886403fea8da90057": {
          "model_module": "@jupyter-widgets/controls",
          "model_name": "ProgressStyleModel",
          "state": {
            "_view_name": "StyleView",
            "_model_name": "ProgressStyleModel",
            "description_width": "",
            "_view_module": "@jupyter-widgets/base",
            "_model_module_version": "1.5.0",
            "_view_count": null,
            "_view_module_version": "1.2.0",
            "bar_color": null,
            "_model_module": "@jupyter-widgets/controls"
          }
        },
        "ad970c6161344927adbfbca37806fc19": {
          "model_module": "@jupyter-widgets/base",
          "model_name": "LayoutModel",
          "state": {
            "_view_name": "LayoutView",
            "grid_template_rows": null,
            "right": null,
            "justify_content": null,
            "_view_module": "@jupyter-widgets/base",
            "overflow": null,
            "_model_module_version": "1.2.0",
            "_view_count": null,
            "flex_flow": null,
            "width": null,
            "min_width": null,
            "border": null,
            "align_items": null,
            "bottom": null,
            "_model_module": "@jupyter-widgets/base",
            "top": null,
            "grid_column": null,
            "overflow_y": null,
            "overflow_x": null,
            "grid_auto_flow": null,
            "grid_area": null,
            "grid_template_columns": null,
            "flex": null,
            "_model_name": "LayoutModel",
            "justify_items": null,
            "grid_row": null,
            "max_height": null,
            "align_content": null,
            "visibility": null,
            "align_self": null,
            "height": null,
            "min_height": null,
            "padding": null,
            "grid_auto_rows": null,
            "grid_gap": null,
            "max_width": null,
            "order": null,
            "_view_module_version": "1.2.0",
            "grid_template_areas": null,
            "object_position": null,
            "object_fit": null,
            "grid_auto_columns": null,
            "margin": null,
            "display": null,
            "left": null
          }
        },
        "1f0ab5f00d6e48988e032ba6789d0595": {
          "model_module": "@jupyter-widgets/controls",
          "model_name": "VBoxModel",
          "state": {
            "_view_name": "VBoxView",
            "_dom_classes": [],
            "_model_name": "VBoxModel",
            "_view_module": "@jupyter-widgets/controls",
            "_model_module_version": "1.5.0",
            "_view_count": null,
            "_view_module_version": "1.5.0",
            "box_style": "",
            "layout": "IPY_MODEL_46ab9d6b82ec40cc9e34596a1218e5dd",
            "_model_module": "@jupyter-widgets/controls",
            "children": [
              "IPY_MODEL_55fdba0908844adc811e290abba14e49",
              "IPY_MODEL_62f45d955e264b2caa63caceb024fa91"
            ]
          }
        },
        "46ab9d6b82ec40cc9e34596a1218e5dd": {
          "model_module": "@jupyter-widgets/base",
          "model_name": "LayoutModel",
          "state": {
            "_view_name": "LayoutView",
            "grid_template_rows": null,
            "right": null,
            "justify_content": null,
            "_view_module": "@jupyter-widgets/base",
            "overflow": null,
            "_model_module_version": "1.2.0",
            "_view_count": null,
            "flex_flow": null,
            "width": null,
            "min_width": null,
            "border": null,
            "align_items": null,
            "bottom": null,
            "_model_module": "@jupyter-widgets/base",
            "top": null,
            "grid_column": null,
            "overflow_y": null,
            "overflow_x": null,
            "grid_auto_flow": null,
            "grid_area": null,
            "grid_template_columns": null,
            "flex": null,
            "_model_name": "LayoutModel",
            "justify_items": null,
            "grid_row": null,
            "max_height": null,
            "align_content": null,
            "visibility": null,
            "align_self": null,
            "height": null,
            "min_height": null,
            "padding": null,
            "grid_auto_rows": null,
            "grid_gap": null,
            "max_width": null,
            "order": null,
            "_view_module_version": "1.2.0",
            "grid_template_areas": null,
            "object_position": null,
            "object_fit": null,
            "grid_auto_columns": null,
            "margin": null,
            "display": null,
            "left": null
          }
        },
        "55fdba0908844adc811e290abba14e49": {
          "model_module": "@jupyter-widgets/controls",
          "model_name": "LabelModel",
          "state": {
            "_view_name": "LabelView",
            "style": "IPY_MODEL_9ee5283e25b94de98372942b6cc6bf94",
            "_dom_classes": [],
            "description": "",
            "_model_name": "LabelModel",
            "placeholder": "​",
            "_view_module": "@jupyter-widgets/controls",
            "_model_module_version": "1.5.0",
            "value": " 5.42MB of 5.42MB uploaded (0.00MB deduped)\r",
            "_view_count": null,
            "_view_module_version": "1.5.0",
            "description_tooltip": null,
            "_model_module": "@jupyter-widgets/controls",
            "layout": "IPY_MODEL_7c9a7f25d0274eb2a18a012e7a2ac95d"
          }
        },
        "62f45d955e264b2caa63caceb024fa91": {
          "model_module": "@jupyter-widgets/controls",
          "model_name": "FloatProgressModel",
          "state": {
            "_view_name": "ProgressView",
            "style": "IPY_MODEL_1972988f59f94af483550d05c48b27db",
            "_dom_classes": [],
            "description": "",
            "_model_name": "FloatProgressModel",
            "bar_style": "",
            "max": 1,
            "_view_module": "@jupyter-widgets/controls",
            "_model_module_version": "1.5.0",
            "value": 1,
            "_view_count": null,
            "_view_module_version": "1.5.0",
            "orientation": "horizontal",
            "min": 0,
            "description_tooltip": null,
            "_model_module": "@jupyter-widgets/controls",
            "layout": "IPY_MODEL_aaec7e2f04b2404eb74e0bbbfd9c8890"
          }
        },
        "9ee5283e25b94de98372942b6cc6bf94": {
          "model_module": "@jupyter-widgets/controls",
          "model_name": "DescriptionStyleModel",
          "state": {
            "_view_name": "StyleView",
            "_model_name": "DescriptionStyleModel",
            "description_width": "",
            "_view_module": "@jupyter-widgets/base",
            "_model_module_version": "1.5.0",
            "_view_count": null,
            "_view_module_version": "1.2.0",
            "_model_module": "@jupyter-widgets/controls"
          }
        },
        "7c9a7f25d0274eb2a18a012e7a2ac95d": {
          "model_module": "@jupyter-widgets/base",
          "model_name": "LayoutModel",
          "state": {
            "_view_name": "LayoutView",
            "grid_template_rows": null,
            "right": null,
            "justify_content": null,
            "_view_module": "@jupyter-widgets/base",
            "overflow": null,
            "_model_module_version": "1.2.0",
            "_view_count": null,
            "flex_flow": null,
            "width": null,
            "min_width": null,
            "border": null,
            "align_items": null,
            "bottom": null,
            "_model_module": "@jupyter-widgets/base",
            "top": null,
            "grid_column": null,
            "overflow_y": null,
            "overflow_x": null,
            "grid_auto_flow": null,
            "grid_area": null,
            "grid_template_columns": null,
            "flex": null,
            "_model_name": "LayoutModel",
            "justify_items": null,
            "grid_row": null,
            "max_height": null,
            "align_content": null,
            "visibility": null,
            "align_self": null,
            "height": null,
            "min_height": null,
            "padding": null,
            "grid_auto_rows": null,
            "grid_gap": null,
            "max_width": null,
            "order": null,
            "_view_module_version": "1.2.0",
            "grid_template_areas": null,
            "object_position": null,
            "object_fit": null,
            "grid_auto_columns": null,
            "margin": null,
            "display": null,
            "left": null
          }
        },
        "1972988f59f94af483550d05c48b27db": {
          "model_module": "@jupyter-widgets/controls",
          "model_name": "ProgressStyleModel",
          "state": {
            "_view_name": "StyleView",
            "_model_name": "ProgressStyleModel",
            "description_width": "",
            "_view_module": "@jupyter-widgets/base",
            "_model_module_version": "1.5.0",
            "_view_count": null,
            "_view_module_version": "1.2.0",
            "bar_color": null,
            "_model_module": "@jupyter-widgets/controls"
          }
        },
        "aaec7e2f04b2404eb74e0bbbfd9c8890": {
          "model_module": "@jupyter-widgets/base",
          "model_name": "LayoutModel",
          "state": {
            "_view_name": "LayoutView",
            "grid_template_rows": null,
            "right": null,
            "justify_content": null,
            "_view_module": "@jupyter-widgets/base",
            "overflow": null,
            "_model_module_version": "1.2.0",
            "_view_count": null,
            "flex_flow": null,
            "width": null,
            "min_width": null,
            "border": null,
            "align_items": null,
            "bottom": null,
            "_model_module": "@jupyter-widgets/base",
            "top": null,
            "grid_column": null,
            "overflow_y": null,
            "overflow_x": null,
            "grid_auto_flow": null,
            "grid_area": null,
            "grid_template_columns": null,
            "flex": null,
            "_model_name": "LayoutModel",
            "justify_items": null,
            "grid_row": null,
            "max_height": null,
            "align_content": null,
            "visibility": null,
            "align_self": null,
            "height": null,
            "min_height": null,
            "padding": null,
            "grid_auto_rows": null,
            "grid_gap": null,
            "max_width": null,
            "order": null,
            "_view_module_version": "1.2.0",
            "grid_template_areas": null,
            "object_position": null,
            "object_fit": null,
            "grid_auto_columns": null,
            "margin": null,
            "display": null,
            "left": null
          }
        },
        "f36186d8ea8d4b6298ebe9c4f134e133": {
          "model_module": "@jupyter-widgets/controls",
          "model_name": "VBoxModel",
          "state": {
            "_view_name": "VBoxView",
            "_dom_classes": [],
            "_model_name": "VBoxModel",
            "_view_module": "@jupyter-widgets/controls",
            "_model_module_version": "1.5.0",
            "_view_count": null,
            "_view_module_version": "1.5.0",
            "box_style": "",
            "layout": "IPY_MODEL_919782343f3744e89a2adfcffaefd222",
            "_model_module": "@jupyter-widgets/controls",
            "children": [
              "IPY_MODEL_2f9cb5f8770940aeab6dacf9097a4166",
              "IPY_MODEL_342e36d23d894f458feff6bc45c9e55a"
            ]
          }
        },
        "919782343f3744e89a2adfcffaefd222": {
          "model_module": "@jupyter-widgets/base",
          "model_name": "LayoutModel",
          "state": {
            "_view_name": "LayoutView",
            "grid_template_rows": null,
            "right": null,
            "justify_content": null,
            "_view_module": "@jupyter-widgets/base",
            "overflow": null,
            "_model_module_version": "1.2.0",
            "_view_count": null,
            "flex_flow": null,
            "width": null,
            "min_width": null,
            "border": null,
            "align_items": null,
            "bottom": null,
            "_model_module": "@jupyter-widgets/base",
            "top": null,
            "grid_column": null,
            "overflow_y": null,
            "overflow_x": null,
            "grid_auto_flow": null,
            "grid_area": null,
            "grid_template_columns": null,
            "flex": null,
            "_model_name": "LayoutModel",
            "justify_items": null,
            "grid_row": null,
            "max_height": null,
            "align_content": null,
            "visibility": null,
            "align_self": null,
            "height": null,
            "min_height": null,
            "padding": null,
            "grid_auto_rows": null,
            "grid_gap": null,
            "max_width": null,
            "order": null,
            "_view_module_version": "1.2.0",
            "grid_template_areas": null,
            "object_position": null,
            "object_fit": null,
            "grid_auto_columns": null,
            "margin": null,
            "display": null,
            "left": null
          }
        },
        "2f9cb5f8770940aeab6dacf9097a4166": {
          "model_module": "@jupyter-widgets/controls",
          "model_name": "LabelModel",
          "state": {
            "_view_name": "LabelView",
            "style": "IPY_MODEL_9f5f0d6e6e96418782c81f0c0c271f1d",
            "_dom_classes": [],
            "description": "",
            "_model_name": "LabelModel",
            "placeholder": "​",
            "_view_module": "@jupyter-widgets/controls",
            "_model_module_version": "1.5.0",
            "value": " 5.44MB of 5.44MB uploaded (0.00MB deduped)\r",
            "_view_count": null,
            "_view_module_version": "1.5.0",
            "description_tooltip": null,
            "_model_module": "@jupyter-widgets/controls",
            "layout": "IPY_MODEL_48bb7ee9ef7c4833b7e7b5af55537e91"
          }
        },
        "342e36d23d894f458feff6bc45c9e55a": {
          "model_module": "@jupyter-widgets/controls",
          "model_name": "FloatProgressModel",
          "state": {
            "_view_name": "ProgressView",
            "style": "IPY_MODEL_d51a6b7604f24f268537c664911c826d",
            "_dom_classes": [],
            "description": "",
            "_model_name": "FloatProgressModel",
            "bar_style": "",
            "max": 1,
            "_view_module": "@jupyter-widgets/controls",
            "_model_module_version": "1.5.0",
            "value": 1,
            "_view_count": null,
            "_view_module_version": "1.5.0",
            "orientation": "horizontal",
            "min": 0,
            "description_tooltip": null,
            "_model_module": "@jupyter-widgets/controls",
            "layout": "IPY_MODEL_f0c5971ab7704c30b19b6de39b73f111"
          }
        },
        "9f5f0d6e6e96418782c81f0c0c271f1d": {
          "model_module": "@jupyter-widgets/controls",
          "model_name": "DescriptionStyleModel",
          "state": {
            "_view_name": "StyleView",
            "_model_name": "DescriptionStyleModel",
            "description_width": "",
            "_view_module": "@jupyter-widgets/base",
            "_model_module_version": "1.5.0",
            "_view_count": null,
            "_view_module_version": "1.2.0",
            "_model_module": "@jupyter-widgets/controls"
          }
        },
        "48bb7ee9ef7c4833b7e7b5af55537e91": {
          "model_module": "@jupyter-widgets/base",
          "model_name": "LayoutModel",
          "state": {
            "_view_name": "LayoutView",
            "grid_template_rows": null,
            "right": null,
            "justify_content": null,
            "_view_module": "@jupyter-widgets/base",
            "overflow": null,
            "_model_module_version": "1.2.0",
            "_view_count": null,
            "flex_flow": null,
            "width": null,
            "min_width": null,
            "border": null,
            "align_items": null,
            "bottom": null,
            "_model_module": "@jupyter-widgets/base",
            "top": null,
            "grid_column": null,
            "overflow_y": null,
            "overflow_x": null,
            "grid_auto_flow": null,
            "grid_area": null,
            "grid_template_columns": null,
            "flex": null,
            "_model_name": "LayoutModel",
            "justify_items": null,
            "grid_row": null,
            "max_height": null,
            "align_content": null,
            "visibility": null,
            "align_self": null,
            "height": null,
            "min_height": null,
            "padding": null,
            "grid_auto_rows": null,
            "grid_gap": null,
            "max_width": null,
            "order": null,
            "_view_module_version": "1.2.0",
            "grid_template_areas": null,
            "object_position": null,
            "object_fit": null,
            "grid_auto_columns": null,
            "margin": null,
            "display": null,
            "left": null
          }
        },
        "d51a6b7604f24f268537c664911c826d": {
          "model_module": "@jupyter-widgets/controls",
          "model_name": "ProgressStyleModel",
          "state": {
            "_view_name": "StyleView",
            "_model_name": "ProgressStyleModel",
            "description_width": "",
            "_view_module": "@jupyter-widgets/base",
            "_model_module_version": "1.5.0",
            "_view_count": null,
            "_view_module_version": "1.2.0",
            "bar_color": null,
            "_model_module": "@jupyter-widgets/controls"
          }
        },
        "f0c5971ab7704c30b19b6de39b73f111": {
          "model_module": "@jupyter-widgets/base",
          "model_name": "LayoutModel",
          "state": {
            "_view_name": "LayoutView",
            "grid_template_rows": null,
            "right": null,
            "justify_content": null,
            "_view_module": "@jupyter-widgets/base",
            "overflow": null,
            "_model_module_version": "1.2.0",
            "_view_count": null,
            "flex_flow": null,
            "width": null,
            "min_width": null,
            "border": null,
            "align_items": null,
            "bottom": null,
            "_model_module": "@jupyter-widgets/base",
            "top": null,
            "grid_column": null,
            "overflow_y": null,
            "overflow_x": null,
            "grid_auto_flow": null,
            "grid_area": null,
            "grid_template_columns": null,
            "flex": null,
            "_model_name": "LayoutModel",
            "justify_items": null,
            "grid_row": null,
            "max_height": null,
            "align_content": null,
            "visibility": null,
            "align_self": null,
            "height": null,
            "min_height": null,
            "padding": null,
            "grid_auto_rows": null,
            "grid_gap": null,
            "max_width": null,
            "order": null,
            "_view_module_version": "1.2.0",
            "grid_template_areas": null,
            "object_position": null,
            "object_fit": null,
            "grid_auto_columns": null,
            "margin": null,
            "display": null,
            "left": null
          }
        },
        "e670836e1d1944dcac15bddc8267719a": {
          "model_module": "@jupyter-widgets/controls",
          "model_name": "VBoxModel",
          "state": {
            "_view_name": "VBoxView",
            "_dom_classes": [],
            "_model_name": "VBoxModel",
            "_view_module": "@jupyter-widgets/controls",
            "_model_module_version": "1.5.0",
            "_view_count": null,
            "_view_module_version": "1.5.0",
            "box_style": "",
            "layout": "IPY_MODEL_d5f090334fb34a45aff6c12ebae332f7",
            "_model_module": "@jupyter-widgets/controls",
            "children": [
              "IPY_MODEL_84595f17106b4579ba57a224b9bdd338",
              "IPY_MODEL_00bdda9fcbd5480fbe57fa7648e23122"
            ]
          }
        },
        "d5f090334fb34a45aff6c12ebae332f7": {
          "model_module": "@jupyter-widgets/base",
          "model_name": "LayoutModel",
          "state": {
            "_view_name": "LayoutView",
            "grid_template_rows": null,
            "right": null,
            "justify_content": null,
            "_view_module": "@jupyter-widgets/base",
            "overflow": null,
            "_model_module_version": "1.2.0",
            "_view_count": null,
            "flex_flow": null,
            "width": null,
            "min_width": null,
            "border": null,
            "align_items": null,
            "bottom": null,
            "_model_module": "@jupyter-widgets/base",
            "top": null,
            "grid_column": null,
            "overflow_y": null,
            "overflow_x": null,
            "grid_auto_flow": null,
            "grid_area": null,
            "grid_template_columns": null,
            "flex": null,
            "_model_name": "LayoutModel",
            "justify_items": null,
            "grid_row": null,
            "max_height": null,
            "align_content": null,
            "visibility": null,
            "align_self": null,
            "height": null,
            "min_height": null,
            "padding": null,
            "grid_auto_rows": null,
            "grid_gap": null,
            "max_width": null,
            "order": null,
            "_view_module_version": "1.2.0",
            "grid_template_areas": null,
            "object_position": null,
            "object_fit": null,
            "grid_auto_columns": null,
            "margin": null,
            "display": null,
            "left": null
          }
        },
        "84595f17106b4579ba57a224b9bdd338": {
          "model_module": "@jupyter-widgets/controls",
          "model_name": "LabelModel",
          "state": {
            "_view_name": "LabelView",
            "style": "IPY_MODEL_c5778d4b4b6d4a66b55728a6cfe13007",
            "_dom_classes": [],
            "description": "",
            "_model_name": "LabelModel",
            "placeholder": "​",
            "_view_module": "@jupyter-widgets/controls",
            "_model_module_version": "1.5.0",
            "value": " 5.45MB of 5.45MB uploaded (0.00MB deduped)\r",
            "_view_count": null,
            "_view_module_version": "1.5.0",
            "description_tooltip": null,
            "_model_module": "@jupyter-widgets/controls",
            "layout": "IPY_MODEL_61eeb4a1871545bf9ee83c64c71fcae2"
          }
        },
        "00bdda9fcbd5480fbe57fa7648e23122": {
          "model_module": "@jupyter-widgets/controls",
          "model_name": "FloatProgressModel",
          "state": {
            "_view_name": "ProgressView",
            "style": "IPY_MODEL_1034877cd84049a6a1f373a4f7f5a31c",
            "_dom_classes": [],
            "description": "",
            "_model_name": "FloatProgressModel",
            "bar_style": "",
            "max": 1,
            "_view_module": "@jupyter-widgets/controls",
            "_model_module_version": "1.5.0",
            "value": 1,
            "_view_count": null,
            "_view_module_version": "1.5.0",
            "orientation": "horizontal",
            "min": 0,
            "description_tooltip": null,
            "_model_module": "@jupyter-widgets/controls",
            "layout": "IPY_MODEL_359225538dcf4c859366b11e9b0cdeca"
          }
        },
        "c5778d4b4b6d4a66b55728a6cfe13007": {
          "model_module": "@jupyter-widgets/controls",
          "model_name": "DescriptionStyleModel",
          "state": {
            "_view_name": "StyleView",
            "_model_name": "DescriptionStyleModel",
            "description_width": "",
            "_view_module": "@jupyter-widgets/base",
            "_model_module_version": "1.5.0",
            "_view_count": null,
            "_view_module_version": "1.2.0",
            "_model_module": "@jupyter-widgets/controls"
          }
        },
        "61eeb4a1871545bf9ee83c64c71fcae2": {
          "model_module": "@jupyter-widgets/base",
          "model_name": "LayoutModel",
          "state": {
            "_view_name": "LayoutView",
            "grid_template_rows": null,
            "right": null,
            "justify_content": null,
            "_view_module": "@jupyter-widgets/base",
            "overflow": null,
            "_model_module_version": "1.2.0",
            "_view_count": null,
            "flex_flow": null,
            "width": null,
            "min_width": null,
            "border": null,
            "align_items": null,
            "bottom": null,
            "_model_module": "@jupyter-widgets/base",
            "top": null,
            "grid_column": null,
            "overflow_y": null,
            "overflow_x": null,
            "grid_auto_flow": null,
            "grid_area": null,
            "grid_template_columns": null,
            "flex": null,
            "_model_name": "LayoutModel",
            "justify_items": null,
            "grid_row": null,
            "max_height": null,
            "align_content": null,
            "visibility": null,
            "align_self": null,
            "height": null,
            "min_height": null,
            "padding": null,
            "grid_auto_rows": null,
            "grid_gap": null,
            "max_width": null,
            "order": null,
            "_view_module_version": "1.2.0",
            "grid_template_areas": null,
            "object_position": null,
            "object_fit": null,
            "grid_auto_columns": null,
            "margin": null,
            "display": null,
            "left": null
          }
        },
        "1034877cd84049a6a1f373a4f7f5a31c": {
          "model_module": "@jupyter-widgets/controls",
          "model_name": "ProgressStyleModel",
          "state": {
            "_view_name": "StyleView",
            "_model_name": "ProgressStyleModel",
            "description_width": "",
            "_view_module": "@jupyter-widgets/base",
            "_model_module_version": "1.5.0",
            "_view_count": null,
            "_view_module_version": "1.2.0",
            "bar_color": null,
            "_model_module": "@jupyter-widgets/controls"
          }
        },
        "359225538dcf4c859366b11e9b0cdeca": {
          "model_module": "@jupyter-widgets/base",
          "model_name": "LayoutModel",
          "state": {
            "_view_name": "LayoutView",
            "grid_template_rows": null,
            "right": null,
            "justify_content": null,
            "_view_module": "@jupyter-widgets/base",
            "overflow": null,
            "_model_module_version": "1.2.0",
            "_view_count": null,
            "flex_flow": null,
            "width": null,
            "min_width": null,
            "border": null,
            "align_items": null,
            "bottom": null,
            "_model_module": "@jupyter-widgets/base",
            "top": null,
            "grid_column": null,
            "overflow_y": null,
            "overflow_x": null,
            "grid_auto_flow": null,
            "grid_area": null,
            "grid_template_columns": null,
            "flex": null,
            "_model_name": "LayoutModel",
            "justify_items": null,
            "grid_row": null,
            "max_height": null,
            "align_content": null,
            "visibility": null,
            "align_self": null,
            "height": null,
            "min_height": null,
            "padding": null,
            "grid_auto_rows": null,
            "grid_gap": null,
            "max_width": null,
            "order": null,
            "_view_module_version": "1.2.0",
            "grid_template_areas": null,
            "object_position": null,
            "object_fit": null,
            "grid_auto_columns": null,
            "margin": null,
            "display": null,
            "left": null
          }
        },
        "f7034f324cfc43649a8e442db9a37fba": {
          "model_module": "@jupyter-widgets/controls",
          "model_name": "VBoxModel",
          "state": {
            "_view_name": "VBoxView",
            "_dom_classes": [],
            "_model_name": "VBoxModel",
            "_view_module": "@jupyter-widgets/controls",
            "_model_module_version": "1.5.0",
            "_view_count": null,
            "_view_module_version": "1.5.0",
            "box_style": "",
            "layout": "IPY_MODEL_b7bf54272083492cb36f397d985907d5",
            "_model_module": "@jupyter-widgets/controls",
            "children": [
              "IPY_MODEL_36f7372e64244a919631e8de0e928136",
              "IPY_MODEL_c3436369b8ff41aeb3e7b9fb5d7cc8de"
            ]
          }
        },
        "b7bf54272083492cb36f397d985907d5": {
          "model_module": "@jupyter-widgets/base",
          "model_name": "LayoutModel",
          "state": {
            "_view_name": "LayoutView",
            "grid_template_rows": null,
            "right": null,
            "justify_content": null,
            "_view_module": "@jupyter-widgets/base",
            "overflow": null,
            "_model_module_version": "1.2.0",
            "_view_count": null,
            "flex_flow": null,
            "width": null,
            "min_width": null,
            "border": null,
            "align_items": null,
            "bottom": null,
            "_model_module": "@jupyter-widgets/base",
            "top": null,
            "grid_column": null,
            "overflow_y": null,
            "overflow_x": null,
            "grid_auto_flow": null,
            "grid_area": null,
            "grid_template_columns": null,
            "flex": null,
            "_model_name": "LayoutModel",
            "justify_items": null,
            "grid_row": null,
            "max_height": null,
            "align_content": null,
            "visibility": null,
            "align_self": null,
            "height": null,
            "min_height": null,
            "padding": null,
            "grid_auto_rows": null,
            "grid_gap": null,
            "max_width": null,
            "order": null,
            "_view_module_version": "1.2.0",
            "grid_template_areas": null,
            "object_position": null,
            "object_fit": null,
            "grid_auto_columns": null,
            "margin": null,
            "display": null,
            "left": null
          }
        },
        "36f7372e64244a919631e8de0e928136": {
          "model_module": "@jupyter-widgets/controls",
          "model_name": "LabelModel",
          "state": {
            "_view_name": "LabelView",
            "style": "IPY_MODEL_b88cc83f723144aaba14a741c9eac2a9",
            "_dom_classes": [],
            "description": "",
            "_model_name": "LabelModel",
            "placeholder": "​",
            "_view_module": "@jupyter-widgets/controls",
            "_model_module_version": "1.5.0",
            "value": " 5.46MB of 5.46MB uploaded (0.00MB deduped)\r",
            "_view_count": null,
            "_view_module_version": "1.5.0",
            "description_tooltip": null,
            "_model_module": "@jupyter-widgets/controls",
            "layout": "IPY_MODEL_00099eff791b43488dc80702139f33c8"
          }
        },
        "c3436369b8ff41aeb3e7b9fb5d7cc8de": {
          "model_module": "@jupyter-widgets/controls",
          "model_name": "FloatProgressModel",
          "state": {
            "_view_name": "ProgressView",
            "style": "IPY_MODEL_b97661fd0f09450c8bffaff267c785a2",
            "_dom_classes": [],
            "description": "",
            "_model_name": "FloatProgressModel",
            "bar_style": "",
            "max": 1,
            "_view_module": "@jupyter-widgets/controls",
            "_model_module_version": "1.5.0",
            "value": 1,
            "_view_count": null,
            "_view_module_version": "1.5.0",
            "orientation": "horizontal",
            "min": 0,
            "description_tooltip": null,
            "_model_module": "@jupyter-widgets/controls",
            "layout": "IPY_MODEL_718361f8c72444b0b3c2e535191c4803"
          }
        },
        "b88cc83f723144aaba14a741c9eac2a9": {
          "model_module": "@jupyter-widgets/controls",
          "model_name": "DescriptionStyleModel",
          "state": {
            "_view_name": "StyleView",
            "_model_name": "DescriptionStyleModel",
            "description_width": "",
            "_view_module": "@jupyter-widgets/base",
            "_model_module_version": "1.5.0",
            "_view_count": null,
            "_view_module_version": "1.2.0",
            "_model_module": "@jupyter-widgets/controls"
          }
        },
        "00099eff791b43488dc80702139f33c8": {
          "model_module": "@jupyter-widgets/base",
          "model_name": "LayoutModel",
          "state": {
            "_view_name": "LayoutView",
            "grid_template_rows": null,
            "right": null,
            "justify_content": null,
            "_view_module": "@jupyter-widgets/base",
            "overflow": null,
            "_model_module_version": "1.2.0",
            "_view_count": null,
            "flex_flow": null,
            "width": null,
            "min_width": null,
            "border": null,
            "align_items": null,
            "bottom": null,
            "_model_module": "@jupyter-widgets/base",
            "top": null,
            "grid_column": null,
            "overflow_y": null,
            "overflow_x": null,
            "grid_auto_flow": null,
            "grid_area": null,
            "grid_template_columns": null,
            "flex": null,
            "_model_name": "LayoutModel",
            "justify_items": null,
            "grid_row": null,
            "max_height": null,
            "align_content": null,
            "visibility": null,
            "align_self": null,
            "height": null,
            "min_height": null,
            "padding": null,
            "grid_auto_rows": null,
            "grid_gap": null,
            "max_width": null,
            "order": null,
            "_view_module_version": "1.2.0",
            "grid_template_areas": null,
            "object_position": null,
            "object_fit": null,
            "grid_auto_columns": null,
            "margin": null,
            "display": null,
            "left": null
          }
        },
        "b97661fd0f09450c8bffaff267c785a2": {
          "model_module": "@jupyter-widgets/controls",
          "model_name": "ProgressStyleModel",
          "state": {
            "_view_name": "StyleView",
            "_model_name": "ProgressStyleModel",
            "description_width": "",
            "_view_module": "@jupyter-widgets/base",
            "_model_module_version": "1.5.0",
            "_view_count": null,
            "_view_module_version": "1.2.0",
            "bar_color": null,
            "_model_module": "@jupyter-widgets/controls"
          }
        },
        "718361f8c72444b0b3c2e535191c4803": {
          "model_module": "@jupyter-widgets/base",
          "model_name": "LayoutModel",
          "state": {
            "_view_name": "LayoutView",
            "grid_template_rows": null,
            "right": null,
            "justify_content": null,
            "_view_module": "@jupyter-widgets/base",
            "overflow": null,
            "_model_module_version": "1.2.0",
            "_view_count": null,
            "flex_flow": null,
            "width": null,
            "min_width": null,
            "border": null,
            "align_items": null,
            "bottom": null,
            "_model_module": "@jupyter-widgets/base",
            "top": null,
            "grid_column": null,
            "overflow_y": null,
            "overflow_x": null,
            "grid_auto_flow": null,
            "grid_area": null,
            "grid_template_columns": null,
            "flex": null,
            "_model_name": "LayoutModel",
            "justify_items": null,
            "grid_row": null,
            "max_height": null,
            "align_content": null,
            "visibility": null,
            "align_self": null,
            "height": null,
            "min_height": null,
            "padding": null,
            "grid_auto_rows": null,
            "grid_gap": null,
            "max_width": null,
            "order": null,
            "_view_module_version": "1.2.0",
            "grid_template_areas": null,
            "object_position": null,
            "object_fit": null,
            "grid_auto_columns": null,
            "margin": null,
            "display": null,
            "left": null
          }
        },
        "8c5438321e3f478885e903221c010585": {
          "model_module": "@jupyter-widgets/controls",
          "model_name": "VBoxModel",
          "state": {
            "_view_name": "VBoxView",
            "_dom_classes": [],
            "_model_name": "VBoxModel",
            "_view_module": "@jupyter-widgets/controls",
            "_model_module_version": "1.5.0",
            "_view_count": null,
            "_view_module_version": "1.5.0",
            "box_style": "",
            "layout": "IPY_MODEL_4f6cb07e27de49a08b306b352802e1e4",
            "_model_module": "@jupyter-widgets/controls",
            "children": [
              "IPY_MODEL_3a57b835b88c441a80e12fd925086e9a",
              "IPY_MODEL_f5552f4c69684bd4a225e91a50f9aceb"
            ]
          }
        },
        "4f6cb07e27de49a08b306b352802e1e4": {
          "model_module": "@jupyter-widgets/base",
          "model_name": "LayoutModel",
          "state": {
            "_view_name": "LayoutView",
            "grid_template_rows": null,
            "right": null,
            "justify_content": null,
            "_view_module": "@jupyter-widgets/base",
            "overflow": null,
            "_model_module_version": "1.2.0",
            "_view_count": null,
            "flex_flow": null,
            "width": null,
            "min_width": null,
            "border": null,
            "align_items": null,
            "bottom": null,
            "_model_module": "@jupyter-widgets/base",
            "top": null,
            "grid_column": null,
            "overflow_y": null,
            "overflow_x": null,
            "grid_auto_flow": null,
            "grid_area": null,
            "grid_template_columns": null,
            "flex": null,
            "_model_name": "LayoutModel",
            "justify_items": null,
            "grid_row": null,
            "max_height": null,
            "align_content": null,
            "visibility": null,
            "align_self": null,
            "height": null,
            "min_height": null,
            "padding": null,
            "grid_auto_rows": null,
            "grid_gap": null,
            "max_width": null,
            "order": null,
            "_view_module_version": "1.2.0",
            "grid_template_areas": null,
            "object_position": null,
            "object_fit": null,
            "grid_auto_columns": null,
            "margin": null,
            "display": null,
            "left": null
          }
        },
        "3a57b835b88c441a80e12fd925086e9a": {
          "model_module": "@jupyter-widgets/controls",
          "model_name": "LabelModel",
          "state": {
            "_view_name": "LabelView",
            "style": "IPY_MODEL_2c9c69d05f49443b817a981f4be0174a",
            "_dom_classes": [],
            "description": "",
            "_model_name": "LabelModel",
            "placeholder": "​",
            "_view_module": "@jupyter-widgets/controls",
            "_model_module_version": "1.5.0",
            "value": " 5.47MB of 5.47MB uploaded (0.00MB deduped)\r",
            "_view_count": null,
            "_view_module_version": "1.5.0",
            "description_tooltip": null,
            "_model_module": "@jupyter-widgets/controls",
            "layout": "IPY_MODEL_215a03cbae7e499c9f95c1c8b1352ba5"
          }
        },
        "f5552f4c69684bd4a225e91a50f9aceb": {
          "model_module": "@jupyter-widgets/controls",
          "model_name": "FloatProgressModel",
          "state": {
            "_view_name": "ProgressView",
            "style": "IPY_MODEL_03497176179f442db98890e2fb81b5ca",
            "_dom_classes": [],
            "description": "",
            "_model_name": "FloatProgressModel",
            "bar_style": "",
            "max": 1,
            "_view_module": "@jupyter-widgets/controls",
            "_model_module_version": "1.5.0",
            "value": 1,
            "_view_count": null,
            "_view_module_version": "1.5.0",
            "orientation": "horizontal",
            "min": 0,
            "description_tooltip": null,
            "_model_module": "@jupyter-widgets/controls",
            "layout": "IPY_MODEL_3a255c92a32d429fa8105a6e982c38d0"
          }
        },
        "2c9c69d05f49443b817a981f4be0174a": {
          "model_module": "@jupyter-widgets/controls",
          "model_name": "DescriptionStyleModel",
          "state": {
            "_view_name": "StyleView",
            "_model_name": "DescriptionStyleModel",
            "description_width": "",
            "_view_module": "@jupyter-widgets/base",
            "_model_module_version": "1.5.0",
            "_view_count": null,
            "_view_module_version": "1.2.0",
            "_model_module": "@jupyter-widgets/controls"
          }
        },
        "215a03cbae7e499c9f95c1c8b1352ba5": {
          "model_module": "@jupyter-widgets/base",
          "model_name": "LayoutModel",
          "state": {
            "_view_name": "LayoutView",
            "grid_template_rows": null,
            "right": null,
            "justify_content": null,
            "_view_module": "@jupyter-widgets/base",
            "overflow": null,
            "_model_module_version": "1.2.0",
            "_view_count": null,
            "flex_flow": null,
            "width": null,
            "min_width": null,
            "border": null,
            "align_items": null,
            "bottom": null,
            "_model_module": "@jupyter-widgets/base",
            "top": null,
            "grid_column": null,
            "overflow_y": null,
            "overflow_x": null,
            "grid_auto_flow": null,
            "grid_area": null,
            "grid_template_columns": null,
            "flex": null,
            "_model_name": "LayoutModel",
            "justify_items": null,
            "grid_row": null,
            "max_height": null,
            "align_content": null,
            "visibility": null,
            "align_self": null,
            "height": null,
            "min_height": null,
            "padding": null,
            "grid_auto_rows": null,
            "grid_gap": null,
            "max_width": null,
            "order": null,
            "_view_module_version": "1.2.0",
            "grid_template_areas": null,
            "object_position": null,
            "object_fit": null,
            "grid_auto_columns": null,
            "margin": null,
            "display": null,
            "left": null
          }
        },
        "03497176179f442db98890e2fb81b5ca": {
          "model_module": "@jupyter-widgets/controls",
          "model_name": "ProgressStyleModel",
          "state": {
            "_view_name": "StyleView",
            "_model_name": "ProgressStyleModel",
            "description_width": "",
            "_view_module": "@jupyter-widgets/base",
            "_model_module_version": "1.5.0",
            "_view_count": null,
            "_view_module_version": "1.2.0",
            "bar_color": null,
            "_model_module": "@jupyter-widgets/controls"
          }
        },
        "3a255c92a32d429fa8105a6e982c38d0": {
          "model_module": "@jupyter-widgets/base",
          "model_name": "LayoutModel",
          "state": {
            "_view_name": "LayoutView",
            "grid_template_rows": null,
            "right": null,
            "justify_content": null,
            "_view_module": "@jupyter-widgets/base",
            "overflow": null,
            "_model_module_version": "1.2.0",
            "_view_count": null,
            "flex_flow": null,
            "width": null,
            "min_width": null,
            "border": null,
            "align_items": null,
            "bottom": null,
            "_model_module": "@jupyter-widgets/base",
            "top": null,
            "grid_column": null,
            "overflow_y": null,
            "overflow_x": null,
            "grid_auto_flow": null,
            "grid_area": null,
            "grid_template_columns": null,
            "flex": null,
            "_model_name": "LayoutModel",
            "justify_items": null,
            "grid_row": null,
            "max_height": null,
            "align_content": null,
            "visibility": null,
            "align_self": null,
            "height": null,
            "min_height": null,
            "padding": null,
            "grid_auto_rows": null,
            "grid_gap": null,
            "max_width": null,
            "order": null,
            "_view_module_version": "1.2.0",
            "grid_template_areas": null,
            "object_position": null,
            "object_fit": null,
            "grid_auto_columns": null,
            "margin": null,
            "display": null,
            "left": null
          }
        },
        "93e0bb16d11b4ff99070426809db7ace": {
          "model_module": "@jupyter-widgets/controls",
          "model_name": "VBoxModel",
          "state": {
            "_view_name": "VBoxView",
            "_dom_classes": [],
            "_model_name": "VBoxModel",
            "_view_module": "@jupyter-widgets/controls",
            "_model_module_version": "1.5.0",
            "_view_count": null,
            "_view_module_version": "1.5.0",
            "box_style": "",
            "layout": "IPY_MODEL_4ec3c5375cd44f03b30b2b6964b227b2",
            "_model_module": "@jupyter-widgets/controls",
            "children": [
              "IPY_MODEL_5c6296bb13a04fd4acbe4286bea9b194",
              "IPY_MODEL_5bde43d238ef422287bd2eb28796ace0"
            ]
          }
        },
        "4ec3c5375cd44f03b30b2b6964b227b2": {
          "model_module": "@jupyter-widgets/base",
          "model_name": "LayoutModel",
          "state": {
            "_view_name": "LayoutView",
            "grid_template_rows": null,
            "right": null,
            "justify_content": null,
            "_view_module": "@jupyter-widgets/base",
            "overflow": null,
            "_model_module_version": "1.2.0",
            "_view_count": null,
            "flex_flow": null,
            "width": null,
            "min_width": null,
            "border": null,
            "align_items": null,
            "bottom": null,
            "_model_module": "@jupyter-widgets/base",
            "top": null,
            "grid_column": null,
            "overflow_y": null,
            "overflow_x": null,
            "grid_auto_flow": null,
            "grid_area": null,
            "grid_template_columns": null,
            "flex": null,
            "_model_name": "LayoutModel",
            "justify_items": null,
            "grid_row": null,
            "max_height": null,
            "align_content": null,
            "visibility": null,
            "align_self": null,
            "height": null,
            "min_height": null,
            "padding": null,
            "grid_auto_rows": null,
            "grid_gap": null,
            "max_width": null,
            "order": null,
            "_view_module_version": "1.2.0",
            "grid_template_areas": null,
            "object_position": null,
            "object_fit": null,
            "grid_auto_columns": null,
            "margin": null,
            "display": null,
            "left": null
          }
        },
        "5c6296bb13a04fd4acbe4286bea9b194": {
          "model_module": "@jupyter-widgets/controls",
          "model_name": "LabelModel",
          "state": {
            "_view_name": "LabelView",
            "style": "IPY_MODEL_635529e606e241359c19ce61897d964d",
            "_dom_classes": [],
            "description": "",
            "_model_name": "LabelModel",
            "placeholder": "​",
            "_view_module": "@jupyter-widgets/controls",
            "_model_module_version": "1.5.0",
            "value": " 5.48MB of 5.48MB uploaded (0.00MB deduped)\r",
            "_view_count": null,
            "_view_module_version": "1.5.0",
            "description_tooltip": null,
            "_model_module": "@jupyter-widgets/controls",
            "layout": "IPY_MODEL_48c1060efa0848ee947c82b7b0ff5cb3"
          }
        },
        "5bde43d238ef422287bd2eb28796ace0": {
          "model_module": "@jupyter-widgets/controls",
          "model_name": "FloatProgressModel",
          "state": {
            "_view_name": "ProgressView",
            "style": "IPY_MODEL_26f072c70b094919a9660063d07dadd0",
            "_dom_classes": [],
            "description": "",
            "_model_name": "FloatProgressModel",
            "bar_style": "",
            "max": 1,
            "_view_module": "@jupyter-widgets/controls",
            "_model_module_version": "1.5.0",
            "value": 1,
            "_view_count": null,
            "_view_module_version": "1.5.0",
            "orientation": "horizontal",
            "min": 0,
            "description_tooltip": null,
            "_model_module": "@jupyter-widgets/controls",
            "layout": "IPY_MODEL_e169997dc0b24268b5aa26fed0723ca6"
          }
        },
        "635529e606e241359c19ce61897d964d": {
          "model_module": "@jupyter-widgets/controls",
          "model_name": "DescriptionStyleModel",
          "state": {
            "_view_name": "StyleView",
            "_model_name": "DescriptionStyleModel",
            "description_width": "",
            "_view_module": "@jupyter-widgets/base",
            "_model_module_version": "1.5.0",
            "_view_count": null,
            "_view_module_version": "1.2.0",
            "_model_module": "@jupyter-widgets/controls"
          }
        },
        "48c1060efa0848ee947c82b7b0ff5cb3": {
          "model_module": "@jupyter-widgets/base",
          "model_name": "LayoutModel",
          "state": {
            "_view_name": "LayoutView",
            "grid_template_rows": null,
            "right": null,
            "justify_content": null,
            "_view_module": "@jupyter-widgets/base",
            "overflow": null,
            "_model_module_version": "1.2.0",
            "_view_count": null,
            "flex_flow": null,
            "width": null,
            "min_width": null,
            "border": null,
            "align_items": null,
            "bottom": null,
            "_model_module": "@jupyter-widgets/base",
            "top": null,
            "grid_column": null,
            "overflow_y": null,
            "overflow_x": null,
            "grid_auto_flow": null,
            "grid_area": null,
            "grid_template_columns": null,
            "flex": null,
            "_model_name": "LayoutModel",
            "justify_items": null,
            "grid_row": null,
            "max_height": null,
            "align_content": null,
            "visibility": null,
            "align_self": null,
            "height": null,
            "min_height": null,
            "padding": null,
            "grid_auto_rows": null,
            "grid_gap": null,
            "max_width": null,
            "order": null,
            "_view_module_version": "1.2.0",
            "grid_template_areas": null,
            "object_position": null,
            "object_fit": null,
            "grid_auto_columns": null,
            "margin": null,
            "display": null,
            "left": null
          }
        },
        "26f072c70b094919a9660063d07dadd0": {
          "model_module": "@jupyter-widgets/controls",
          "model_name": "ProgressStyleModel",
          "state": {
            "_view_name": "StyleView",
            "_model_name": "ProgressStyleModel",
            "description_width": "",
            "_view_module": "@jupyter-widgets/base",
            "_model_module_version": "1.5.0",
            "_view_count": null,
            "_view_module_version": "1.2.0",
            "bar_color": null,
            "_model_module": "@jupyter-widgets/controls"
          }
        },
        "e169997dc0b24268b5aa26fed0723ca6": {
          "model_module": "@jupyter-widgets/base",
          "model_name": "LayoutModel",
          "state": {
            "_view_name": "LayoutView",
            "grid_template_rows": null,
            "right": null,
            "justify_content": null,
            "_view_module": "@jupyter-widgets/base",
            "overflow": null,
            "_model_module_version": "1.2.0",
            "_view_count": null,
            "flex_flow": null,
            "width": null,
            "min_width": null,
            "border": null,
            "align_items": null,
            "bottom": null,
            "_model_module": "@jupyter-widgets/base",
            "top": null,
            "grid_column": null,
            "overflow_y": null,
            "overflow_x": null,
            "grid_auto_flow": null,
            "grid_area": null,
            "grid_template_columns": null,
            "flex": null,
            "_model_name": "LayoutModel",
            "justify_items": null,
            "grid_row": null,
            "max_height": null,
            "align_content": null,
            "visibility": null,
            "align_self": null,
            "height": null,
            "min_height": null,
            "padding": null,
            "grid_auto_rows": null,
            "grid_gap": null,
            "max_width": null,
            "order": null,
            "_view_module_version": "1.2.0",
            "grid_template_areas": null,
            "object_position": null,
            "object_fit": null,
            "grid_auto_columns": null,
            "margin": null,
            "display": null,
            "left": null
          }
        },
        "4bd059fbba224950bd3138c04aedc8d3": {
          "model_module": "@jupyter-widgets/controls",
          "model_name": "VBoxModel",
          "state": {
            "_view_name": "VBoxView",
            "_dom_classes": [],
            "_model_name": "VBoxModel",
            "_view_module": "@jupyter-widgets/controls",
            "_model_module_version": "1.5.0",
            "_view_count": null,
            "_view_module_version": "1.5.0",
            "box_style": "",
            "layout": "IPY_MODEL_c5f2cbfdf25f4fdd92d4e642f031ecca",
            "_model_module": "@jupyter-widgets/controls",
            "children": [
              "IPY_MODEL_49b4c64f60bf4febbb260b17715de079",
              "IPY_MODEL_4594d7ff3d8a49c0858241101509802c"
            ]
          }
        },
        "c5f2cbfdf25f4fdd92d4e642f031ecca": {
          "model_module": "@jupyter-widgets/base",
          "model_name": "LayoutModel",
          "state": {
            "_view_name": "LayoutView",
            "grid_template_rows": null,
            "right": null,
            "justify_content": null,
            "_view_module": "@jupyter-widgets/base",
            "overflow": null,
            "_model_module_version": "1.2.0",
            "_view_count": null,
            "flex_flow": null,
            "width": null,
            "min_width": null,
            "border": null,
            "align_items": null,
            "bottom": null,
            "_model_module": "@jupyter-widgets/base",
            "top": null,
            "grid_column": null,
            "overflow_y": null,
            "overflow_x": null,
            "grid_auto_flow": null,
            "grid_area": null,
            "grid_template_columns": null,
            "flex": null,
            "_model_name": "LayoutModel",
            "justify_items": null,
            "grid_row": null,
            "max_height": null,
            "align_content": null,
            "visibility": null,
            "align_self": null,
            "height": null,
            "min_height": null,
            "padding": null,
            "grid_auto_rows": null,
            "grid_gap": null,
            "max_width": null,
            "order": null,
            "_view_module_version": "1.2.0",
            "grid_template_areas": null,
            "object_position": null,
            "object_fit": null,
            "grid_auto_columns": null,
            "margin": null,
            "display": null,
            "left": null
          }
        },
        "49b4c64f60bf4febbb260b17715de079": {
          "model_module": "@jupyter-widgets/controls",
          "model_name": "LabelModel",
          "state": {
            "_view_name": "LabelView",
            "style": "IPY_MODEL_d6a263a0cdc349bea1f5de541a1cee6c",
            "_dom_classes": [],
            "description": "",
            "_model_name": "LabelModel",
            "placeholder": "​",
            "_view_module": "@jupyter-widgets/controls",
            "_model_module_version": "1.5.0",
            "value": " 5.49MB of 5.49MB uploaded (0.00MB deduped)\r",
            "_view_count": null,
            "_view_module_version": "1.5.0",
            "description_tooltip": null,
            "_model_module": "@jupyter-widgets/controls",
            "layout": "IPY_MODEL_874a5aabd4e94cc49325fc0b433ca045"
          }
        },
        "4594d7ff3d8a49c0858241101509802c": {
          "model_module": "@jupyter-widgets/controls",
          "model_name": "FloatProgressModel",
          "state": {
            "_view_name": "ProgressView",
            "style": "IPY_MODEL_abda602fb80049a19747e69d6a5c7a84",
            "_dom_classes": [],
            "description": "",
            "_model_name": "FloatProgressModel",
            "bar_style": "",
            "max": 1,
            "_view_module": "@jupyter-widgets/controls",
            "_model_module_version": "1.5.0",
            "value": 1,
            "_view_count": null,
            "_view_module_version": "1.5.0",
            "orientation": "horizontal",
            "min": 0,
            "description_tooltip": null,
            "_model_module": "@jupyter-widgets/controls",
            "layout": "IPY_MODEL_0e2129770d754408adbd86f244185367"
          }
        },
        "d6a263a0cdc349bea1f5de541a1cee6c": {
          "model_module": "@jupyter-widgets/controls",
          "model_name": "DescriptionStyleModel",
          "state": {
            "_view_name": "StyleView",
            "_model_name": "DescriptionStyleModel",
            "description_width": "",
            "_view_module": "@jupyter-widgets/base",
            "_model_module_version": "1.5.0",
            "_view_count": null,
            "_view_module_version": "1.2.0",
            "_model_module": "@jupyter-widgets/controls"
          }
        },
        "874a5aabd4e94cc49325fc0b433ca045": {
          "model_module": "@jupyter-widgets/base",
          "model_name": "LayoutModel",
          "state": {
            "_view_name": "LayoutView",
            "grid_template_rows": null,
            "right": null,
            "justify_content": null,
            "_view_module": "@jupyter-widgets/base",
            "overflow": null,
            "_model_module_version": "1.2.0",
            "_view_count": null,
            "flex_flow": null,
            "width": null,
            "min_width": null,
            "border": null,
            "align_items": null,
            "bottom": null,
            "_model_module": "@jupyter-widgets/base",
            "top": null,
            "grid_column": null,
            "overflow_y": null,
            "overflow_x": null,
            "grid_auto_flow": null,
            "grid_area": null,
            "grid_template_columns": null,
            "flex": null,
            "_model_name": "LayoutModel",
            "justify_items": null,
            "grid_row": null,
            "max_height": null,
            "align_content": null,
            "visibility": null,
            "align_self": null,
            "height": null,
            "min_height": null,
            "padding": null,
            "grid_auto_rows": null,
            "grid_gap": null,
            "max_width": null,
            "order": null,
            "_view_module_version": "1.2.0",
            "grid_template_areas": null,
            "object_position": null,
            "object_fit": null,
            "grid_auto_columns": null,
            "margin": null,
            "display": null,
            "left": null
          }
        },
        "abda602fb80049a19747e69d6a5c7a84": {
          "model_module": "@jupyter-widgets/controls",
          "model_name": "ProgressStyleModel",
          "state": {
            "_view_name": "StyleView",
            "_model_name": "ProgressStyleModel",
            "description_width": "",
            "_view_module": "@jupyter-widgets/base",
            "_model_module_version": "1.5.0",
            "_view_count": null,
            "_view_module_version": "1.2.0",
            "bar_color": null,
            "_model_module": "@jupyter-widgets/controls"
          }
        },
        "0e2129770d754408adbd86f244185367": {
          "model_module": "@jupyter-widgets/base",
          "model_name": "LayoutModel",
          "state": {
            "_view_name": "LayoutView",
            "grid_template_rows": null,
            "right": null,
            "justify_content": null,
            "_view_module": "@jupyter-widgets/base",
            "overflow": null,
            "_model_module_version": "1.2.0",
            "_view_count": null,
            "flex_flow": null,
            "width": null,
            "min_width": null,
            "border": null,
            "align_items": null,
            "bottom": null,
            "_model_module": "@jupyter-widgets/base",
            "top": null,
            "grid_column": null,
            "overflow_y": null,
            "overflow_x": null,
            "grid_auto_flow": null,
            "grid_area": null,
            "grid_template_columns": null,
            "flex": null,
            "_model_name": "LayoutModel",
            "justify_items": null,
            "grid_row": null,
            "max_height": null,
            "align_content": null,
            "visibility": null,
            "align_self": null,
            "height": null,
            "min_height": null,
            "padding": null,
            "grid_auto_rows": null,
            "grid_gap": null,
            "max_width": null,
            "order": null,
            "_view_module_version": "1.2.0",
            "grid_template_areas": null,
            "object_position": null,
            "object_fit": null,
            "grid_auto_columns": null,
            "margin": null,
            "display": null,
            "left": null
          }
        },
        "66a7a356d8934d25a200cc2d0be97f50": {
          "model_module": "@jupyter-widgets/controls",
          "model_name": "VBoxModel",
          "state": {
            "_view_name": "VBoxView",
            "_dom_classes": [],
            "_model_name": "VBoxModel",
            "_view_module": "@jupyter-widgets/controls",
            "_model_module_version": "1.5.0",
            "_view_count": null,
            "_view_module_version": "1.5.0",
            "box_style": "",
            "layout": "IPY_MODEL_b49f89e04f734b50873e85e6dca9cf76",
            "_model_module": "@jupyter-widgets/controls",
            "children": [
              "IPY_MODEL_a9f4931c0f1443e0b2e2f65f9d9b8ed3",
              "IPY_MODEL_786fe1f9bc5d4908a1aed911c5e73a5f"
            ]
          }
        },
        "b49f89e04f734b50873e85e6dca9cf76": {
          "model_module": "@jupyter-widgets/base",
          "model_name": "LayoutModel",
          "state": {
            "_view_name": "LayoutView",
            "grid_template_rows": null,
            "right": null,
            "justify_content": null,
            "_view_module": "@jupyter-widgets/base",
            "overflow": null,
            "_model_module_version": "1.2.0",
            "_view_count": null,
            "flex_flow": null,
            "width": null,
            "min_width": null,
            "border": null,
            "align_items": null,
            "bottom": null,
            "_model_module": "@jupyter-widgets/base",
            "top": null,
            "grid_column": null,
            "overflow_y": null,
            "overflow_x": null,
            "grid_auto_flow": null,
            "grid_area": null,
            "grid_template_columns": null,
            "flex": null,
            "_model_name": "LayoutModel",
            "justify_items": null,
            "grid_row": null,
            "max_height": null,
            "align_content": null,
            "visibility": null,
            "align_self": null,
            "height": null,
            "min_height": null,
            "padding": null,
            "grid_auto_rows": null,
            "grid_gap": null,
            "max_width": null,
            "order": null,
            "_view_module_version": "1.2.0",
            "grid_template_areas": null,
            "object_position": null,
            "object_fit": null,
            "grid_auto_columns": null,
            "margin": null,
            "display": null,
            "left": null
          }
        },
        "a9f4931c0f1443e0b2e2f65f9d9b8ed3": {
          "model_module": "@jupyter-widgets/controls",
          "model_name": "LabelModel",
          "state": {
            "_view_name": "LabelView",
            "style": "IPY_MODEL_d7aedd6b3d71409e97a68cbb74092179",
            "_dom_classes": [],
            "description": "",
            "_model_name": "LabelModel",
            "placeholder": "​",
            "_view_module": "@jupyter-widgets/controls",
            "_model_module_version": "1.5.0",
            "value": " 5.51MB of 5.51MB uploaded (0.00MB deduped)\r",
            "_view_count": null,
            "_view_module_version": "1.5.0",
            "description_tooltip": null,
            "_model_module": "@jupyter-widgets/controls",
            "layout": "IPY_MODEL_36b0f3f251f04928921d60679985c136"
          }
        },
        "786fe1f9bc5d4908a1aed911c5e73a5f": {
          "model_module": "@jupyter-widgets/controls",
          "model_name": "FloatProgressModel",
          "state": {
            "_view_name": "ProgressView",
            "style": "IPY_MODEL_ba6056d4a05441c09e998d38c25d667a",
            "_dom_classes": [],
            "description": "",
            "_model_name": "FloatProgressModel",
            "bar_style": "",
            "max": 1,
            "_view_module": "@jupyter-widgets/controls",
            "_model_module_version": "1.5.0",
            "value": 1,
            "_view_count": null,
            "_view_module_version": "1.5.0",
            "orientation": "horizontal",
            "min": 0,
            "description_tooltip": null,
            "_model_module": "@jupyter-widgets/controls",
            "layout": "IPY_MODEL_15f2242ed6054b4281b8923578401dde"
          }
        },
        "d7aedd6b3d71409e97a68cbb74092179": {
          "model_module": "@jupyter-widgets/controls",
          "model_name": "DescriptionStyleModel",
          "state": {
            "_view_name": "StyleView",
            "_model_name": "DescriptionStyleModel",
            "description_width": "",
            "_view_module": "@jupyter-widgets/base",
            "_model_module_version": "1.5.0",
            "_view_count": null,
            "_view_module_version": "1.2.0",
            "_model_module": "@jupyter-widgets/controls"
          }
        },
        "36b0f3f251f04928921d60679985c136": {
          "model_module": "@jupyter-widgets/base",
          "model_name": "LayoutModel",
          "state": {
            "_view_name": "LayoutView",
            "grid_template_rows": null,
            "right": null,
            "justify_content": null,
            "_view_module": "@jupyter-widgets/base",
            "overflow": null,
            "_model_module_version": "1.2.0",
            "_view_count": null,
            "flex_flow": null,
            "width": null,
            "min_width": null,
            "border": null,
            "align_items": null,
            "bottom": null,
            "_model_module": "@jupyter-widgets/base",
            "top": null,
            "grid_column": null,
            "overflow_y": null,
            "overflow_x": null,
            "grid_auto_flow": null,
            "grid_area": null,
            "grid_template_columns": null,
            "flex": null,
            "_model_name": "LayoutModel",
            "justify_items": null,
            "grid_row": null,
            "max_height": null,
            "align_content": null,
            "visibility": null,
            "align_self": null,
            "height": null,
            "min_height": null,
            "padding": null,
            "grid_auto_rows": null,
            "grid_gap": null,
            "max_width": null,
            "order": null,
            "_view_module_version": "1.2.0",
            "grid_template_areas": null,
            "object_position": null,
            "object_fit": null,
            "grid_auto_columns": null,
            "margin": null,
            "display": null,
            "left": null
          }
        },
        "ba6056d4a05441c09e998d38c25d667a": {
          "model_module": "@jupyter-widgets/controls",
          "model_name": "ProgressStyleModel",
          "state": {
            "_view_name": "StyleView",
            "_model_name": "ProgressStyleModel",
            "description_width": "",
            "_view_module": "@jupyter-widgets/base",
            "_model_module_version": "1.5.0",
            "_view_count": null,
            "_view_module_version": "1.2.0",
            "bar_color": null,
            "_model_module": "@jupyter-widgets/controls"
          }
        },
        "15f2242ed6054b4281b8923578401dde": {
          "model_module": "@jupyter-widgets/base",
          "model_name": "LayoutModel",
          "state": {
            "_view_name": "LayoutView",
            "grid_template_rows": null,
            "right": null,
            "justify_content": null,
            "_view_module": "@jupyter-widgets/base",
            "overflow": null,
            "_model_module_version": "1.2.0",
            "_view_count": null,
            "flex_flow": null,
            "width": null,
            "min_width": null,
            "border": null,
            "align_items": null,
            "bottom": null,
            "_model_module": "@jupyter-widgets/base",
            "top": null,
            "grid_column": null,
            "overflow_y": null,
            "overflow_x": null,
            "grid_auto_flow": null,
            "grid_area": null,
            "grid_template_columns": null,
            "flex": null,
            "_model_name": "LayoutModel",
            "justify_items": null,
            "grid_row": null,
            "max_height": null,
            "align_content": null,
            "visibility": null,
            "align_self": null,
            "height": null,
            "min_height": null,
            "padding": null,
            "grid_auto_rows": null,
            "grid_gap": null,
            "max_width": null,
            "order": null,
            "_view_module_version": "1.2.0",
            "grid_template_areas": null,
            "object_position": null,
            "object_fit": null,
            "grid_auto_columns": null,
            "margin": null,
            "display": null,
            "left": null
          }
        },
        "8804d005e33e428cb7de9aa25ee745a9": {
          "model_module": "@jupyter-widgets/controls",
          "model_name": "VBoxModel",
          "state": {
            "_view_name": "VBoxView",
            "_dom_classes": [],
            "_model_name": "VBoxModel",
            "_view_module": "@jupyter-widgets/controls",
            "_model_module_version": "1.5.0",
            "_view_count": null,
            "_view_module_version": "1.5.0",
            "box_style": "",
            "layout": "IPY_MODEL_aef2451cfa3e49e39b72ba8e50478fba",
            "_model_module": "@jupyter-widgets/controls",
            "children": [
              "IPY_MODEL_a0621f3bd7f748beb145e2411516d43c",
              "IPY_MODEL_a2d2894810fb4ed5937d0ee6c5cdea80"
            ]
          }
        },
        "aef2451cfa3e49e39b72ba8e50478fba": {
          "model_module": "@jupyter-widgets/base",
          "model_name": "LayoutModel",
          "state": {
            "_view_name": "LayoutView",
            "grid_template_rows": null,
            "right": null,
            "justify_content": null,
            "_view_module": "@jupyter-widgets/base",
            "overflow": null,
            "_model_module_version": "1.2.0",
            "_view_count": null,
            "flex_flow": null,
            "width": null,
            "min_width": null,
            "border": null,
            "align_items": null,
            "bottom": null,
            "_model_module": "@jupyter-widgets/base",
            "top": null,
            "grid_column": null,
            "overflow_y": null,
            "overflow_x": null,
            "grid_auto_flow": null,
            "grid_area": null,
            "grid_template_columns": null,
            "flex": null,
            "_model_name": "LayoutModel",
            "justify_items": null,
            "grid_row": null,
            "max_height": null,
            "align_content": null,
            "visibility": null,
            "align_self": null,
            "height": null,
            "min_height": null,
            "padding": null,
            "grid_auto_rows": null,
            "grid_gap": null,
            "max_width": null,
            "order": null,
            "_view_module_version": "1.2.0",
            "grid_template_areas": null,
            "object_position": null,
            "object_fit": null,
            "grid_auto_columns": null,
            "margin": null,
            "display": null,
            "left": null
          }
        },
        "a0621f3bd7f748beb145e2411516d43c": {
          "model_module": "@jupyter-widgets/controls",
          "model_name": "LabelModel",
          "state": {
            "_view_name": "LabelView",
            "style": "IPY_MODEL_973f5453450242c7a41947c8a6330684",
            "_dom_classes": [],
            "description": "",
            "_model_name": "LabelModel",
            "placeholder": "​",
            "_view_module": "@jupyter-widgets/controls",
            "_model_module_version": "1.5.0",
            "value": " 5.52MB of 5.52MB uploaded (0.00MB deduped)\r",
            "_view_count": null,
            "_view_module_version": "1.5.0",
            "description_tooltip": null,
            "_model_module": "@jupyter-widgets/controls",
            "layout": "IPY_MODEL_493347931e4648f28c43065d52bca2e9"
          }
        },
        "a2d2894810fb4ed5937d0ee6c5cdea80": {
          "model_module": "@jupyter-widgets/controls",
          "model_name": "FloatProgressModel",
          "state": {
            "_view_name": "ProgressView",
            "style": "IPY_MODEL_a01e8130c11848ddbb22252a6637c978",
            "_dom_classes": [],
            "description": "",
            "_model_name": "FloatProgressModel",
            "bar_style": "",
            "max": 1,
            "_view_module": "@jupyter-widgets/controls",
            "_model_module_version": "1.5.0",
            "value": 1,
            "_view_count": null,
            "_view_module_version": "1.5.0",
            "orientation": "horizontal",
            "min": 0,
            "description_tooltip": null,
            "_model_module": "@jupyter-widgets/controls",
            "layout": "IPY_MODEL_b331b256f4a44b1b9e572306f09337da"
          }
        },
        "973f5453450242c7a41947c8a6330684": {
          "model_module": "@jupyter-widgets/controls",
          "model_name": "DescriptionStyleModel",
          "state": {
            "_view_name": "StyleView",
            "_model_name": "DescriptionStyleModel",
            "description_width": "",
            "_view_module": "@jupyter-widgets/base",
            "_model_module_version": "1.5.0",
            "_view_count": null,
            "_view_module_version": "1.2.0",
            "_model_module": "@jupyter-widgets/controls"
          }
        },
        "493347931e4648f28c43065d52bca2e9": {
          "model_module": "@jupyter-widgets/base",
          "model_name": "LayoutModel",
          "state": {
            "_view_name": "LayoutView",
            "grid_template_rows": null,
            "right": null,
            "justify_content": null,
            "_view_module": "@jupyter-widgets/base",
            "overflow": null,
            "_model_module_version": "1.2.0",
            "_view_count": null,
            "flex_flow": null,
            "width": null,
            "min_width": null,
            "border": null,
            "align_items": null,
            "bottom": null,
            "_model_module": "@jupyter-widgets/base",
            "top": null,
            "grid_column": null,
            "overflow_y": null,
            "overflow_x": null,
            "grid_auto_flow": null,
            "grid_area": null,
            "grid_template_columns": null,
            "flex": null,
            "_model_name": "LayoutModel",
            "justify_items": null,
            "grid_row": null,
            "max_height": null,
            "align_content": null,
            "visibility": null,
            "align_self": null,
            "height": null,
            "min_height": null,
            "padding": null,
            "grid_auto_rows": null,
            "grid_gap": null,
            "max_width": null,
            "order": null,
            "_view_module_version": "1.2.0",
            "grid_template_areas": null,
            "object_position": null,
            "object_fit": null,
            "grid_auto_columns": null,
            "margin": null,
            "display": null,
            "left": null
          }
        },
        "a01e8130c11848ddbb22252a6637c978": {
          "model_module": "@jupyter-widgets/controls",
          "model_name": "ProgressStyleModel",
          "state": {
            "_view_name": "StyleView",
            "_model_name": "ProgressStyleModel",
            "description_width": "",
            "_view_module": "@jupyter-widgets/base",
            "_model_module_version": "1.5.0",
            "_view_count": null,
            "_view_module_version": "1.2.0",
            "bar_color": null,
            "_model_module": "@jupyter-widgets/controls"
          }
        },
        "b331b256f4a44b1b9e572306f09337da": {
          "model_module": "@jupyter-widgets/base",
          "model_name": "LayoutModel",
          "state": {
            "_view_name": "LayoutView",
            "grid_template_rows": null,
            "right": null,
            "justify_content": null,
            "_view_module": "@jupyter-widgets/base",
            "overflow": null,
            "_model_module_version": "1.2.0",
            "_view_count": null,
            "flex_flow": null,
            "width": null,
            "min_width": null,
            "border": null,
            "align_items": null,
            "bottom": null,
            "_model_module": "@jupyter-widgets/base",
            "top": null,
            "grid_column": null,
            "overflow_y": null,
            "overflow_x": null,
            "grid_auto_flow": null,
            "grid_area": null,
            "grid_template_columns": null,
            "flex": null,
            "_model_name": "LayoutModel",
            "justify_items": null,
            "grid_row": null,
            "max_height": null,
            "align_content": null,
            "visibility": null,
            "align_self": null,
            "height": null,
            "min_height": null,
            "padding": null,
            "grid_auto_rows": null,
            "grid_gap": null,
            "max_width": null,
            "order": null,
            "_view_module_version": "1.2.0",
            "grid_template_areas": null,
            "object_position": null,
            "object_fit": null,
            "grid_auto_columns": null,
            "margin": null,
            "display": null,
            "left": null
          }
        },
        "dcaed861cd824cef96bc878dde86f0ef": {
          "model_module": "@jupyter-widgets/controls",
          "model_name": "VBoxModel",
          "state": {
            "_view_name": "VBoxView",
            "_dom_classes": [],
            "_model_name": "VBoxModel",
            "_view_module": "@jupyter-widgets/controls",
            "_model_module_version": "1.5.0",
            "_view_count": null,
            "_view_module_version": "1.5.0",
            "box_style": "",
            "layout": "IPY_MODEL_0bd43ba5989444d082183f9fc3d296cc",
            "_model_module": "@jupyter-widgets/controls",
            "children": [
              "IPY_MODEL_134eb46bc64146cbb269907422ae0ddf",
              "IPY_MODEL_6e3306b2e43c494fbd17246108bd14ea"
            ]
          }
        },
        "0bd43ba5989444d082183f9fc3d296cc": {
          "model_module": "@jupyter-widgets/base",
          "model_name": "LayoutModel",
          "state": {
            "_view_name": "LayoutView",
            "grid_template_rows": null,
            "right": null,
            "justify_content": null,
            "_view_module": "@jupyter-widgets/base",
            "overflow": null,
            "_model_module_version": "1.2.0",
            "_view_count": null,
            "flex_flow": null,
            "width": null,
            "min_width": null,
            "border": null,
            "align_items": null,
            "bottom": null,
            "_model_module": "@jupyter-widgets/base",
            "top": null,
            "grid_column": null,
            "overflow_y": null,
            "overflow_x": null,
            "grid_auto_flow": null,
            "grid_area": null,
            "grid_template_columns": null,
            "flex": null,
            "_model_name": "LayoutModel",
            "justify_items": null,
            "grid_row": null,
            "max_height": null,
            "align_content": null,
            "visibility": null,
            "align_self": null,
            "height": null,
            "min_height": null,
            "padding": null,
            "grid_auto_rows": null,
            "grid_gap": null,
            "max_width": null,
            "order": null,
            "_view_module_version": "1.2.0",
            "grid_template_areas": null,
            "object_position": null,
            "object_fit": null,
            "grid_auto_columns": null,
            "margin": null,
            "display": null,
            "left": null
          }
        },
        "134eb46bc64146cbb269907422ae0ddf": {
          "model_module": "@jupyter-widgets/controls",
          "model_name": "LabelModel",
          "state": {
            "_view_name": "LabelView",
            "style": "IPY_MODEL_099991c6a124468da667b76203002867",
            "_dom_classes": [],
            "description": "",
            "_model_name": "LabelModel",
            "placeholder": "​",
            "_view_module": "@jupyter-widgets/controls",
            "_model_module_version": "1.5.0",
            "value": " 5.53MB of 5.53MB uploaded (0.00MB deduped)\r",
            "_view_count": null,
            "_view_module_version": "1.5.0",
            "description_tooltip": null,
            "_model_module": "@jupyter-widgets/controls",
            "layout": "IPY_MODEL_7a5e69a4425a4ed2a664bb3e68daf5c7"
          }
        },
        "6e3306b2e43c494fbd17246108bd14ea": {
          "model_module": "@jupyter-widgets/controls",
          "model_name": "FloatProgressModel",
          "state": {
            "_view_name": "ProgressView",
            "style": "IPY_MODEL_3f507f0ae69341d08196c632a65c6db7",
            "_dom_classes": [],
            "description": "",
            "_model_name": "FloatProgressModel",
            "bar_style": "",
            "max": 1,
            "_view_module": "@jupyter-widgets/controls",
            "_model_module_version": "1.5.0",
            "value": 1,
            "_view_count": null,
            "_view_module_version": "1.5.0",
            "orientation": "horizontal",
            "min": 0,
            "description_tooltip": null,
            "_model_module": "@jupyter-widgets/controls",
            "layout": "IPY_MODEL_ec8b103033514cd3a39f0fe0de9a1989"
          }
        },
        "099991c6a124468da667b76203002867": {
          "model_module": "@jupyter-widgets/controls",
          "model_name": "DescriptionStyleModel",
          "state": {
            "_view_name": "StyleView",
            "_model_name": "DescriptionStyleModel",
            "description_width": "",
            "_view_module": "@jupyter-widgets/base",
            "_model_module_version": "1.5.0",
            "_view_count": null,
            "_view_module_version": "1.2.0",
            "_model_module": "@jupyter-widgets/controls"
          }
        },
        "7a5e69a4425a4ed2a664bb3e68daf5c7": {
          "model_module": "@jupyter-widgets/base",
          "model_name": "LayoutModel",
          "state": {
            "_view_name": "LayoutView",
            "grid_template_rows": null,
            "right": null,
            "justify_content": null,
            "_view_module": "@jupyter-widgets/base",
            "overflow": null,
            "_model_module_version": "1.2.0",
            "_view_count": null,
            "flex_flow": null,
            "width": null,
            "min_width": null,
            "border": null,
            "align_items": null,
            "bottom": null,
            "_model_module": "@jupyter-widgets/base",
            "top": null,
            "grid_column": null,
            "overflow_y": null,
            "overflow_x": null,
            "grid_auto_flow": null,
            "grid_area": null,
            "grid_template_columns": null,
            "flex": null,
            "_model_name": "LayoutModel",
            "justify_items": null,
            "grid_row": null,
            "max_height": null,
            "align_content": null,
            "visibility": null,
            "align_self": null,
            "height": null,
            "min_height": null,
            "padding": null,
            "grid_auto_rows": null,
            "grid_gap": null,
            "max_width": null,
            "order": null,
            "_view_module_version": "1.2.0",
            "grid_template_areas": null,
            "object_position": null,
            "object_fit": null,
            "grid_auto_columns": null,
            "margin": null,
            "display": null,
            "left": null
          }
        },
        "3f507f0ae69341d08196c632a65c6db7": {
          "model_module": "@jupyter-widgets/controls",
          "model_name": "ProgressStyleModel",
          "state": {
            "_view_name": "StyleView",
            "_model_name": "ProgressStyleModel",
            "description_width": "",
            "_view_module": "@jupyter-widgets/base",
            "_model_module_version": "1.5.0",
            "_view_count": null,
            "_view_module_version": "1.2.0",
            "bar_color": null,
            "_model_module": "@jupyter-widgets/controls"
          }
        },
        "ec8b103033514cd3a39f0fe0de9a1989": {
          "model_module": "@jupyter-widgets/base",
          "model_name": "LayoutModel",
          "state": {
            "_view_name": "LayoutView",
            "grid_template_rows": null,
            "right": null,
            "justify_content": null,
            "_view_module": "@jupyter-widgets/base",
            "overflow": null,
            "_model_module_version": "1.2.0",
            "_view_count": null,
            "flex_flow": null,
            "width": null,
            "min_width": null,
            "border": null,
            "align_items": null,
            "bottom": null,
            "_model_module": "@jupyter-widgets/base",
            "top": null,
            "grid_column": null,
            "overflow_y": null,
            "overflow_x": null,
            "grid_auto_flow": null,
            "grid_area": null,
            "grid_template_columns": null,
            "flex": null,
            "_model_name": "LayoutModel",
            "justify_items": null,
            "grid_row": null,
            "max_height": null,
            "align_content": null,
            "visibility": null,
            "align_self": null,
            "height": null,
            "min_height": null,
            "padding": null,
            "grid_auto_rows": null,
            "grid_gap": null,
            "max_width": null,
            "order": null,
            "_view_module_version": "1.2.0",
            "grid_template_areas": null,
            "object_position": null,
            "object_fit": null,
            "grid_auto_columns": null,
            "margin": null,
            "display": null,
            "left": null
          }
        },
        "da9e186edbf54c21b49ac669ede11898": {
          "model_module": "@jupyter-widgets/controls",
          "model_name": "VBoxModel",
          "state": {
            "_view_name": "VBoxView",
            "_dom_classes": [],
            "_model_name": "VBoxModel",
            "_view_module": "@jupyter-widgets/controls",
            "_model_module_version": "1.5.0",
            "_view_count": null,
            "_view_module_version": "1.5.0",
            "box_style": "",
            "layout": "IPY_MODEL_9f6a0d8eaa4744cd9f34ea3dd74612cc",
            "_model_module": "@jupyter-widgets/controls",
            "children": [
              "IPY_MODEL_1aee5965c97c420ea248531a23ef0630",
              "IPY_MODEL_df36e14a9bae4da4a63adf33e98c3bac"
            ]
          }
        },
        "9f6a0d8eaa4744cd9f34ea3dd74612cc": {
          "model_module": "@jupyter-widgets/base",
          "model_name": "LayoutModel",
          "state": {
            "_view_name": "LayoutView",
            "grid_template_rows": null,
            "right": null,
            "justify_content": null,
            "_view_module": "@jupyter-widgets/base",
            "overflow": null,
            "_model_module_version": "1.2.0",
            "_view_count": null,
            "flex_flow": null,
            "width": null,
            "min_width": null,
            "border": null,
            "align_items": null,
            "bottom": null,
            "_model_module": "@jupyter-widgets/base",
            "top": null,
            "grid_column": null,
            "overflow_y": null,
            "overflow_x": null,
            "grid_auto_flow": null,
            "grid_area": null,
            "grid_template_columns": null,
            "flex": null,
            "_model_name": "LayoutModel",
            "justify_items": null,
            "grid_row": null,
            "max_height": null,
            "align_content": null,
            "visibility": null,
            "align_self": null,
            "height": null,
            "min_height": null,
            "padding": null,
            "grid_auto_rows": null,
            "grid_gap": null,
            "max_width": null,
            "order": null,
            "_view_module_version": "1.2.0",
            "grid_template_areas": null,
            "object_position": null,
            "object_fit": null,
            "grid_auto_columns": null,
            "margin": null,
            "display": null,
            "left": null
          }
        },
        "1aee5965c97c420ea248531a23ef0630": {
          "model_module": "@jupyter-widgets/controls",
          "model_name": "LabelModel",
          "state": {
            "_view_name": "LabelView",
            "style": "IPY_MODEL_a5936437a3d54398b3ffc424adc38e9a",
            "_dom_classes": [],
            "description": "",
            "_model_name": "LabelModel",
            "placeholder": "​",
            "_view_module": "@jupyter-widgets/controls",
            "_model_module_version": "1.5.0",
            "value": " 5.54MB of 5.54MB uploaded (0.00MB deduped)\r",
            "_view_count": null,
            "_view_module_version": "1.5.0",
            "description_tooltip": null,
            "_model_module": "@jupyter-widgets/controls",
            "layout": "IPY_MODEL_df8432d69ddd48a5a5342a22dac125a0"
          }
        },
        "df36e14a9bae4da4a63adf33e98c3bac": {
          "model_module": "@jupyter-widgets/controls",
          "model_name": "FloatProgressModel",
          "state": {
            "_view_name": "ProgressView",
            "style": "IPY_MODEL_4368fa70b5974388ae439488e117b18f",
            "_dom_classes": [],
            "description": "",
            "_model_name": "FloatProgressModel",
            "bar_style": "",
            "max": 1,
            "_view_module": "@jupyter-widgets/controls",
            "_model_module_version": "1.5.0",
            "value": 1,
            "_view_count": null,
            "_view_module_version": "1.5.0",
            "orientation": "horizontal",
            "min": 0,
            "description_tooltip": null,
            "_model_module": "@jupyter-widgets/controls",
            "layout": "IPY_MODEL_87031c807efb4b919e7545bd9710c001"
          }
        },
        "a5936437a3d54398b3ffc424adc38e9a": {
          "model_module": "@jupyter-widgets/controls",
          "model_name": "DescriptionStyleModel",
          "state": {
            "_view_name": "StyleView",
            "_model_name": "DescriptionStyleModel",
            "description_width": "",
            "_view_module": "@jupyter-widgets/base",
            "_model_module_version": "1.5.0",
            "_view_count": null,
            "_view_module_version": "1.2.0",
            "_model_module": "@jupyter-widgets/controls"
          }
        },
        "df8432d69ddd48a5a5342a22dac125a0": {
          "model_module": "@jupyter-widgets/base",
          "model_name": "LayoutModel",
          "state": {
            "_view_name": "LayoutView",
            "grid_template_rows": null,
            "right": null,
            "justify_content": null,
            "_view_module": "@jupyter-widgets/base",
            "overflow": null,
            "_model_module_version": "1.2.0",
            "_view_count": null,
            "flex_flow": null,
            "width": null,
            "min_width": null,
            "border": null,
            "align_items": null,
            "bottom": null,
            "_model_module": "@jupyter-widgets/base",
            "top": null,
            "grid_column": null,
            "overflow_y": null,
            "overflow_x": null,
            "grid_auto_flow": null,
            "grid_area": null,
            "grid_template_columns": null,
            "flex": null,
            "_model_name": "LayoutModel",
            "justify_items": null,
            "grid_row": null,
            "max_height": null,
            "align_content": null,
            "visibility": null,
            "align_self": null,
            "height": null,
            "min_height": null,
            "padding": null,
            "grid_auto_rows": null,
            "grid_gap": null,
            "max_width": null,
            "order": null,
            "_view_module_version": "1.2.0",
            "grid_template_areas": null,
            "object_position": null,
            "object_fit": null,
            "grid_auto_columns": null,
            "margin": null,
            "display": null,
            "left": null
          }
        },
        "4368fa70b5974388ae439488e117b18f": {
          "model_module": "@jupyter-widgets/controls",
          "model_name": "ProgressStyleModel",
          "state": {
            "_view_name": "StyleView",
            "_model_name": "ProgressStyleModel",
            "description_width": "",
            "_view_module": "@jupyter-widgets/base",
            "_model_module_version": "1.5.0",
            "_view_count": null,
            "_view_module_version": "1.2.0",
            "bar_color": null,
            "_model_module": "@jupyter-widgets/controls"
          }
        },
        "87031c807efb4b919e7545bd9710c001": {
          "model_module": "@jupyter-widgets/base",
          "model_name": "LayoutModel",
          "state": {
            "_view_name": "LayoutView",
            "grid_template_rows": null,
            "right": null,
            "justify_content": null,
            "_view_module": "@jupyter-widgets/base",
            "overflow": null,
            "_model_module_version": "1.2.0",
            "_view_count": null,
            "flex_flow": null,
            "width": null,
            "min_width": null,
            "border": null,
            "align_items": null,
            "bottom": null,
            "_model_module": "@jupyter-widgets/base",
            "top": null,
            "grid_column": null,
            "overflow_y": null,
            "overflow_x": null,
            "grid_auto_flow": null,
            "grid_area": null,
            "grid_template_columns": null,
            "flex": null,
            "_model_name": "LayoutModel",
            "justify_items": null,
            "grid_row": null,
            "max_height": null,
            "align_content": null,
            "visibility": null,
            "align_self": null,
            "height": null,
            "min_height": null,
            "padding": null,
            "grid_auto_rows": null,
            "grid_gap": null,
            "max_width": null,
            "order": null,
            "_view_module_version": "1.2.0",
            "grid_template_areas": null,
            "object_position": null,
            "object_fit": null,
            "grid_auto_columns": null,
            "margin": null,
            "display": null,
            "left": null
          }
        },
        "5d3c3ca9e6a442d38accfa6261d92a01": {
          "model_module": "@jupyter-widgets/controls",
          "model_name": "VBoxModel",
          "state": {
            "_view_name": "VBoxView",
            "_dom_classes": [],
            "_model_name": "VBoxModel",
            "_view_module": "@jupyter-widgets/controls",
            "_model_module_version": "1.5.0",
            "_view_count": null,
            "_view_module_version": "1.5.0",
            "box_style": "",
            "layout": "IPY_MODEL_35187a751ea44b49b980ea3e29736aac",
            "_model_module": "@jupyter-widgets/controls",
            "children": [
              "IPY_MODEL_9252e1c7182346c78b24b0500ff27580",
              "IPY_MODEL_b4b7824f14f64022b871e567948c3720"
            ]
          }
        },
        "35187a751ea44b49b980ea3e29736aac": {
          "model_module": "@jupyter-widgets/base",
          "model_name": "LayoutModel",
          "state": {
            "_view_name": "LayoutView",
            "grid_template_rows": null,
            "right": null,
            "justify_content": null,
            "_view_module": "@jupyter-widgets/base",
            "overflow": null,
            "_model_module_version": "1.2.0",
            "_view_count": null,
            "flex_flow": null,
            "width": null,
            "min_width": null,
            "border": null,
            "align_items": null,
            "bottom": null,
            "_model_module": "@jupyter-widgets/base",
            "top": null,
            "grid_column": null,
            "overflow_y": null,
            "overflow_x": null,
            "grid_auto_flow": null,
            "grid_area": null,
            "grid_template_columns": null,
            "flex": null,
            "_model_name": "LayoutModel",
            "justify_items": null,
            "grid_row": null,
            "max_height": null,
            "align_content": null,
            "visibility": null,
            "align_self": null,
            "height": null,
            "min_height": null,
            "padding": null,
            "grid_auto_rows": null,
            "grid_gap": null,
            "max_width": null,
            "order": null,
            "_view_module_version": "1.2.0",
            "grid_template_areas": null,
            "object_position": null,
            "object_fit": null,
            "grid_auto_columns": null,
            "margin": null,
            "display": null,
            "left": null
          }
        },
        "9252e1c7182346c78b24b0500ff27580": {
          "model_module": "@jupyter-widgets/controls",
          "model_name": "LabelModel",
          "state": {
            "_view_name": "LabelView",
            "style": "IPY_MODEL_6f5ba604d8dd4dd7b4df315d13d2a8ee",
            "_dom_classes": [],
            "description": "",
            "_model_name": "LabelModel",
            "placeholder": "​",
            "_view_module": "@jupyter-widgets/controls",
            "_model_module_version": "1.5.0",
            "value": " 5.55MB of 5.55MB uploaded (0.00MB deduped)\r",
            "_view_count": null,
            "_view_module_version": "1.5.0",
            "description_tooltip": null,
            "_model_module": "@jupyter-widgets/controls",
            "layout": "IPY_MODEL_cba74221f7c044edb4bf2543c3e2820c"
          }
        },
        "b4b7824f14f64022b871e567948c3720": {
          "model_module": "@jupyter-widgets/controls",
          "model_name": "FloatProgressModel",
          "state": {
            "_view_name": "ProgressView",
            "style": "IPY_MODEL_3a4c6133a8a44e3dbe34324b85050158",
            "_dom_classes": [],
            "description": "",
            "_model_name": "FloatProgressModel",
            "bar_style": "",
            "max": 1,
            "_view_module": "@jupyter-widgets/controls",
            "_model_module_version": "1.5.0",
            "value": 1,
            "_view_count": null,
            "_view_module_version": "1.5.0",
            "orientation": "horizontal",
            "min": 0,
            "description_tooltip": null,
            "_model_module": "@jupyter-widgets/controls",
            "layout": "IPY_MODEL_e35324c4c26f42a3bfdcd6d36d539959"
          }
        },
        "6f5ba604d8dd4dd7b4df315d13d2a8ee": {
          "model_module": "@jupyter-widgets/controls",
          "model_name": "DescriptionStyleModel",
          "state": {
            "_view_name": "StyleView",
            "_model_name": "DescriptionStyleModel",
            "description_width": "",
            "_view_module": "@jupyter-widgets/base",
            "_model_module_version": "1.5.0",
            "_view_count": null,
            "_view_module_version": "1.2.0",
            "_model_module": "@jupyter-widgets/controls"
          }
        },
        "cba74221f7c044edb4bf2543c3e2820c": {
          "model_module": "@jupyter-widgets/base",
          "model_name": "LayoutModel",
          "state": {
            "_view_name": "LayoutView",
            "grid_template_rows": null,
            "right": null,
            "justify_content": null,
            "_view_module": "@jupyter-widgets/base",
            "overflow": null,
            "_model_module_version": "1.2.0",
            "_view_count": null,
            "flex_flow": null,
            "width": null,
            "min_width": null,
            "border": null,
            "align_items": null,
            "bottom": null,
            "_model_module": "@jupyter-widgets/base",
            "top": null,
            "grid_column": null,
            "overflow_y": null,
            "overflow_x": null,
            "grid_auto_flow": null,
            "grid_area": null,
            "grid_template_columns": null,
            "flex": null,
            "_model_name": "LayoutModel",
            "justify_items": null,
            "grid_row": null,
            "max_height": null,
            "align_content": null,
            "visibility": null,
            "align_self": null,
            "height": null,
            "min_height": null,
            "padding": null,
            "grid_auto_rows": null,
            "grid_gap": null,
            "max_width": null,
            "order": null,
            "_view_module_version": "1.2.0",
            "grid_template_areas": null,
            "object_position": null,
            "object_fit": null,
            "grid_auto_columns": null,
            "margin": null,
            "display": null,
            "left": null
          }
        },
        "3a4c6133a8a44e3dbe34324b85050158": {
          "model_module": "@jupyter-widgets/controls",
          "model_name": "ProgressStyleModel",
          "state": {
            "_view_name": "StyleView",
            "_model_name": "ProgressStyleModel",
            "description_width": "",
            "_view_module": "@jupyter-widgets/base",
            "_model_module_version": "1.5.0",
            "_view_count": null,
            "_view_module_version": "1.2.0",
            "bar_color": null,
            "_model_module": "@jupyter-widgets/controls"
          }
        },
        "e35324c4c26f42a3bfdcd6d36d539959": {
          "model_module": "@jupyter-widgets/base",
          "model_name": "LayoutModel",
          "state": {
            "_view_name": "LayoutView",
            "grid_template_rows": null,
            "right": null,
            "justify_content": null,
            "_view_module": "@jupyter-widgets/base",
            "overflow": null,
            "_model_module_version": "1.2.0",
            "_view_count": null,
            "flex_flow": null,
            "width": null,
            "min_width": null,
            "border": null,
            "align_items": null,
            "bottom": null,
            "_model_module": "@jupyter-widgets/base",
            "top": null,
            "grid_column": null,
            "overflow_y": null,
            "overflow_x": null,
            "grid_auto_flow": null,
            "grid_area": null,
            "grid_template_columns": null,
            "flex": null,
            "_model_name": "LayoutModel",
            "justify_items": null,
            "grid_row": null,
            "max_height": null,
            "align_content": null,
            "visibility": null,
            "align_self": null,
            "height": null,
            "min_height": null,
            "padding": null,
            "grid_auto_rows": null,
            "grid_gap": null,
            "max_width": null,
            "order": null,
            "_view_module_version": "1.2.0",
            "grid_template_areas": null,
            "object_position": null,
            "object_fit": null,
            "grid_auto_columns": null,
            "margin": null,
            "display": null,
            "left": null
          }
        },
        "fea0f82a43644278a698fa83ba0a3ac0": {
          "model_module": "@jupyter-widgets/controls",
          "model_name": "VBoxModel",
          "state": {
            "_view_name": "VBoxView",
            "_dom_classes": [],
            "_model_name": "VBoxModel",
            "_view_module": "@jupyter-widgets/controls",
            "_model_module_version": "1.5.0",
            "_view_count": null,
            "_view_module_version": "1.5.0",
            "box_style": "",
            "layout": "IPY_MODEL_5cd247ac8e5d44eba7ab3bee46562388",
            "_model_module": "@jupyter-widgets/controls",
            "children": [
              "IPY_MODEL_acabf8a52c384c9ea070ba649f5dcee9",
              "IPY_MODEL_357a4d144baa4643a4e03e3f434d80e3"
            ]
          }
        },
        "5cd247ac8e5d44eba7ab3bee46562388": {
          "model_module": "@jupyter-widgets/base",
          "model_name": "LayoutModel",
          "state": {
            "_view_name": "LayoutView",
            "grid_template_rows": null,
            "right": null,
            "justify_content": null,
            "_view_module": "@jupyter-widgets/base",
            "overflow": null,
            "_model_module_version": "1.2.0",
            "_view_count": null,
            "flex_flow": null,
            "width": null,
            "min_width": null,
            "border": null,
            "align_items": null,
            "bottom": null,
            "_model_module": "@jupyter-widgets/base",
            "top": null,
            "grid_column": null,
            "overflow_y": null,
            "overflow_x": null,
            "grid_auto_flow": null,
            "grid_area": null,
            "grid_template_columns": null,
            "flex": null,
            "_model_name": "LayoutModel",
            "justify_items": null,
            "grid_row": null,
            "max_height": null,
            "align_content": null,
            "visibility": null,
            "align_self": null,
            "height": null,
            "min_height": null,
            "padding": null,
            "grid_auto_rows": null,
            "grid_gap": null,
            "max_width": null,
            "order": null,
            "_view_module_version": "1.2.0",
            "grid_template_areas": null,
            "object_position": null,
            "object_fit": null,
            "grid_auto_columns": null,
            "margin": null,
            "display": null,
            "left": null
          }
        },
        "acabf8a52c384c9ea070ba649f5dcee9": {
          "model_module": "@jupyter-widgets/controls",
          "model_name": "LabelModel",
          "state": {
            "_view_name": "LabelView",
            "style": "IPY_MODEL_4a9f95dcc4204975965c4737375f453e",
            "_dom_classes": [],
            "description": "",
            "_model_name": "LabelModel",
            "placeholder": "​",
            "_view_module": "@jupyter-widgets/controls",
            "_model_module_version": "1.5.0",
            "value": " 5.57MB of 5.57MB uploaded (0.00MB deduped)\r",
            "_view_count": null,
            "_view_module_version": "1.5.0",
            "description_tooltip": null,
            "_model_module": "@jupyter-widgets/controls",
            "layout": "IPY_MODEL_719786239f49421a80b467625b2fe844"
          }
        },
        "357a4d144baa4643a4e03e3f434d80e3": {
          "model_module": "@jupyter-widgets/controls",
          "model_name": "FloatProgressModel",
          "state": {
            "_view_name": "ProgressView",
            "style": "IPY_MODEL_2a5b1be31ded4db49a1b35ff8d13d629",
            "_dom_classes": [],
            "description": "",
            "_model_name": "FloatProgressModel",
            "bar_style": "",
            "max": 1,
            "_view_module": "@jupyter-widgets/controls",
            "_model_module_version": "1.5.0",
            "value": 1,
            "_view_count": null,
            "_view_module_version": "1.5.0",
            "orientation": "horizontal",
            "min": 0,
            "description_tooltip": null,
            "_model_module": "@jupyter-widgets/controls",
            "layout": "IPY_MODEL_ebabe72290684a3d91a76701fb3cb5e1"
          }
        },
        "4a9f95dcc4204975965c4737375f453e": {
          "model_module": "@jupyter-widgets/controls",
          "model_name": "DescriptionStyleModel",
          "state": {
            "_view_name": "StyleView",
            "_model_name": "DescriptionStyleModel",
            "description_width": "",
            "_view_module": "@jupyter-widgets/base",
            "_model_module_version": "1.5.0",
            "_view_count": null,
            "_view_module_version": "1.2.0",
            "_model_module": "@jupyter-widgets/controls"
          }
        },
        "719786239f49421a80b467625b2fe844": {
          "model_module": "@jupyter-widgets/base",
          "model_name": "LayoutModel",
          "state": {
            "_view_name": "LayoutView",
            "grid_template_rows": null,
            "right": null,
            "justify_content": null,
            "_view_module": "@jupyter-widgets/base",
            "overflow": null,
            "_model_module_version": "1.2.0",
            "_view_count": null,
            "flex_flow": null,
            "width": null,
            "min_width": null,
            "border": null,
            "align_items": null,
            "bottom": null,
            "_model_module": "@jupyter-widgets/base",
            "top": null,
            "grid_column": null,
            "overflow_y": null,
            "overflow_x": null,
            "grid_auto_flow": null,
            "grid_area": null,
            "grid_template_columns": null,
            "flex": null,
            "_model_name": "LayoutModel",
            "justify_items": null,
            "grid_row": null,
            "max_height": null,
            "align_content": null,
            "visibility": null,
            "align_self": null,
            "height": null,
            "min_height": null,
            "padding": null,
            "grid_auto_rows": null,
            "grid_gap": null,
            "max_width": null,
            "order": null,
            "_view_module_version": "1.2.0",
            "grid_template_areas": null,
            "object_position": null,
            "object_fit": null,
            "grid_auto_columns": null,
            "margin": null,
            "display": null,
            "left": null
          }
        },
        "2a5b1be31ded4db49a1b35ff8d13d629": {
          "model_module": "@jupyter-widgets/controls",
          "model_name": "ProgressStyleModel",
          "state": {
            "_view_name": "StyleView",
            "_model_name": "ProgressStyleModel",
            "description_width": "",
            "_view_module": "@jupyter-widgets/base",
            "_model_module_version": "1.5.0",
            "_view_count": null,
            "_view_module_version": "1.2.0",
            "bar_color": null,
            "_model_module": "@jupyter-widgets/controls"
          }
        },
        "ebabe72290684a3d91a76701fb3cb5e1": {
          "model_module": "@jupyter-widgets/base",
          "model_name": "LayoutModel",
          "state": {
            "_view_name": "LayoutView",
            "grid_template_rows": null,
            "right": null,
            "justify_content": null,
            "_view_module": "@jupyter-widgets/base",
            "overflow": null,
            "_model_module_version": "1.2.0",
            "_view_count": null,
            "flex_flow": null,
            "width": null,
            "min_width": null,
            "border": null,
            "align_items": null,
            "bottom": null,
            "_model_module": "@jupyter-widgets/base",
            "top": null,
            "grid_column": null,
            "overflow_y": null,
            "overflow_x": null,
            "grid_auto_flow": null,
            "grid_area": null,
            "grid_template_columns": null,
            "flex": null,
            "_model_name": "LayoutModel",
            "justify_items": null,
            "grid_row": null,
            "max_height": null,
            "align_content": null,
            "visibility": null,
            "align_self": null,
            "height": null,
            "min_height": null,
            "padding": null,
            "grid_auto_rows": null,
            "grid_gap": null,
            "max_width": null,
            "order": null,
            "_view_module_version": "1.2.0",
            "grid_template_areas": null,
            "object_position": null,
            "object_fit": null,
            "grid_auto_columns": null,
            "margin": null,
            "display": null,
            "left": null
          }
        },
        "00d346cd69c9422a85de2deea45e0421": {
          "model_module": "@jupyter-widgets/controls",
          "model_name": "VBoxModel",
          "state": {
            "_view_name": "VBoxView",
            "_dom_classes": [],
            "_model_name": "VBoxModel",
            "_view_module": "@jupyter-widgets/controls",
            "_model_module_version": "1.5.0",
            "_view_count": null,
            "_view_module_version": "1.5.0",
            "box_style": "",
            "layout": "IPY_MODEL_0aa9531ae1f84df382dc4f084350ae9c",
            "_model_module": "@jupyter-widgets/controls",
            "children": [
              "IPY_MODEL_29dc27c1d4dc4878ab51fcf3b7a0fa0c",
              "IPY_MODEL_8819b9132ba4442f8d2949ecfe6ea48a"
            ]
          }
        },
        "0aa9531ae1f84df382dc4f084350ae9c": {
          "model_module": "@jupyter-widgets/base",
          "model_name": "LayoutModel",
          "state": {
            "_view_name": "LayoutView",
            "grid_template_rows": null,
            "right": null,
            "justify_content": null,
            "_view_module": "@jupyter-widgets/base",
            "overflow": null,
            "_model_module_version": "1.2.0",
            "_view_count": null,
            "flex_flow": null,
            "width": null,
            "min_width": null,
            "border": null,
            "align_items": null,
            "bottom": null,
            "_model_module": "@jupyter-widgets/base",
            "top": null,
            "grid_column": null,
            "overflow_y": null,
            "overflow_x": null,
            "grid_auto_flow": null,
            "grid_area": null,
            "grid_template_columns": null,
            "flex": null,
            "_model_name": "LayoutModel",
            "justify_items": null,
            "grid_row": null,
            "max_height": null,
            "align_content": null,
            "visibility": null,
            "align_self": null,
            "height": null,
            "min_height": null,
            "padding": null,
            "grid_auto_rows": null,
            "grid_gap": null,
            "max_width": null,
            "order": null,
            "_view_module_version": "1.2.0",
            "grid_template_areas": null,
            "object_position": null,
            "object_fit": null,
            "grid_auto_columns": null,
            "margin": null,
            "display": null,
            "left": null
          }
        },
        "29dc27c1d4dc4878ab51fcf3b7a0fa0c": {
          "model_module": "@jupyter-widgets/controls",
          "model_name": "LabelModel",
          "state": {
            "_view_name": "LabelView",
            "style": "IPY_MODEL_9e58e60ef8dc485a9908df65015912b3",
            "_dom_classes": [],
            "description": "",
            "_model_name": "LabelModel",
            "placeholder": "​",
            "_view_module": "@jupyter-widgets/controls",
            "_model_module_version": "1.5.0",
            "value": " 5.58MB of 5.58MB uploaded (0.00MB deduped)\r",
            "_view_count": null,
            "_view_module_version": "1.5.0",
            "description_tooltip": null,
            "_model_module": "@jupyter-widgets/controls",
            "layout": "IPY_MODEL_f5ab11d0fc9a428085ba5f9b3a3f08c8"
          }
        },
        "8819b9132ba4442f8d2949ecfe6ea48a": {
          "model_module": "@jupyter-widgets/controls",
          "model_name": "FloatProgressModel",
          "state": {
            "_view_name": "ProgressView",
            "style": "IPY_MODEL_0e1063c0d0f84dbb89af5e4609606106",
            "_dom_classes": [],
            "description": "",
            "_model_name": "FloatProgressModel",
            "bar_style": "",
            "max": 1,
            "_view_module": "@jupyter-widgets/controls",
            "_model_module_version": "1.5.0",
            "value": 1,
            "_view_count": null,
            "_view_module_version": "1.5.0",
            "orientation": "horizontal",
            "min": 0,
            "description_tooltip": null,
            "_model_module": "@jupyter-widgets/controls",
            "layout": "IPY_MODEL_22e7691b53ea4d59bd8f7d2a0bc735e5"
          }
        },
        "9e58e60ef8dc485a9908df65015912b3": {
          "model_module": "@jupyter-widgets/controls",
          "model_name": "DescriptionStyleModel",
          "state": {
            "_view_name": "StyleView",
            "_model_name": "DescriptionStyleModel",
            "description_width": "",
            "_view_module": "@jupyter-widgets/base",
            "_model_module_version": "1.5.0",
            "_view_count": null,
            "_view_module_version": "1.2.0",
            "_model_module": "@jupyter-widgets/controls"
          }
        },
        "f5ab11d0fc9a428085ba5f9b3a3f08c8": {
          "model_module": "@jupyter-widgets/base",
          "model_name": "LayoutModel",
          "state": {
            "_view_name": "LayoutView",
            "grid_template_rows": null,
            "right": null,
            "justify_content": null,
            "_view_module": "@jupyter-widgets/base",
            "overflow": null,
            "_model_module_version": "1.2.0",
            "_view_count": null,
            "flex_flow": null,
            "width": null,
            "min_width": null,
            "border": null,
            "align_items": null,
            "bottom": null,
            "_model_module": "@jupyter-widgets/base",
            "top": null,
            "grid_column": null,
            "overflow_y": null,
            "overflow_x": null,
            "grid_auto_flow": null,
            "grid_area": null,
            "grid_template_columns": null,
            "flex": null,
            "_model_name": "LayoutModel",
            "justify_items": null,
            "grid_row": null,
            "max_height": null,
            "align_content": null,
            "visibility": null,
            "align_self": null,
            "height": null,
            "min_height": null,
            "padding": null,
            "grid_auto_rows": null,
            "grid_gap": null,
            "max_width": null,
            "order": null,
            "_view_module_version": "1.2.0",
            "grid_template_areas": null,
            "object_position": null,
            "object_fit": null,
            "grid_auto_columns": null,
            "margin": null,
            "display": null,
            "left": null
          }
        },
        "0e1063c0d0f84dbb89af5e4609606106": {
          "model_module": "@jupyter-widgets/controls",
          "model_name": "ProgressStyleModel",
          "state": {
            "_view_name": "StyleView",
            "_model_name": "ProgressStyleModel",
            "description_width": "",
            "_view_module": "@jupyter-widgets/base",
            "_model_module_version": "1.5.0",
            "_view_count": null,
            "_view_module_version": "1.2.0",
            "bar_color": null,
            "_model_module": "@jupyter-widgets/controls"
          }
        },
        "22e7691b53ea4d59bd8f7d2a0bc735e5": {
          "model_module": "@jupyter-widgets/base",
          "model_name": "LayoutModel",
          "state": {
            "_view_name": "LayoutView",
            "grid_template_rows": null,
            "right": null,
            "justify_content": null,
            "_view_module": "@jupyter-widgets/base",
            "overflow": null,
            "_model_module_version": "1.2.0",
            "_view_count": null,
            "flex_flow": null,
            "width": null,
            "min_width": null,
            "border": null,
            "align_items": null,
            "bottom": null,
            "_model_module": "@jupyter-widgets/base",
            "top": null,
            "grid_column": null,
            "overflow_y": null,
            "overflow_x": null,
            "grid_auto_flow": null,
            "grid_area": null,
            "grid_template_columns": null,
            "flex": null,
            "_model_name": "LayoutModel",
            "justify_items": null,
            "grid_row": null,
            "max_height": null,
            "align_content": null,
            "visibility": null,
            "align_self": null,
            "height": null,
            "min_height": null,
            "padding": null,
            "grid_auto_rows": null,
            "grid_gap": null,
            "max_width": null,
            "order": null,
            "_view_module_version": "1.2.0",
            "grid_template_areas": null,
            "object_position": null,
            "object_fit": null,
            "grid_auto_columns": null,
            "margin": null,
            "display": null,
            "left": null
          }
        },
        "c377c3a3c20242ed8365a967cedbc6f2": {
          "model_module": "@jupyter-widgets/controls",
          "model_name": "VBoxModel",
          "state": {
            "_view_name": "VBoxView",
            "_dom_classes": [],
            "_model_name": "VBoxModel",
            "_view_module": "@jupyter-widgets/controls",
            "_model_module_version": "1.5.0",
            "_view_count": null,
            "_view_module_version": "1.5.0",
            "box_style": "",
            "layout": "IPY_MODEL_9859861d95614a808807befd67e64a32",
            "_model_module": "@jupyter-widgets/controls",
            "children": [
              "IPY_MODEL_c0597d91b4c0444c9ed35137fcad1426",
              "IPY_MODEL_83b8e4deae2641d792887d08a9461741"
            ]
          }
        },
        "9859861d95614a808807befd67e64a32": {
          "model_module": "@jupyter-widgets/base",
          "model_name": "LayoutModel",
          "state": {
            "_view_name": "LayoutView",
            "grid_template_rows": null,
            "right": null,
            "justify_content": null,
            "_view_module": "@jupyter-widgets/base",
            "overflow": null,
            "_model_module_version": "1.2.0",
            "_view_count": null,
            "flex_flow": null,
            "width": null,
            "min_width": null,
            "border": null,
            "align_items": null,
            "bottom": null,
            "_model_module": "@jupyter-widgets/base",
            "top": null,
            "grid_column": null,
            "overflow_y": null,
            "overflow_x": null,
            "grid_auto_flow": null,
            "grid_area": null,
            "grid_template_columns": null,
            "flex": null,
            "_model_name": "LayoutModel",
            "justify_items": null,
            "grid_row": null,
            "max_height": null,
            "align_content": null,
            "visibility": null,
            "align_self": null,
            "height": null,
            "min_height": null,
            "padding": null,
            "grid_auto_rows": null,
            "grid_gap": null,
            "max_width": null,
            "order": null,
            "_view_module_version": "1.2.0",
            "grid_template_areas": null,
            "object_position": null,
            "object_fit": null,
            "grid_auto_columns": null,
            "margin": null,
            "display": null,
            "left": null
          }
        },
        "c0597d91b4c0444c9ed35137fcad1426": {
          "model_module": "@jupyter-widgets/controls",
          "model_name": "LabelModel",
          "state": {
            "_view_name": "LabelView",
            "style": "IPY_MODEL_89fd68b29e1a451a8605b0f9ce259061",
            "_dom_classes": [],
            "description": "",
            "_model_name": "LabelModel",
            "placeholder": "​",
            "_view_module": "@jupyter-widgets/controls",
            "_model_module_version": "1.5.0",
            "value": " 5.59MB of 5.59MB uploaded (0.00MB deduped)\r",
            "_view_count": null,
            "_view_module_version": "1.5.0",
            "description_tooltip": null,
            "_model_module": "@jupyter-widgets/controls",
            "layout": "IPY_MODEL_09b159072d46488096e11cc6e82fb95e"
          }
        },
        "83b8e4deae2641d792887d08a9461741": {
          "model_module": "@jupyter-widgets/controls",
          "model_name": "FloatProgressModel",
          "state": {
            "_view_name": "ProgressView",
            "style": "IPY_MODEL_93ec8192acbf4687b187a0883bfc1fdf",
            "_dom_classes": [],
            "description": "",
            "_model_name": "FloatProgressModel",
            "bar_style": "",
            "max": 1,
            "_view_module": "@jupyter-widgets/controls",
            "_model_module_version": "1.5.0",
            "value": 1,
            "_view_count": null,
            "_view_module_version": "1.5.0",
            "orientation": "horizontal",
            "min": 0,
            "description_tooltip": null,
            "_model_module": "@jupyter-widgets/controls",
            "layout": "IPY_MODEL_ab5dc52991af4bc4b5adc8184bc99edc"
          }
        },
        "89fd68b29e1a451a8605b0f9ce259061": {
          "model_module": "@jupyter-widgets/controls",
          "model_name": "DescriptionStyleModel",
          "state": {
            "_view_name": "StyleView",
            "_model_name": "DescriptionStyleModel",
            "description_width": "",
            "_view_module": "@jupyter-widgets/base",
            "_model_module_version": "1.5.0",
            "_view_count": null,
            "_view_module_version": "1.2.0",
            "_model_module": "@jupyter-widgets/controls"
          }
        },
        "09b159072d46488096e11cc6e82fb95e": {
          "model_module": "@jupyter-widgets/base",
          "model_name": "LayoutModel",
          "state": {
            "_view_name": "LayoutView",
            "grid_template_rows": null,
            "right": null,
            "justify_content": null,
            "_view_module": "@jupyter-widgets/base",
            "overflow": null,
            "_model_module_version": "1.2.0",
            "_view_count": null,
            "flex_flow": null,
            "width": null,
            "min_width": null,
            "border": null,
            "align_items": null,
            "bottom": null,
            "_model_module": "@jupyter-widgets/base",
            "top": null,
            "grid_column": null,
            "overflow_y": null,
            "overflow_x": null,
            "grid_auto_flow": null,
            "grid_area": null,
            "grid_template_columns": null,
            "flex": null,
            "_model_name": "LayoutModel",
            "justify_items": null,
            "grid_row": null,
            "max_height": null,
            "align_content": null,
            "visibility": null,
            "align_self": null,
            "height": null,
            "min_height": null,
            "padding": null,
            "grid_auto_rows": null,
            "grid_gap": null,
            "max_width": null,
            "order": null,
            "_view_module_version": "1.2.0",
            "grid_template_areas": null,
            "object_position": null,
            "object_fit": null,
            "grid_auto_columns": null,
            "margin": null,
            "display": null,
            "left": null
          }
        },
        "93ec8192acbf4687b187a0883bfc1fdf": {
          "model_module": "@jupyter-widgets/controls",
          "model_name": "ProgressStyleModel",
          "state": {
            "_view_name": "StyleView",
            "_model_name": "ProgressStyleModel",
            "description_width": "",
            "_view_module": "@jupyter-widgets/base",
            "_model_module_version": "1.5.0",
            "_view_count": null,
            "_view_module_version": "1.2.0",
            "bar_color": null,
            "_model_module": "@jupyter-widgets/controls"
          }
        },
        "ab5dc52991af4bc4b5adc8184bc99edc": {
          "model_module": "@jupyter-widgets/base",
          "model_name": "LayoutModel",
          "state": {
            "_view_name": "LayoutView",
            "grid_template_rows": null,
            "right": null,
            "justify_content": null,
            "_view_module": "@jupyter-widgets/base",
            "overflow": null,
            "_model_module_version": "1.2.0",
            "_view_count": null,
            "flex_flow": null,
            "width": null,
            "min_width": null,
            "border": null,
            "align_items": null,
            "bottom": null,
            "_model_module": "@jupyter-widgets/base",
            "top": null,
            "grid_column": null,
            "overflow_y": null,
            "overflow_x": null,
            "grid_auto_flow": null,
            "grid_area": null,
            "grid_template_columns": null,
            "flex": null,
            "_model_name": "LayoutModel",
            "justify_items": null,
            "grid_row": null,
            "max_height": null,
            "align_content": null,
            "visibility": null,
            "align_self": null,
            "height": null,
            "min_height": null,
            "padding": null,
            "grid_auto_rows": null,
            "grid_gap": null,
            "max_width": null,
            "order": null,
            "_view_module_version": "1.2.0",
            "grid_template_areas": null,
            "object_position": null,
            "object_fit": null,
            "grid_auto_columns": null,
            "margin": null,
            "display": null,
            "left": null
          }
        },
        "8368f360a2bb40efafd11b20ea262c32": {
          "model_module": "@jupyter-widgets/controls",
          "model_name": "VBoxModel",
          "state": {
            "_view_name": "VBoxView",
            "_dom_classes": [],
            "_model_name": "VBoxModel",
            "_view_module": "@jupyter-widgets/controls",
            "_model_module_version": "1.5.0",
            "_view_count": null,
            "_view_module_version": "1.5.0",
            "box_style": "",
            "layout": "IPY_MODEL_94e9d742147643c9abd526a91eec8755",
            "_model_module": "@jupyter-widgets/controls",
            "children": [
              "IPY_MODEL_65d510e306d9451ca9d2dad8b5f4840b",
              "IPY_MODEL_1ac5cc16fe8c459eb2ba24725d4b5bde"
            ]
          }
        },
        "94e9d742147643c9abd526a91eec8755": {
          "model_module": "@jupyter-widgets/base",
          "model_name": "LayoutModel",
          "state": {
            "_view_name": "LayoutView",
            "grid_template_rows": null,
            "right": null,
            "justify_content": null,
            "_view_module": "@jupyter-widgets/base",
            "overflow": null,
            "_model_module_version": "1.2.0",
            "_view_count": null,
            "flex_flow": null,
            "width": null,
            "min_width": null,
            "border": null,
            "align_items": null,
            "bottom": null,
            "_model_module": "@jupyter-widgets/base",
            "top": null,
            "grid_column": null,
            "overflow_y": null,
            "overflow_x": null,
            "grid_auto_flow": null,
            "grid_area": null,
            "grid_template_columns": null,
            "flex": null,
            "_model_name": "LayoutModel",
            "justify_items": null,
            "grid_row": null,
            "max_height": null,
            "align_content": null,
            "visibility": null,
            "align_self": null,
            "height": null,
            "min_height": null,
            "padding": null,
            "grid_auto_rows": null,
            "grid_gap": null,
            "max_width": null,
            "order": null,
            "_view_module_version": "1.2.0",
            "grid_template_areas": null,
            "object_position": null,
            "object_fit": null,
            "grid_auto_columns": null,
            "margin": null,
            "display": null,
            "left": null
          }
        },
        "65d510e306d9451ca9d2dad8b5f4840b": {
          "model_module": "@jupyter-widgets/controls",
          "model_name": "LabelModel",
          "state": {
            "_view_name": "LabelView",
            "style": "IPY_MODEL_0e52ed915f354bcfb72c1edc4a014af9",
            "_dom_classes": [],
            "description": "",
            "_model_name": "LabelModel",
            "placeholder": "​",
            "_view_module": "@jupyter-widgets/controls",
            "_model_module_version": "1.5.0",
            "value": " 5.60MB of 5.60MB uploaded (0.00MB deduped)\r",
            "_view_count": null,
            "_view_module_version": "1.5.0",
            "description_tooltip": null,
            "_model_module": "@jupyter-widgets/controls",
            "layout": "IPY_MODEL_9ee98a783bd4465e8449cef900dcc0c8"
          }
        },
        "1ac5cc16fe8c459eb2ba24725d4b5bde": {
          "model_module": "@jupyter-widgets/controls",
          "model_name": "FloatProgressModel",
          "state": {
            "_view_name": "ProgressView",
            "style": "IPY_MODEL_8ef36c37be354a789da176f233d58329",
            "_dom_classes": [],
            "description": "",
            "_model_name": "FloatProgressModel",
            "bar_style": "",
            "max": 1,
            "_view_module": "@jupyter-widgets/controls",
            "_model_module_version": "1.5.0",
            "value": 1,
            "_view_count": null,
            "_view_module_version": "1.5.0",
            "orientation": "horizontal",
            "min": 0,
            "description_tooltip": null,
            "_model_module": "@jupyter-widgets/controls",
            "layout": "IPY_MODEL_627ccf4f53d0448f94a746c963a0b410"
          }
        },
        "0e52ed915f354bcfb72c1edc4a014af9": {
          "model_module": "@jupyter-widgets/controls",
          "model_name": "DescriptionStyleModel",
          "state": {
            "_view_name": "StyleView",
            "_model_name": "DescriptionStyleModel",
            "description_width": "",
            "_view_module": "@jupyter-widgets/base",
            "_model_module_version": "1.5.0",
            "_view_count": null,
            "_view_module_version": "1.2.0",
            "_model_module": "@jupyter-widgets/controls"
          }
        },
        "9ee98a783bd4465e8449cef900dcc0c8": {
          "model_module": "@jupyter-widgets/base",
          "model_name": "LayoutModel",
          "state": {
            "_view_name": "LayoutView",
            "grid_template_rows": null,
            "right": null,
            "justify_content": null,
            "_view_module": "@jupyter-widgets/base",
            "overflow": null,
            "_model_module_version": "1.2.0",
            "_view_count": null,
            "flex_flow": null,
            "width": null,
            "min_width": null,
            "border": null,
            "align_items": null,
            "bottom": null,
            "_model_module": "@jupyter-widgets/base",
            "top": null,
            "grid_column": null,
            "overflow_y": null,
            "overflow_x": null,
            "grid_auto_flow": null,
            "grid_area": null,
            "grid_template_columns": null,
            "flex": null,
            "_model_name": "LayoutModel",
            "justify_items": null,
            "grid_row": null,
            "max_height": null,
            "align_content": null,
            "visibility": null,
            "align_self": null,
            "height": null,
            "min_height": null,
            "padding": null,
            "grid_auto_rows": null,
            "grid_gap": null,
            "max_width": null,
            "order": null,
            "_view_module_version": "1.2.0",
            "grid_template_areas": null,
            "object_position": null,
            "object_fit": null,
            "grid_auto_columns": null,
            "margin": null,
            "display": null,
            "left": null
          }
        },
        "8ef36c37be354a789da176f233d58329": {
          "model_module": "@jupyter-widgets/controls",
          "model_name": "ProgressStyleModel",
          "state": {
            "_view_name": "StyleView",
            "_model_name": "ProgressStyleModel",
            "description_width": "",
            "_view_module": "@jupyter-widgets/base",
            "_model_module_version": "1.5.0",
            "_view_count": null,
            "_view_module_version": "1.2.0",
            "bar_color": null,
            "_model_module": "@jupyter-widgets/controls"
          }
        },
        "627ccf4f53d0448f94a746c963a0b410": {
          "model_module": "@jupyter-widgets/base",
          "model_name": "LayoutModel",
          "state": {
            "_view_name": "LayoutView",
            "grid_template_rows": null,
            "right": null,
            "justify_content": null,
            "_view_module": "@jupyter-widgets/base",
            "overflow": null,
            "_model_module_version": "1.2.0",
            "_view_count": null,
            "flex_flow": null,
            "width": null,
            "min_width": null,
            "border": null,
            "align_items": null,
            "bottom": null,
            "_model_module": "@jupyter-widgets/base",
            "top": null,
            "grid_column": null,
            "overflow_y": null,
            "overflow_x": null,
            "grid_auto_flow": null,
            "grid_area": null,
            "grid_template_columns": null,
            "flex": null,
            "_model_name": "LayoutModel",
            "justify_items": null,
            "grid_row": null,
            "max_height": null,
            "align_content": null,
            "visibility": null,
            "align_self": null,
            "height": null,
            "min_height": null,
            "padding": null,
            "grid_auto_rows": null,
            "grid_gap": null,
            "max_width": null,
            "order": null,
            "_view_module_version": "1.2.0",
            "grid_template_areas": null,
            "object_position": null,
            "object_fit": null,
            "grid_auto_columns": null,
            "margin": null,
            "display": null,
            "left": null
          }
        }
      }
    }
  },
  "cells": [
    {
      "cell_type": "markdown",
      "metadata": {
        "id": "S1IMTTiRa9RU"
      },
      "source": [
        "## THE EMNIST DATASET \n",
        "\n",
        "The EMNIST dataset is a set of handwritten character digits derived from the NIST Special Database 19 and converted to a 28x28 pixel image format and dataset structure that directly matches the MNIST dataset ."
      ]
    },
    {
      "cell_type": "code",
      "metadata": {
        "id": "CWQs00GWaYq-"
      },
      "source": [
        "import tensorflow as tf\n",
        "import numpy as np\n",
        "from keras.utils import np_utils\n",
        "from keras.models import Sequential\n",
        "from keras.layers import Dense, Dropout, Flatten\n",
        "import matplotlib.pyplot as plt\n",
        "%matplotlib inline\n",
        "import matplotlib.cm as cm"
      ],
      "execution_count": 1,
      "outputs": []
    },
    {
      "cell_type": "code",
      "metadata": {
        "colab": {
          "base_uri": "https://localhost:8080/"
        },
        "id": "7bfe0QFbbVK0",
        "outputId": "ef4f4ee9-32f7-48f1-e1e3-8f8b93886284"
      },
      "source": [
        "!pip install emnist\n",
        "!pip install wandb -qqq\n",
        "import wandb"
      ],
      "execution_count": 2,
      "outputs": [
        {
          "output_type": "stream",
          "text": [
            "Requirement already satisfied: emnist in /usr/local/lib/python3.7/dist-packages (0.0)\n",
            "Requirement already satisfied: numpy in /usr/local/lib/python3.7/dist-packages (from emnist) (1.19.5)\n",
            "Requirement already satisfied: tqdm in /usr/local/lib/python3.7/dist-packages (from emnist) (4.41.1)\n",
            "Requirement already satisfied: requests in /usr/local/lib/python3.7/dist-packages (from emnist) (2.23.0)\n",
            "Requirement already satisfied: idna<3,>=2.5 in /usr/local/lib/python3.7/dist-packages (from requests->emnist) (2.10)\n",
            "Requirement already satisfied: certifi>=2017.4.17 in /usr/local/lib/python3.7/dist-packages (from requests->emnist) (2021.5.30)\n",
            "Requirement already satisfied: chardet<4,>=3.0.2 in /usr/local/lib/python3.7/dist-packages (from requests->emnist) (3.0.4)\n",
            "Requirement already satisfied: urllib3!=1.25.0,!=1.25.1,<1.26,>=1.21.1 in /usr/local/lib/python3.7/dist-packages (from requests->emnist) (1.24.3)\n"
          ],
          "name": "stdout"
        }
      ]
    },
    {
      "cell_type": "code",
      "metadata": {
        "colab": {
          "base_uri": "https://localhost:8080/"
        },
        "id": "bWCsbS7Pb2pL",
        "outputId": "b95795d5-f920-4a6a-8eeb-687437123254"
      },
      "source": [
        "wandb.login()"
      ],
      "execution_count": 3,
      "outputs": [
        {
          "output_type": "stream",
          "text": [
            "\u001b[34m\u001b[1mwandb\u001b[0m: Currently logged in as: \u001b[33manandkarunan\u001b[0m (use `wandb login --relogin` to force relogin)\n"
          ],
          "name": "stderr"
        },
        {
          "output_type": "execute_result",
          "data": {
            "text/plain": [
              "True"
            ]
          },
          "metadata": {
            "tags": []
          },
          "execution_count": 3
        }
      ]
    },
    {
      "cell_type": "code",
      "metadata": {
        "colab": {
          "base_uri": "https://localhost:8080/"
        },
        "id": "mDVhYly0b8VE",
        "outputId": "4227a50b-a6a5-482b-fc64-45ec71fbdba9"
      },
      "source": [
        "from emnist import list_datasets\n",
        "list_datasets()"
      ],
      "execution_count": 4,
      "outputs": [
        {
          "output_type": "execute_result",
          "data": {
            "text/plain": [
              "['balanced', 'byclass', 'bymerge', 'digits', 'letters', 'mnist']"
            ]
          },
          "metadata": {
            "tags": []
          },
          "execution_count": 4
        }
      ]
    },
    {
      "cell_type": "markdown",
      "metadata": {
        "id": "tN1xKFUfcKk7"
      },
      "source": [
        "**Acquire 'letters' for training and testing**"
      ]
    },
    {
      "cell_type": "code",
      "metadata": {
        "id": "oSJXTIVhcHRD"
      },
      "source": [
        "from emnist import extract_training_samples,extract_test_samples\n",
        "X_train, Y_train = extract_training_samples('letters')\n",
        "X_test, Y_test = extract_test_samples('letters')"
      ],
      "execution_count": 5,
      "outputs": []
    },
    {
      "cell_type": "code",
      "metadata": {
        "colab": {
          "base_uri": "https://localhost:8080/"
        },
        "id": "rCdLbi4rczks",
        "outputId": "eddb350f-c572-4b81-af69-f1427c013faa"
      },
      "source": [
        "print(\"There are a total of %d training examples in the EMNIST database.\" %len(X_train))\n",
        "print(\"There are a total of %d testing examples in the EMNIST database.\" %len(X_test))"
      ],
      "execution_count": 6,
      "outputs": [
        {
          "output_type": "stream",
          "text": [
            "There are a total of 124800 training examples in the EMNIST database.\n",
            "There are a total of 20800 testing examples in the EMNIST database.\n"
          ],
          "name": "stdout"
        }
      ]
    },
    {
      "cell_type": "code",
      "metadata": {
        "id": "sE6GCcU4dnLF"
      },
      "source": [
        "def get_label(n):\n",
        "  alphabets = ['MODEL_ERROR','A','B','C','D','E','F','G','H','I','J','K','L','M','N','O','P','Q','R','S','T','U','V','W','X','Y','Z']\n",
        "  return alphabets[n]"
      ],
      "execution_count": 7,
      "outputs": []
    },
    {
      "cell_type": "markdown",
      "metadata": {
        "id": "9ScN-V8xcaH0"
      },
      "source": [
        "# Visualizing the EMNIST dataset"
      ]
    },
    {
      "cell_type": "code",
      "metadata": {
        "colab": {
          "base_uri": "https://localhost:8080/",
          "height": 142
        },
        "id": "OElQducDcYOU",
        "outputId": "5a023228-63a1-4dc0-fcd8-5574d47b36dc"
      },
      "source": [
        "fig = plt.figure(figsize=(20,20))\n",
        "for i in range(10):\n",
        "    letter = fig.add_subplot(1, 10, i+1, xticks=[], yticks=[])\n",
        "    letter.imshow(X_train[i], cmap='gray')\n",
        "    letter.set_title(get_label(Y_train[i]))"
      ],
      "execution_count": 8,
      "outputs": [
        {
          "output_type": "display_data",
          "data": {
            "image/png": "[encoded data removed]",
            "text/plain": [
              "<Figure size 1440x1440 with 10 Axes>"
            ]
          },
          "metadata": {
            "tags": []
          }
        }
      ]
    },
    {
      "cell_type": "code",
      "metadata": {
        "colab": {
          "base_uri": "https://localhost:8080/",
          "height": 606
        },
        "id": "RTDj9hIzcgaM",
        "outputId": "bc1d79be-3d7c-4d07-c463-50b9aced9eda"
      },
      "source": [
        "def img_pixel_details(img, letter):\n",
        "    letter.imshow(img, cmap='gray')\n",
        "    width, height = img.shape\n",
        "    thresh = img.max()/2.5\n",
        "    for x in range(width):\n",
        "        for y in range(height):\n",
        "            letter.annotate(str(round(img[x][y],2)), xy=(y,x),\n",
        "                        horizontalalignment='center',\n",
        "                        verticalalignment='center',\n",
        "                        color='white' if img[x][y]<thresh else 'black')\n",
        "\n",
        "fig = plt.figure(figsize = (10,20)) \n",
        "letter = fig.add_subplot(111)\n",
        "img_pixel_details(X_train[0], letter)"
      ],
      "execution_count": 9,
      "outputs": [
        {
          "output_type": "display_data",
          "data": {
            "image/png": "[encoded data removed]",
            "text/plain": [
              "<Figure size 720x1440 with 1 Axes>"
            ]
          },
          "metadata": {
            "tags": [],
            "needs_background": "light"
          }
        }
      ]
    },
    {
      "cell_type": "markdown",
      "metadata": {
        "id": "C0tdmBD-ewnU"
      },
      "source": [
        "## **Image Rescaling**"
      ]
    },
    {
      "cell_type": "code",
      "metadata": {
        "id": "rqUuzgXYexij"
      },
      "source": [
        "X_train = X_train/255.0\n",
        "X_test = X_test/255.0"
      ],
      "execution_count": 10,
      "outputs": []
    },
    {
      "cell_type": "markdown",
      "metadata": {
        "id": "gT96x2ZgeXYF"
      },
      "source": [
        "## **One-Hot-Encoding** "
      ]
    },
    {
      "cell_type": "code",
      "metadata": {
        "colab": {
          "base_uri": "https://localhost:8080/"
        },
        "id": "u1aK2MqceJyo",
        "outputId": "3220b168-0b4c-4b2f-fbc0-c08d610b53ed"
      },
      "source": [
        "print('Integer-valued label of sample data:',Y_train[0])\n",
        "Y_train = np_utils.to_categorical(Y_train)\n",
        "Y_test = np_utils.to_categorical(Y_test)\n",
        "print('One-hot label of sample data:')\n",
        "Y_train[0]"
      ],
      "execution_count": 11,
      "outputs": [
        {
          "output_type": "stream",
          "text": [
            "Integer-valued label of sample data: 23\n",
            "One-hot label of sample data:\n"
          ],
          "name": "stdout"
        },
        {
          "output_type": "execute_result",
          "data": {
            "text/plain": [
              "array([0., 0., 0., 0., 0., 0., 0., 0., 0., 0., 0., 0., 0., 0., 0., 0., 0.,\n",
              "       0., 0., 0., 0., 0., 0., 1., 0., 0., 0.], dtype=float32)"
            ]
          },
          "metadata": {
            "tags": []
          },
          "execution_count": 11
        }
      ]
    },
    {
      "cell_type": "markdown",
      "metadata": {
        "id": "sY387flTfO1d"
      },
      "source": [
        "# **Weights and Biases**"
      ]
    },
    {
      "cell_type": "markdown",
      "metadata": {
        "id": "9TDXXO-yfV-r"
      },
      "source": [
        "Developer tools for machine learning\n",
        "Build better models faster with experiment tracking, dataset versioning, and model management"
      ]
    },
    {
      "cell_type": "code",
      "metadata": {
        "colab": {
          "base_uri": "https://localhost:8080/",
          "height": 1000,
          "referenced_widgets": [
            "0985a40023c249d7aa8f7126e90e8605",
            "3f9e9e40165a4902a7bf61048ac95d3a",
            "e6b3b8f892554842a5320cac380e6439",
            "89e7b146436d4639a19dff7ef87cb412",
            "7596b3eebdd041ce8bc333d3f4811db9",
            "8d1d634528b142a997a20888de2c27ad",
            "28c90dc6393b45269478d80593af7512",
            "16b2c6b471474c8d8d8752134a73acb3",
            "c0734739b7684ac9a946c83dbaf8f8d0",
            "95aa2f6185f14f00af1f0ab62f069403",
            "9862b9e2d4334a408870b36b47328f4f",
            "f52e20cc5718414d8132730e4551fd97",
            "e3a1245ddd004850b7540fce2926837e",
            "12b2b9bde77e47e689dd11c068bf929d",
            "0c07ea90e0444eae90aba4638b0749f7",
            "87d30056fb0d499ba0bed4bfe4c86078",
            "eeb8b789c6534831b5e84cd8df533ef5",
            "9ee1551235514a9e83758c932162d91c",
            "78a91ffb5d2643c5979d62917068fb6f",
            "b920ed41ea30459b9b7c8d795f02fd3d",
            "4728babbb9be4fe5974f4c431423ec94",
            "e723d89dd54b415b9abc7b503b8baa42",
            "e848673d1c78439683a144617290aefd",
            "0a0720527f9842bab166fbba86b4617f",
            "5662dbf82b984ddfbf5bfb7a543061d5",
            "10965f086308437cbb61f9f38738afa6",
            "6b71de7080c847fcbde8791882cbbc37",
            "bc0d3bf6e3c149fdac4f54fce3992fb7",
            "05eaf249d69c4d97a7d3a63740c51039",
            "feef387252bf4c03b1d7630ff6b7dca3",
            "fe5476c3ada34fa886403fea8da90057",
            "ad970c6161344927adbfbca37806fc19",
            "1f0ab5f00d6e48988e032ba6789d0595",
            "46ab9d6b82ec40cc9e34596a1218e5dd",
            "55fdba0908844adc811e290abba14e49",
            "62f45d955e264b2caa63caceb024fa91",
            "9ee5283e25b94de98372942b6cc6bf94",
            "7c9a7f25d0274eb2a18a012e7a2ac95d",
            "1972988f59f94af483550d05c48b27db",
            "aaec7e2f04b2404eb74e0bbbfd9c8890",
            "f36186d8ea8d4b6298ebe9c4f134e133",
            "919782343f3744e89a2adfcffaefd222",
            "2f9cb5f8770940aeab6dacf9097a4166",
            "342e36d23d894f458feff6bc45c9e55a",
            "9f5f0d6e6e96418782c81f0c0c271f1d",
            "48bb7ee9ef7c4833b7e7b5af55537e91",
            "d51a6b7604f24f268537c664911c826d",
            "f0c5971ab7704c30b19b6de39b73f111",
            "e670836e1d1944dcac15bddc8267719a",
            "d5f090334fb34a45aff6c12ebae332f7",
            "84595f17106b4579ba57a224b9bdd338",
            "00bdda9fcbd5480fbe57fa7648e23122",
            "c5778d4b4b6d4a66b55728a6cfe13007",
            "61eeb4a1871545bf9ee83c64c71fcae2",
            "1034877cd84049a6a1f373a4f7f5a31c",
            "359225538dcf4c859366b11e9b0cdeca",
            "f7034f324cfc43649a8e442db9a37fba",
            "b7bf54272083492cb36f397d985907d5",
            "36f7372e64244a919631e8de0e928136",
            "c3436369b8ff41aeb3e7b9fb5d7cc8de",
            "b88cc83f723144aaba14a741c9eac2a9",
            "00099eff791b43488dc80702139f33c8",
            "b97661fd0f09450c8bffaff267c785a2",
            "718361f8c72444b0b3c2e535191c4803",
            "8c5438321e3f478885e903221c010585",
            "4f6cb07e27de49a08b306b352802e1e4",
            "3a57b835b88c441a80e12fd925086e9a",
            "f5552f4c69684bd4a225e91a50f9aceb",
            "2c9c69d05f49443b817a981f4be0174a",
            "215a03cbae7e499c9f95c1c8b1352ba5",
            "03497176179f442db98890e2fb81b5ca",
            "3a255c92a32d429fa8105a6e982c38d0",
            "93e0bb16d11b4ff99070426809db7ace",
            "4ec3c5375cd44f03b30b2b6964b227b2",
            "5c6296bb13a04fd4acbe4286bea9b194",
            "5bde43d238ef422287bd2eb28796ace0",
            "635529e606e241359c19ce61897d964d",
            "48c1060efa0848ee947c82b7b0ff5cb3",
            "26f072c70b094919a9660063d07dadd0",
            "e169997dc0b24268b5aa26fed0723ca6",
            "4bd059fbba224950bd3138c04aedc8d3",
            "c5f2cbfdf25f4fdd92d4e642f031ecca",
            "49b4c64f60bf4febbb260b17715de079",
            "4594d7ff3d8a49c0858241101509802c",
            "d6a263a0cdc349bea1f5de541a1cee6c",
            "874a5aabd4e94cc49325fc0b433ca045",
            "abda602fb80049a19747e69d6a5c7a84",
            "0e2129770d754408adbd86f244185367",
            "66a7a356d8934d25a200cc2d0be97f50",
            "b49f89e04f734b50873e85e6dca9cf76",
            "a9f4931c0f1443e0b2e2f65f9d9b8ed3",
            "786fe1f9bc5d4908a1aed911c5e73a5f",
            "d7aedd6b3d71409e97a68cbb74092179",
            "36b0f3f251f04928921d60679985c136",
            "ba6056d4a05441c09e998d38c25d667a",
            "15f2242ed6054b4281b8923578401dde",
            "8804d005e33e428cb7de9aa25ee745a9",
            "aef2451cfa3e49e39b72ba8e50478fba",
            "a0621f3bd7f748beb145e2411516d43c",
            "a2d2894810fb4ed5937d0ee6c5cdea80",
            "973f5453450242c7a41947c8a6330684",
            "493347931e4648f28c43065d52bca2e9",
            "a01e8130c11848ddbb22252a6637c978",
            "b331b256f4a44b1b9e572306f09337da",
            "dcaed861cd824cef96bc878dde86f0ef",
            "0bd43ba5989444d082183f9fc3d296cc",
            "134eb46bc64146cbb269907422ae0ddf",
            "6e3306b2e43c494fbd17246108bd14ea",
            "099991c6a124468da667b76203002867",
            "7a5e69a4425a4ed2a664bb3e68daf5c7",
            "3f507f0ae69341d08196c632a65c6db7",
            "ec8b103033514cd3a39f0fe0de9a1989",
            "da9e186edbf54c21b49ac669ede11898",
            "9f6a0d8eaa4744cd9f34ea3dd74612cc",
            "1aee5965c97c420ea248531a23ef0630",
            "df36e14a9bae4da4a63adf33e98c3bac",
            "a5936437a3d54398b3ffc424adc38e9a",
            "df8432d69ddd48a5a5342a22dac125a0",
            "4368fa70b5974388ae439488e117b18f",
            "87031c807efb4b919e7545bd9710c001",
            "5d3c3ca9e6a442d38accfa6261d92a01",
            "35187a751ea44b49b980ea3e29736aac",
            "9252e1c7182346c78b24b0500ff27580",
            "b4b7824f14f64022b871e567948c3720",
            "6f5ba604d8dd4dd7b4df315d13d2a8ee",
            "cba74221f7c044edb4bf2543c3e2820c",
            "3a4c6133a8a44e3dbe34324b85050158",
            "e35324c4c26f42a3bfdcd6d36d539959",
            "fea0f82a43644278a698fa83ba0a3ac0",
            "5cd247ac8e5d44eba7ab3bee46562388",
            "acabf8a52c384c9ea070ba649f5dcee9",
            "357a4d144baa4643a4e03e3f434d80e3",
            "4a9f95dcc4204975965c4737375f453e",
            "719786239f49421a80b467625b2fe844",
            "2a5b1be31ded4db49a1b35ff8d13d629",
            "ebabe72290684a3d91a76701fb3cb5e1",
            "00d346cd69c9422a85de2deea45e0421",
            "0aa9531ae1f84df382dc4f084350ae9c",
            "29dc27c1d4dc4878ab51fcf3b7a0fa0c",
            "8819b9132ba4442f8d2949ecfe6ea48a",
            "9e58e60ef8dc485a9908df65015912b3",
            "f5ab11d0fc9a428085ba5f9b3a3f08c8",
            "0e1063c0d0f84dbb89af5e4609606106",
            "22e7691b53ea4d59bd8f7d2a0bc735e5",
            "c377c3a3c20242ed8365a967cedbc6f2",
            "9859861d95614a808807befd67e64a32",
            "c0597d91b4c0444c9ed35137fcad1426",
            "83b8e4deae2641d792887d08a9461741",
            "89fd68b29e1a451a8605b0f9ce259061",
            "09b159072d46488096e11cc6e82fb95e",
            "93ec8192acbf4687b187a0883bfc1fdf",
            "ab5dc52991af4bc4b5adc8184bc99edc",
            "8368f360a2bb40efafd11b20ea262c32",
            "94e9d742147643c9abd526a91eec8755",
            "65d510e306d9451ca9d2dad8b5f4840b",
            "1ac5cc16fe8c459eb2ba24725d4b5bde",
            "0e52ed915f354bcfb72c1edc4a014af9",
            "9ee98a783bd4465e8449cef900dcc0c8",
            "8ef36c37be354a789da176f233d58329",
            "627ccf4f53d0448f94a746c963a0b410"
          ]
        },
        "id": "TcpdGAn_eeML",
        "outputId": "5e587f42-17c4-4bd1-fcf4-a45c2f0e148e"
      },
      "source": [
        "import tensorflow as tf\n",
        "from tensorflow.keras.callbacks import Callback\n",
        "from wandb.keras import WandbCallback\n",
        "import random\n",
        "\n",
        "for run in range(20):\n",
        "  wandb.init(\n",
        "      project=\"EMNIST_0\",\n",
        "      entity=\"anandkarunan\",\n",
        "      config={\n",
        "          \"layer_1\": 512,\n",
        "          \"activation_1\": \"relu\",\n",
        "          \"dropout\": random.uniform(0.01, 0.40),\n",
        "          \"layer_2\": 512,\n",
        "          \"activation_2\": \"relu\",\n",
        "          \"layer_3\": 27,\n",
        "          \"activation_3\": \"softmax\",\n",
        "          \"optimizer\": \"rmsprop\",\n",
        "          \"loss\": \"categorical_crossentropy\",\n",
        "          \"metric\": \"accuracy\",\n",
        "          \"epoch\": 10,\n",
        "          \"batch_size\": 128\n",
        "      })\n",
        "  config = wandb.config\n",
        "\n",
        "  model = tf.keras.models.Sequential([\n",
        "      tf.keras.layers.Flatten(input_shape=(X_train.shape[1:])),\n",
        "      tf.keras.layers.Dense(config.layer_1, activation=config.activation_1),\n",
        "      tf.keras.layers.Dropout(config.dropout),\n",
        "      tf.keras.layers.Dense(config.layer_2, activation=config.activation_2),\n",
        "      tf.keras.layers.Dropout(config.dropout),\n",
        "      tf.keras.layers.Dense(config.layer_3, activation=config.activation_3)\n",
        "      ])\n",
        "\n",
        "  model.compile(optimizer=config.optimizer,\n",
        "                loss=config.loss,\n",
        "                metrics=[config.metric]\n",
        "                )\n",
        "\n",
        "  history = model.fit(x=X_train,\n",
        "                      y=Y_train,\n",
        "                      epochs=config.epoch,\n",
        "                      batch_size=config.batch_size,\n",
        "                      validation_split=0.2,\n",
        "                      callbacks=[WandbCallback()]\n",
        "                      )\n",
        "\n",
        "  wandb.finish()"
      ],
      "execution_count": 12,
      "outputs": [
        {
          "output_type": "display_data",
          "data": {
            "text/html": [
              "\n",
              "                Tracking run with wandb version 0.10.33<br/>\n",
              "                Syncing run <strong style=\"color:#cdcd00\">northern-voice-1</strong> to <a href=\"https://wandb.ai\" target=\"_blank\">Weights & Biases</a> <a href=\"https://docs.wandb.com/integrations/jupyter.html\" target=\"_blank\">(Documentation)</a>.<br/>\n",
              "                Project page: <a href=\"https://wandb.ai/anandkarunan/EMNIST_0\" target=\"_blank\">https://wandb.ai/anandkarunan/EMNIST_0</a><br/>\n",
              "                Run page: <a href=\"https://wandb.ai/anandkarunan/EMNIST_0/runs/23rcjxrq\" target=\"_blank\">https://wandb.ai/anandkarunan/EMNIST_0/runs/23rcjxrq</a><br/>\n",
              "                Run data is saved locally in <code>/content/wandb/run-20210713_110845-23rcjxrq</code><br/><br/>\n",
              "            "
            ],
            "text/plain": [
              "<IPython.core.display.HTML object>"
            ]
          },
          "metadata": {
            "tags": []
          }
        },
        {
          "output_type": "stream",
          "text": [
            "Epoch 1/10\n",
            "780/780 [==============================] - 6s 6ms/step - loss: 0.8319 - accuracy: 0.7463 - val_loss: 0.4560 - val_accuracy: 0.8558\n",
            "Epoch 2/10\n",
            "780/780 [==============================] - 4s 5ms/step - loss: 0.4733 - accuracy: 0.8513 - val_loss: 0.3676 - val_accuracy: 0.8869\n",
            "Epoch 3/10\n",
            "780/780 [==============================] - 4s 5ms/step - loss: 0.4066 - accuracy: 0.8726 - val_loss: 0.3272 - val_accuracy: 0.8966\n",
            "Epoch 4/10\n",
            "780/780 [==============================] - 4s 5ms/step - loss: 0.3784 - accuracy: 0.8811 - val_loss: 0.3043 - val_accuracy: 0.9041\n",
            "Epoch 5/10\n",
            "780/780 [==============================] - 4s 5ms/step - loss: 0.3612 - accuracy: 0.8886 - val_loss: 0.3098 - val_accuracy: 0.9094\n",
            "Epoch 6/10\n",
            "780/780 [==============================] - 5s 6ms/step - loss: 0.3533 - accuracy: 0.8908 - val_loss: 0.3074 - val_accuracy: 0.9095\n",
            "Epoch 7/10\n",
            "780/780 [==============================] - 5s 6ms/step - loss: 0.3505 - accuracy: 0.8924 - val_loss: 0.3043 - val_accuracy: 0.9129\n",
            "Epoch 8/10\n",
            "780/780 [==============================] - 4s 5ms/step - loss: 0.3498 - accuracy: 0.8945 - val_loss: 0.3082 - val_accuracy: 0.9111\n",
            "Epoch 9/10\n",
            "780/780 [==============================] - 5s 6ms/step - loss: 0.3515 - accuracy: 0.8942 - val_loss: 0.3149 - val_accuracy: 0.9127\n",
            "Epoch 10/10\n",
            "780/780 [==============================] - 4s 5ms/step - loss: 0.3569 - accuracy: 0.8952 - val_loss: 0.3172 - val_accuracy: 0.9132\n"
          ],
          "name": "stdout"
        },
        {
          "output_type": "display_data",
          "data": {
            "text/html": [
              "<br/>Waiting for W&B process to finish, PID 1222<br/>Program ended successfully."
            ],
            "text/plain": [
              "<IPython.core.display.HTML object>"
            ]
          },
          "metadata": {
            "tags": []
          }
        },
        {
          "output_type": "display_data",
          "data": {
            "application/vnd.jupyter.widget-view+json": {
              "model_id": "0985a40023c249d7aa8f7126e90e8605",
              "version_minor": 0,
              "version_major": 2
            },
            "text/plain": [
              "VBox(children=(Label(value=' 5.36MB of 5.36MB uploaded (0.00MB deduped)\\r'), FloatProgress(value=1.0, max=1.0)…"
            ]
          },
          "metadata": {
            "tags": []
          }
        },
        {
          "output_type": "display_data",
          "data": {
            "text/html": [
              "Find user logs for this run at: <code>/content/wandb/run-20210713_110845-23rcjxrq/logs/debug.log</code>"
            ],
            "text/plain": [
              "<IPython.core.display.HTML object>"
            ]
          },
          "metadata": {
            "tags": []
          }
        },
        {
          "output_type": "display_data",
          "data": {
            "text/html": [
              "Find internal logs for this run at: <code>/content/wandb/run-20210713_110845-23rcjxrq/logs/debug-internal.log</code>"
            ],
            "text/plain": [
              "<IPython.core.display.HTML object>"
            ]
          },
          "metadata": {
            "tags": []
          }
        },
        {
          "output_type": "display_data",
          "data": {
            "text/html": [
              "<h3>Run summary:</h3><br/><style>\n",
              "    table.wandb td:nth-child(1) { padding: 0 10px; text-align: right }\n",
              "    </style><table class=\"wandb\">\n",
              "<tr><td>epoch</td><td>9</td></tr><tr><td>loss</td><td>0.3569</td></tr><tr><td>accuracy</td><td>0.8952</td></tr><tr><td>val_loss</td><td>0.31718</td></tr><tr><td>val_accuracy</td><td>0.91322</td></tr><tr><td>_runtime</td><td>51</td></tr><tr><td>_timestamp</td><td>1626174576</td></tr><tr><td>_step</td><td>9</td></tr><tr><td>best_val_loss</td><td>0.30429</td></tr><tr><td>best_epoch</td><td>6</td></tr></table>"
            ],
            "text/plain": [
              "<IPython.core.display.HTML object>"
            ]
          },
          "metadata": {
            "tags": []
          }
        },
        {
          "output_type": "display_data",
          "data": {
            "text/html": [
              "<h3>Run history:</h3><br/><style>\n",
              "    table.wandb td:nth-child(1) { padding: 0 10px; text-align: right }\n",
              "    </style><table class=\"wandb\">\n",
              "<tr><td>epoch</td><td>▁▂▃▃▄▅▆▆▇█</td></tr><tr><td>loss</td><td>█▃▂▁▁▁▁▁▁▁</td></tr><tr><td>accuracy</td><td>▁▆▇▇██████</td></tr><tr><td>val_loss</td><td>█▄▂▁▁▁▁▁▁▂</td></tr><tr><td>val_accuracy</td><td>▁▅▆▇██████</td></tr><tr><td>_runtime</td><td>▁▂▃▃▄▅▆▆▇█</td></tr><tr><td>_timestamp</td><td>▁▂▃▃▄▅▆▆▇█</td></tr><tr><td>_step</td><td>▁▂▃▃▄▅▆▆▇█</td></tr></table><br/>"
            ],
            "text/plain": [
              "<IPython.core.display.HTML object>"
            ]
          },
          "metadata": {
            "tags": []
          }
        },
        {
          "output_type": "display_data",
          "data": {
            "text/html": [
              "Synced 5 W&B file(s), 1 media file(s), 2 artifact file(s) and 2 other file(s)"
            ],
            "text/plain": [
              "<IPython.core.display.HTML object>"
            ]
          },
          "metadata": {
            "tags": []
          }
        },
        {
          "output_type": "display_data",
          "data": {
            "text/html": [
              "\n",
              "                    <br/>Synced <strong style=\"color:#cdcd00\">northern-voice-1</strong>: <a href=\"https://wandb.ai/anandkarunan/EMNIST_0/runs/23rcjxrq\" target=\"_blank\">https://wandb.ai/anandkarunan/EMNIST_0/runs/23rcjxrq</a><br/>\n",
              "                "
            ],
            "text/plain": [
              "<IPython.core.display.HTML object>"
            ]
          },
          "metadata": {
            "tags": []
          }
        },
        {
          "output_type": "display_data",
          "data": {
            "text/html": [
              "\n",
              "                Tracking run with wandb version 0.10.33<br/>\n",
              "                Syncing run <strong style=\"color:#cdcd00\">rare-salad-2</strong> to <a href=\"https://wandb.ai\" target=\"_blank\">Weights & Biases</a> <a href=\"https://docs.wandb.com/integrations/jupyter.html\" target=\"_blank\">(Documentation)</a>.<br/>\n",
              "                Project page: <a href=\"https://wandb.ai/anandkarunan/EMNIST_0\" target=\"_blank\">https://wandb.ai/anandkarunan/EMNIST_0</a><br/>\n",
              "                Run page: <a href=\"https://wandb.ai/anandkarunan/EMNIST_0/runs/rzobel4d\" target=\"_blank\">https://wandb.ai/anandkarunan/EMNIST_0/runs/rzobel4d</a><br/>\n",
              "                Run data is saved locally in <code>/content/wandb/run-20210713_110943-rzobel4d</code><br/><br/>\n",
              "            "
            ],
            "text/plain": [
              "<IPython.core.display.HTML object>"
            ]
          },
          "metadata": {
            "tags": []
          }
        },
        {
          "output_type": "stream",
          "text": [
            "Epoch 1/10\n",
            "780/780 [==============================] - 5s 6ms/step - loss: 0.8428 - accuracy: 0.7436 - val_loss: 0.4347 - val_accuracy: 0.8665\n",
            "Epoch 2/10\n",
            "780/780 [==============================] - 4s 6ms/step - loss: 0.4801 - accuracy: 0.8505 - val_loss: 0.3556 - val_accuracy: 0.8867\n",
            "Epoch 3/10\n",
            "780/780 [==============================] - 5s 6ms/step - loss: 0.4181 - accuracy: 0.8680 - val_loss: 0.3185 - val_accuracy: 0.9006\n",
            "Epoch 4/10\n",
            "780/780 [==============================] - 4s 5ms/step - loss: 0.3827 - accuracy: 0.8801 - val_loss: 0.3137 - val_accuracy: 0.9022\n",
            "Epoch 5/10\n",
            "780/780 [==============================] - 5s 6ms/step - loss: 0.3667 - accuracy: 0.8860 - val_loss: 0.3067 - val_accuracy: 0.9088\n",
            "Epoch 6/10\n",
            "780/780 [==============================] - 4s 6ms/step - loss: 0.3595 - accuracy: 0.8900 - val_loss: 0.3186 - val_accuracy: 0.9088\n",
            "Epoch 7/10\n",
            "780/780 [==============================] - 4s 6ms/step - loss: 0.3568 - accuracy: 0.8921 - val_loss: 0.3157 - val_accuracy: 0.9069\n",
            "Epoch 8/10\n",
            "780/780 [==============================] - 4s 5ms/step - loss: 0.3557 - accuracy: 0.8915 - val_loss: 0.3218 - val_accuracy: 0.9131\n",
            "Epoch 9/10\n",
            "780/780 [==============================] - 5s 6ms/step - loss: 0.3564 - accuracy: 0.8940 - val_loss: 0.3168 - val_accuracy: 0.9128\n",
            "Epoch 10/10\n",
            "780/780 [==============================] - 5s 6ms/step - loss: 0.3580 - accuracy: 0.8950 - val_loss: 0.3197 - val_accuracy: 0.9116\n"
          ],
          "name": "stdout"
        },
        {
          "output_type": "display_data",
          "data": {
            "text/html": [
              "<br/>Waiting for W&B process to finish, PID 1313<br/>Program ended successfully."
            ],
            "text/plain": [
              "<IPython.core.display.HTML object>"
            ]
          },
          "metadata": {
            "tags": []
          }
        },
        {
          "output_type": "display_data",
          "data": {
            "application/vnd.jupyter.widget-view+json": {
              "model_id": "c0734739b7684ac9a946c83dbaf8f8d0",
              "version_minor": 0,
              "version_major": 2
            },
            "text/plain": [
              "VBox(children=(Label(value=' 5.37MB of 5.37MB uploaded (0.00MB deduped)\\r'), FloatProgress(value=1.0, max=1.0)…"
            ]
          },
          "metadata": {
            "tags": []
          }
        },
        {
          "output_type": "display_data",
          "data": {
            "text/html": [
              "Find user logs for this run at: <code>/content/wandb/run-20210713_110943-rzobel4d/logs/debug.log</code>"
            ],
            "text/plain": [
              "<IPython.core.display.HTML object>"
            ]
          },
          "metadata": {
            "tags": []
          }
        },
        {
          "output_type": "display_data",
          "data": {
            "text/html": [
              "Find internal logs for this run at: <code>/content/wandb/run-20210713_110943-rzobel4d/logs/debug-internal.log</code>"
            ],
            "text/plain": [
              "<IPython.core.display.HTML object>"
            ]
          },
          "metadata": {
            "tags": []
          }
        },
        {
          "output_type": "display_data",
          "data": {
            "text/html": [
              "<h3>Run summary:</h3><br/><style>\n",
              "    table.wandb td:nth-child(1) { padding: 0 10px; text-align: right }\n",
              "    </style><table class=\"wandb\">\n",
              "<tr><td>epoch</td><td>9</td></tr><tr><td>loss</td><td>0.35804</td></tr><tr><td>accuracy</td><td>0.89502</td></tr><tr><td>val_loss</td><td>0.31972</td></tr><tr><td>val_accuracy</td><td>0.91162</td></tr><tr><td>_runtime</td><td>50</td></tr><tr><td>_timestamp</td><td>1626174633</td></tr><tr><td>_step</td><td>9</td></tr><tr><td>best_val_loss</td><td>0.3067</td></tr><tr><td>best_epoch</td><td>4</td></tr></table>"
            ],
            "text/plain": [
              "<IPython.core.display.HTML object>"
            ]
          },
          "metadata": {
            "tags": []
          }
        },
        {
          "output_type": "display_data",
          "data": {
            "text/html": [
              "<h3>Run history:</h3><br/><style>\n",
              "    table.wandb td:nth-child(1) { padding: 0 10px; text-align: right }\n",
              "    </style><table class=\"wandb\">\n",
              "<tr><td>epoch</td><td>▁▂▃▃▄▅▆▆▇█</td></tr><tr><td>loss</td><td>█▃▂▁▁▁▁▁▁▁</td></tr><tr><td>accuracy</td><td>▁▆▇▇██████</td></tr><tr><td>val_loss</td><td>█▄▂▁▁▂▁▂▂▂</td></tr><tr><td>val_accuracy</td><td>▁▄▆▆▇▇▇███</td></tr><tr><td>_runtime</td><td>▁▂▃▃▄▅▆▆▇█</td></tr><tr><td>_timestamp</td><td>▁▂▃▃▄▅▆▆▇█</td></tr><tr><td>_step</td><td>▁▂▃▃▄▅▆▆▇█</td></tr></table><br/>"
            ],
            "text/plain": [
              "<IPython.core.display.HTML object>"
            ]
          },
          "metadata": {
            "tags": []
          }
        },
        {
          "output_type": "display_data",
          "data": {
            "text/html": [
              "Synced 5 W&B file(s), 1 media file(s), 2 artifact file(s) and 2 other file(s)"
            ],
            "text/plain": [
              "<IPython.core.display.HTML object>"
            ]
          },
          "metadata": {
            "tags": []
          }
        },
        {
          "output_type": "display_data",
          "data": {
            "text/html": [
              "\n",
              "                    <br/>Synced <strong style=\"color:#cdcd00\">rare-salad-2</strong>: <a href=\"https://wandb.ai/anandkarunan/EMNIST_0/runs/rzobel4d\" target=\"_blank\">https://wandb.ai/anandkarunan/EMNIST_0/runs/rzobel4d</a><br/>\n",
              "                "
            ],
            "text/plain": [
              "<IPython.core.display.HTML object>"
            ]
          },
          "metadata": {
            "tags": []
          }
        },
        {
          "output_type": "display_data",
          "data": {
            "text/html": [
              "\n",
              "                Tracking run with wandb version 0.10.33<br/>\n",
              "                Syncing run <strong style=\"color:#cdcd00\">apricot-puddle-3</strong> to <a href=\"https://wandb.ai\" target=\"_blank\">Weights & Biases</a> <a href=\"https://docs.wandb.com/integrations/jupyter.html\" target=\"_blank\">(Documentation)</a>.<br/>\n",
              "                Project page: <a href=\"https://wandb.ai/anandkarunan/EMNIST_0\" target=\"_blank\">https://wandb.ai/anandkarunan/EMNIST_0</a><br/>\n",
              "                Run page: <a href=\"https://wandb.ai/anandkarunan/EMNIST_0/runs/ozc7sfbx\" target=\"_blank\">https://wandb.ai/anandkarunan/EMNIST_0/runs/ozc7sfbx</a><br/>\n",
              "                Run data is saved locally in <code>/content/wandb/run-20210713_111041-ozc7sfbx</code><br/><br/>\n",
              "            "
            ],
            "text/plain": [
              "<IPython.core.display.HTML object>"
            ]
          },
          "metadata": {
            "tags": []
          }
        },
        {
          "output_type": "stream",
          "text": [
            "Epoch 1/10\n",
            "  1/780 [..............................] - ETA: 7:49 - loss: 3.4104 - accuracy: 0.0469WARNING:tensorflow:Callback method `on_train_batch_end` is slow compared to the batch time (batch time: 0.0031s vs `on_train_batch_end` time: 0.0034s). Check your callbacks.\n",
            "780/780 [==============================] - 5s 6ms/step - loss: 0.7456 - accuracy: 0.7717 - val_loss: 0.4004 - val_accuracy: 0.8775\n",
            "Epoch 2/10\n",
            "780/780 [==============================] - 4s 6ms/step - loss: 0.4077 - accuracy: 0.8706 - val_loss: 0.3359 - val_accuracy: 0.8911\n",
            "Epoch 3/10\n",
            "780/780 [==============================] - 4s 6ms/step - loss: 0.3422 - accuracy: 0.8901 - val_loss: 0.2937 - val_accuracy: 0.9099\n",
            "Epoch 4/10\n",
            "780/780 [==============================] - 4s 6ms/step - loss: 0.3084 - accuracy: 0.9009 - val_loss: 0.2970 - val_accuracy: 0.9101\n",
            "Epoch 5/10\n",
            "780/780 [==============================] - 4s 5ms/step - loss: 0.2917 - accuracy: 0.9063 - val_loss: 0.2933 - val_accuracy: 0.9107\n",
            "Epoch 6/10\n",
            "780/780 [==============================] - 4s 5ms/step - loss: 0.2794 - accuracy: 0.9107 - val_loss: 0.3095 - val_accuracy: 0.9137\n",
            "Epoch 7/10\n",
            "780/780 [==============================] - 5s 6ms/step - loss: 0.2739 - accuracy: 0.9119 - val_loss: 0.3051 - val_accuracy: 0.9136\n",
            "Epoch 8/10\n",
            "780/780 [==============================] - 5s 6ms/step - loss: 0.2675 - accuracy: 0.9150 - val_loss: 0.3332 - val_accuracy: 0.9147\n",
            "Epoch 9/10\n",
            "780/780 [==============================] - 5s 6ms/step - loss: 0.2684 - accuracy: 0.9162 - val_loss: 0.3238 - val_accuracy: 0.9132\n",
            "Epoch 10/10\n",
            "780/780 [==============================] - 4s 6ms/step - loss: 0.2617 - accuracy: 0.9179 - val_loss: 0.3172 - val_accuracy: 0.9148\n"
          ],
          "name": "stdout"
        },
        {
          "output_type": "display_data",
          "data": {
            "text/html": [
              "<br/>Waiting for W&B process to finish, PID 1388<br/>Program ended successfully."
            ],
            "text/plain": [
              "<IPython.core.display.HTML object>"
            ]
          },
          "metadata": {
            "tags": []
          }
        },
        {
          "output_type": "display_data",
          "data": {
            "application/vnd.jupyter.widget-view+json": {
              "model_id": "eeb8b789c6534831b5e84cd8df533ef5",
              "version_minor": 0,
              "version_major": 2
            },
            "text/plain": [
              "VBox(children=(Label(value=' 5.38MB of 5.38MB uploaded (0.00MB deduped)\\r'), FloatProgress(value=1.0, max=1.0)…"
            ]
          },
          "metadata": {
            "tags": []
          }
        },
        {
          "output_type": "display_data",
          "data": {
            "text/html": [
              "Find user logs for this run at: <code>/content/wandb/run-20210713_111041-ozc7sfbx/logs/debug.log</code>"
            ],
            "text/plain": [
              "<IPython.core.display.HTML object>"
            ]
          },
          "metadata": {
            "tags": []
          }
        },
        {
          "output_type": "display_data",
          "data": {
            "text/html": [
              "Find internal logs for this run at: <code>/content/wandb/run-20210713_111041-ozc7sfbx/logs/debug-internal.log</code>"
            ],
            "text/plain": [
              "<IPython.core.display.HTML object>"
            ]
          },
          "metadata": {
            "tags": []
          }
        },
        {
          "output_type": "display_data",
          "data": {
            "text/html": [
              "<h3>Run summary:</h3><br/><style>\n",
              "    table.wandb td:nth-child(1) { padding: 0 10px; text-align: right }\n",
              "    </style><table class=\"wandb\">\n",
              "<tr><td>epoch</td><td>9</td></tr><tr><td>loss</td><td>0.26168</td></tr><tr><td>accuracy</td><td>0.91793</td></tr><tr><td>val_loss</td><td>0.31717</td></tr><tr><td>val_accuracy</td><td>0.91482</td></tr><tr><td>_runtime</td><td>50</td></tr><tr><td>_timestamp</td><td>1626174691</td></tr><tr><td>_step</td><td>9</td></tr><tr><td>best_val_loss</td><td>0.29328</td></tr><tr><td>best_epoch</td><td>4</td></tr></table>"
            ],
            "text/plain": [
              "<IPython.core.display.HTML object>"
            ]
          },
          "metadata": {
            "tags": []
          }
        },
        {
          "output_type": "display_data",
          "data": {
            "text/html": [
              "<h3>Run history:</h3><br/><style>\n",
              "    table.wandb td:nth-child(1) { padding: 0 10px; text-align: right }\n",
              "    </style><table class=\"wandb\">\n",
              "<tr><td>epoch</td><td>▁▂▃▃▄▅▆▆▇█</td></tr><tr><td>loss</td><td>█▃▂▂▁▁▁▁▁▁</td></tr><tr><td>accuracy</td><td>▁▆▇▇▇█████</td></tr><tr><td>val_loss</td><td>█▄▁▁▁▂▂▄▃▃</td></tr><tr><td>val_accuracy</td><td>▁▄▇▇▇█████</td></tr><tr><td>_runtime</td><td>▁▂▃▃▄▅▆▆▇█</td></tr><tr><td>_timestamp</td><td>▁▂▃▃▄▅▆▆▇█</td></tr><tr><td>_step</td><td>▁▂▃▃▄▅▆▆▇█</td></tr></table><br/>"
            ],
            "text/plain": [
              "<IPython.core.display.HTML object>"
            ]
          },
          "metadata": {
            "tags": []
          }
        },
        {
          "output_type": "display_data",
          "data": {
            "text/html": [
              "Synced 5 W&B file(s), 1 media file(s), 2 artifact file(s) and 2 other file(s)"
            ],
            "text/plain": [
              "<IPython.core.display.HTML object>"
            ]
          },
          "metadata": {
            "tags": []
          }
        },
        {
          "output_type": "display_data",
          "data": {
            "text/html": [
              "\n",
              "                    <br/>Synced <strong style=\"color:#cdcd00\">apricot-puddle-3</strong>: <a href=\"https://wandb.ai/anandkarunan/EMNIST_0/runs/ozc7sfbx\" target=\"_blank\">https://wandb.ai/anandkarunan/EMNIST_0/runs/ozc7sfbx</a><br/>\n",
              "                "
            ],
            "text/plain": [
              "<IPython.core.display.HTML object>"
            ]
          },
          "metadata": {
            "tags": []
          }
        },
        {
          "output_type": "display_data",
          "data": {
            "text/html": [
              "\n",
              "                Tracking run with wandb version 0.10.33<br/>\n",
              "                Syncing run <strong style=\"color:#cdcd00\">wobbly-paper-4</strong> to <a href=\"https://wandb.ai\" target=\"_blank\">Weights & Biases</a> <a href=\"https://docs.wandb.com/integrations/jupyter.html\" target=\"_blank\">(Documentation)</a>.<br/>\n",
              "                Project page: <a href=\"https://wandb.ai/anandkarunan/EMNIST_0\" target=\"_blank\">https://wandb.ai/anandkarunan/EMNIST_0</a><br/>\n",
              "                Run page: <a href=\"https://wandb.ai/anandkarunan/EMNIST_0/runs/adjfgqcx\" target=\"_blank\">https://wandb.ai/anandkarunan/EMNIST_0/runs/adjfgqcx</a><br/>\n",
              "                Run data is saved locally in <code>/content/wandb/run-20210713_111216-adjfgqcx</code><br/><br/>\n",
              "            "
            ],
            "text/plain": [
              "<IPython.core.display.HTML object>"
            ]
          },
          "metadata": {
            "tags": []
          }
        },
        {
          "output_type": "stream",
          "text": [
            "Epoch 1/10\n",
            "780/780 [==============================] - 5s 6ms/step - loss: 0.7469 - accuracy: 0.7706 - val_loss: 0.3999 - val_accuracy: 0.8739\n",
            "Epoch 2/10\n",
            "780/780 [==============================] - 4s 6ms/step - loss: 0.4131 - accuracy: 0.8680 - val_loss: 0.3429 - val_accuracy: 0.8923\n",
            "Epoch 3/10\n",
            "780/780 [==============================] - 4s 6ms/step - loss: 0.3442 - accuracy: 0.8886 - val_loss: 0.3060 - val_accuracy: 0.9038\n",
            "Epoch 4/10\n",
            "780/780 [==============================] - 4s 6ms/step - loss: 0.3132 - accuracy: 0.8991 - val_loss: 0.3045 - val_accuracy: 0.9062\n",
            "Epoch 5/10\n",
            "780/780 [==============================] - 4s 6ms/step - loss: 0.2956 - accuracy: 0.9040 - val_loss: 0.2941 - val_accuracy: 0.9128\n",
            "Epoch 6/10\n",
            "780/780 [==============================] - 4s 5ms/step - loss: 0.2820 - accuracy: 0.9092 - val_loss: 0.3038 - val_accuracy: 0.9145\n",
            "Epoch 7/10\n",
            "780/780 [==============================] - 4s 6ms/step - loss: 0.2773 - accuracy: 0.9123 - val_loss: 0.3081 - val_accuracy: 0.9131\n",
            "Epoch 8/10\n",
            "780/780 [==============================] - 4s 6ms/step - loss: 0.2720 - accuracy: 0.9134 - val_loss: 0.3126 - val_accuracy: 0.9126\n",
            "Epoch 9/10\n",
            "780/780 [==============================] - 5s 6ms/step - loss: 0.2674 - accuracy: 0.9151 - val_loss: 0.3134 - val_accuracy: 0.9134\n",
            "Epoch 10/10\n",
            "780/780 [==============================] - 4s 5ms/step - loss: 0.2671 - accuracy: 0.9164 - val_loss: 0.3253 - val_accuracy: 0.9171\n"
          ],
          "name": "stdout"
        },
        {
          "output_type": "display_data",
          "data": {
            "text/html": [
              "<br/>Waiting for W&B process to finish, PID 1471<br/>Program ended successfully."
            ],
            "text/plain": [
              "<IPython.core.display.HTML object>"
            ]
          },
          "metadata": {
            "tags": []
          }
        },
        {
          "output_type": "display_data",
          "data": {
            "application/vnd.jupyter.widget-view+json": {
              "model_id": "5662dbf82b984ddfbf5bfb7a543061d5",
              "version_minor": 0,
              "version_major": 2
            },
            "text/plain": [
              "VBox(children=(Label(value=' 5.39MB of 5.39MB uploaded (0.00MB deduped)\\r'), FloatProgress(value=1.0, max=1.0)…"
            ]
          },
          "metadata": {
            "tags": []
          }
        },
        {
          "output_type": "display_data",
          "data": {
            "text/html": [
              "Find user logs for this run at: <code>/content/wandb/run-20210713_111216-adjfgqcx/logs/debug.log</code>"
            ],
            "text/plain": [
              "<IPython.core.display.HTML object>"
            ]
          },
          "metadata": {
            "tags": []
          }
        },
        {
          "output_type": "display_data",
          "data": {
            "text/html": [
              "Find internal logs for this run at: <code>/content/wandb/run-20210713_111216-adjfgqcx/logs/debug-internal.log</code>"
            ],
            "text/plain": [
              "<IPython.core.display.HTML object>"
            ]
          },
          "metadata": {
            "tags": []
          }
        },
        {
          "output_type": "display_data",
          "data": {
            "text/html": [
              "<h3>Run summary:</h3><br/><style>\n",
              "    table.wandb td:nth-child(1) { padding: 0 10px; text-align: right }\n",
              "    </style><table class=\"wandb\">\n",
              "<tr><td>epoch</td><td>9</td></tr><tr><td>loss</td><td>0.26707</td></tr><tr><td>accuracy</td><td>0.91636</td></tr><tr><td>val_loss</td><td>0.32532</td></tr><tr><td>val_accuracy</td><td>0.91707</td></tr><tr><td>_runtime</td><td>49</td></tr><tr><td>_timestamp</td><td>1626174785</td></tr><tr><td>_step</td><td>9</td></tr><tr><td>best_val_loss</td><td>0.29406</td></tr><tr><td>best_epoch</td><td>4</td></tr></table>"
            ],
            "text/plain": [
              "<IPython.core.display.HTML object>"
            ]
          },
          "metadata": {
            "tags": []
          }
        },
        {
          "output_type": "display_data",
          "data": {
            "text/html": [
              "<h3>Run history:</h3><br/><style>\n",
              "    table.wandb td:nth-child(1) { padding: 0 10px; text-align: right }\n",
              "    </style><table class=\"wandb\">\n",
              "<tr><td>epoch</td><td>▁▂▃▃▄▅▆▆▇█</td></tr><tr><td>loss</td><td>█▃▂▂▁▁▁▁▁▁</td></tr><tr><td>accuracy</td><td>▁▆▇▇▇█████</td></tr><tr><td>val_loss</td><td>█▄▂▂▁▂▂▂▂▃</td></tr><tr><td>val_accuracy</td><td>▁▄▆▆▇█▇▇▇█</td></tr><tr><td>_runtime</td><td>▁▂▃▃▄▅▆▆▇█</td></tr><tr><td>_timestamp</td><td>▁▂▃▃▄▅▆▆▇█</td></tr><tr><td>_step</td><td>▁▂▃▃▄▅▆▆▇█</td></tr></table><br/>"
            ],
            "text/plain": [
              "<IPython.core.display.HTML object>"
            ]
          },
          "metadata": {
            "tags": []
          }
        },
        {
          "output_type": "display_data",
          "data": {
            "text/html": [
              "Synced 5 W&B file(s), 1 media file(s), 2 artifact file(s) and 2 other file(s)"
            ],
            "text/plain": [
              "<IPython.core.display.HTML object>"
            ]
          },
          "metadata": {
            "tags": []
          }
        },
        {
          "output_type": "display_data",
          "data": {
            "text/html": [
              "\n",
              "                    <br/>Synced <strong style=\"color:#cdcd00\">wobbly-paper-4</strong>: <a href=\"https://wandb.ai/anandkarunan/EMNIST_0/runs/adjfgqcx\" target=\"_blank\">https://wandb.ai/anandkarunan/EMNIST_0/runs/adjfgqcx</a><br/>\n",
              "                "
            ],
            "text/plain": [
              "<IPython.core.display.HTML object>"
            ]
          },
          "metadata": {
            "tags": []
          }
        },
        {
          "output_type": "display_data",
          "data": {
            "text/html": [
              "\n",
              "                Tracking run with wandb version 0.10.33<br/>\n",
              "                Syncing run <strong style=\"color:#cdcd00\">generous-puddle-5</strong> to <a href=\"https://wandb.ai\" target=\"_blank\">Weights & Biases</a> <a href=\"https://docs.wandb.com/integrations/jupyter.html\" target=\"_blank\">(Documentation)</a>.<br/>\n",
              "                Project page: <a href=\"https://wandb.ai/anandkarunan/EMNIST_0\" target=\"_blank\">https://wandb.ai/anandkarunan/EMNIST_0</a><br/>\n",
              "                Run page: <a href=\"https://wandb.ai/anandkarunan/EMNIST_0/runs/dld54jyl\" target=\"_blank\">https://wandb.ai/anandkarunan/EMNIST_0/runs/dld54jyl</a><br/>\n",
              "                Run data is saved locally in <code>/content/wandb/run-20210713_111314-dld54jyl</code><br/><br/>\n",
              "            "
            ],
            "text/plain": [
              "<IPython.core.display.HTML object>"
            ]
          },
          "metadata": {
            "tags": []
          }
        },
        {
          "output_type": "stream",
          "text": [
            "Epoch 1/10\n",
            "780/780 [==============================] - 6s 6ms/step - loss: 0.7605 - accuracy: 0.7670 - val_loss: 0.4218 - val_accuracy: 0.8668\n",
            "Epoch 2/10\n",
            "780/780 [==============================] - 5s 6ms/step - loss: 0.4204 - accuracy: 0.8663 - val_loss: 0.3352 - val_accuracy: 0.8919\n",
            "Epoch 3/10\n",
            "780/780 [==============================] - 5s 6ms/step - loss: 0.3527 - accuracy: 0.8875 - val_loss: 0.3177 - val_accuracy: 0.9016\n",
            "Epoch 4/10\n",
            "780/780 [==============================] - 4s 6ms/step - loss: 0.3216 - accuracy: 0.8975 - val_loss: 0.3100 - val_accuracy: 0.9028\n",
            "Epoch 5/10\n",
            "780/780 [==============================] - 4s 6ms/step - loss: 0.3088 - accuracy: 0.9004 - val_loss: 0.3040 - val_accuracy: 0.9086\n",
            "Epoch 6/10\n",
            "780/780 [==============================] - 4s 6ms/step - loss: 0.2977 - accuracy: 0.9050 - val_loss: 0.2918 - val_accuracy: 0.9129\n",
            "Epoch 7/10\n",
            "780/780 [==============================] - 5s 6ms/step - loss: 0.2904 - accuracy: 0.9090 - val_loss: 0.2993 - val_accuracy: 0.9113\n",
            "Epoch 8/10\n",
            "780/780 [==============================] - 5s 6ms/step - loss: 0.2893 - accuracy: 0.9092 - val_loss: 0.2891 - val_accuracy: 0.9159\n",
            "Epoch 9/10\n",
            "780/780 [==============================] - 4s 6ms/step - loss: 0.2869 - accuracy: 0.9104 - val_loss: 0.3004 - val_accuracy: 0.9155\n",
            "Epoch 10/10\n",
            "780/780 [==============================] - 5s 6ms/step - loss: 0.2846 - accuracy: 0.9120 - val_loss: 0.3284 - val_accuracy: 0.9165\n"
          ],
          "name": "stdout"
        },
        {
          "output_type": "display_data",
          "data": {
            "text/html": [
              "<br/>Waiting for W&B process to finish, PID 1552<br/>Program ended successfully."
            ],
            "text/plain": [
              "<IPython.core.display.HTML object>"
            ]
          },
          "metadata": {
            "tags": []
          }
        },
        {
          "output_type": "display_data",
          "data": {
            "application/vnd.jupyter.widget-view+json": {
              "model_id": "1f0ab5f00d6e48988e032ba6789d0595",
              "version_minor": 0,
              "version_major": 2
            },
            "text/plain": [
              "VBox(children=(Label(value=' 5.41MB of 5.41MB uploaded (0.00MB deduped)\\r'), FloatProgress(value=1.0, max=1.0)…"
            ]
          },
          "metadata": {
            "tags": []
          }
        },
        {
          "output_type": "display_data",
          "data": {
            "text/html": [
              "Find user logs for this run at: <code>/content/wandb/run-20210713_111314-dld54jyl/logs/debug.log</code>"
            ],
            "text/plain": [
              "<IPython.core.display.HTML object>"
            ]
          },
          "metadata": {
            "tags": []
          }
        },
        {
          "output_type": "display_data",
          "data": {
            "text/html": [
              "Find internal logs for this run at: <code>/content/wandb/run-20210713_111314-dld54jyl/logs/debug-internal.log</code>"
            ],
            "text/plain": [
              "<IPython.core.display.HTML object>"
            ]
          },
          "metadata": {
            "tags": []
          }
        },
        {
          "output_type": "display_data",
          "data": {
            "text/html": [
              "<h3>Run summary:</h3><br/><style>\n",
              "    table.wandb td:nth-child(1) { padding: 0 10px; text-align: right }\n",
              "    </style><table class=\"wandb\">\n",
              "<tr><td>epoch</td><td>9</td></tr><tr><td>loss</td><td>0.28455</td></tr><tr><td>accuracy</td><td>0.91198</td></tr><tr><td>val_loss</td><td>0.32842</td></tr><tr><td>val_accuracy</td><td>0.91647</td></tr><tr><td>_runtime</td><td>51</td></tr><tr><td>_timestamp</td><td>1626174845</td></tr><tr><td>_step</td><td>9</td></tr><tr><td>best_val_loss</td><td>0.28908</td></tr><tr><td>best_epoch</td><td>7</td></tr></table>"
            ],
            "text/plain": [
              "<IPython.core.display.HTML object>"
            ]
          },
          "metadata": {
            "tags": []
          }
        },
        {
          "output_type": "display_data",
          "data": {
            "text/html": [
              "<h3>Run history:</h3><br/><style>\n",
              "    table.wandb td:nth-child(1) { padding: 0 10px; text-align: right }\n",
              "    </style><table class=\"wandb\">\n",
              "<tr><td>epoch</td><td>▁▂▃▃▄▅▆▆▇█</td></tr><tr><td>loss</td><td>█▃▂▂▁▁▁▁▁▁</td></tr><tr><td>accuracy</td><td>▁▆▇▇▇█████</td></tr><tr><td>val_loss</td><td>█▃▃▂▂▁▂▁▂▃</td></tr><tr><td>val_accuracy</td><td>▁▅▆▆▇█▇███</td></tr><tr><td>_runtime</td><td>▁▂▃▃▄▅▆▆▇█</td></tr><tr><td>_timestamp</td><td>▁▂▃▃▄▅▆▆▇█</td></tr><tr><td>_step</td><td>▁▂▃▃▄▅▆▆▇█</td></tr></table><br/>"
            ],
            "text/plain": [
              "<IPython.core.display.HTML object>"
            ]
          },
          "metadata": {
            "tags": []
          }
        },
        {
          "output_type": "display_data",
          "data": {
            "text/html": [
              "Synced 5 W&B file(s), 1 media file(s), 2 artifact file(s) and 2 other file(s)"
            ],
            "text/plain": [
              "<IPython.core.display.HTML object>"
            ]
          },
          "metadata": {
            "tags": []
          }
        },
        {
          "output_type": "display_data",
          "data": {
            "text/html": [
              "\n",
              "                    <br/>Synced <strong style=\"color:#cdcd00\">generous-puddle-5</strong>: <a href=\"https://wandb.ai/anandkarunan/EMNIST_0/runs/dld54jyl\" target=\"_blank\">https://wandb.ai/anandkarunan/EMNIST_0/runs/dld54jyl</a><br/>\n",
              "                "
            ],
            "text/plain": [
              "<IPython.core.display.HTML object>"
            ]
          },
          "metadata": {
            "tags": []
          }
        },
        {
          "output_type": "display_data",
          "data": {
            "text/html": [
              "\n",
              "                Tracking run with wandb version 0.10.33<br/>\n",
              "                Syncing run <strong style=\"color:#cdcd00\">brisk-sponge-6</strong> to <a href=\"https://wandb.ai\" target=\"_blank\">Weights & Biases</a> <a href=\"https://docs.wandb.com/integrations/jupyter.html\" target=\"_blank\">(Documentation)</a>.<br/>\n",
              "                Project page: <a href=\"https://wandb.ai/anandkarunan/EMNIST_0\" target=\"_blank\">https://wandb.ai/anandkarunan/EMNIST_0</a><br/>\n",
              "                Run page: <a href=\"https://wandb.ai/anandkarunan/EMNIST_0/runs/x036l1ab\" target=\"_blank\">https://wandb.ai/anandkarunan/EMNIST_0/runs/x036l1ab</a><br/>\n",
              "                Run data is saved locally in <code>/content/wandb/run-20210713_111413-x036l1ab</code><br/><br/>\n",
              "            "
            ],
            "text/plain": [
              "<IPython.core.display.HTML object>"
            ]
          },
          "metadata": {
            "tags": []
          }
        },
        {
          "output_type": "stream",
          "text": [
            "Epoch 1/10\n",
            "  1/780 [..............................] - ETA: 8:16 - loss: 3.3012 - accuracy: 0.0703WARNING:tensorflow:Callback method `on_train_batch_end` is slow compared to the batch time (batch time: 0.0032s vs `on_train_batch_end` time: 0.0039s). Check your callbacks.\n",
            "780/780 [==============================] - 5s 6ms/step - loss: 0.6598 - accuracy: 0.7962 - val_loss: 0.3917 - val_accuracy: 0.8750\n",
            "Epoch 2/10\n",
            "780/780 [==============================] - 5s 6ms/step - loss: 0.3408 - accuracy: 0.8896 - val_loss: 0.3346 - val_accuracy: 0.8934\n",
            "Epoch 3/10\n",
            "780/780 [==============================] - 4s 6ms/step - loss: 0.2759 - accuracy: 0.9093 - val_loss: 0.3050 - val_accuracy: 0.9067\n",
            "Epoch 4/10\n",
            "780/780 [==============================] - 5s 6ms/step - loss: 0.2392 - accuracy: 0.9195 - val_loss: 0.2939 - val_accuracy: 0.9076\n",
            "Epoch 5/10\n",
            "780/780 [==============================] - 4s 6ms/step - loss: 0.2153 - accuracy: 0.9270 - val_loss: 0.2946 - val_accuracy: 0.9140\n",
            "Epoch 6/10\n",
            "780/780 [==============================] - 4s 6ms/step - loss: 0.1998 - accuracy: 0.9321 - val_loss: 0.2997 - val_accuracy: 0.9143\n",
            "Epoch 7/10\n",
            "780/780 [==============================] - 5s 6ms/step - loss: 0.1890 - accuracy: 0.9355 - val_loss: 0.3009 - val_accuracy: 0.9160\n",
            "Epoch 8/10\n",
            "780/780 [==============================] - 5s 6ms/step - loss: 0.1789 - accuracy: 0.9379 - val_loss: 0.3398 - val_accuracy: 0.9143\n",
            "Epoch 9/10\n",
            "780/780 [==============================] - 4s 6ms/step - loss: 0.1736 - accuracy: 0.9405 - val_loss: 0.3513 - val_accuracy: 0.9141\n",
            "Epoch 10/10\n",
            "780/780 [==============================] - 5s 6ms/step - loss: 0.1691 - accuracy: 0.9421 - val_loss: 0.3552 - val_accuracy: 0.9135\n"
          ],
          "name": "stdout"
        },
        {
          "output_type": "display_data",
          "data": {
            "text/html": [
              "<br/>Waiting for W&B process to finish, PID 1639<br/>Program ended successfully."
            ],
            "text/plain": [
              "<IPython.core.display.HTML object>"
            ]
          },
          "metadata": {
            "tags": []
          }
        },
        {
          "output_type": "display_data",
          "data": {
            "application/vnd.jupyter.widget-view+json": {
              "model_id": "f36186d8ea8d4b6298ebe9c4f134e133",
              "version_minor": 0,
              "version_major": 2
            },
            "text/plain": [
              "VBox(children=(Label(value=' 5.42MB of 5.42MB uploaded (0.00MB deduped)\\r'), FloatProgress(value=1.0, max=1.0)…"
            ]
          },
          "metadata": {
            "tags": []
          }
        },
        {
          "output_type": "display_data",
          "data": {
            "text/html": [
              "Find user logs for this run at: <code>/content/wandb/run-20210713_111413-x036l1ab/logs/debug.log</code>"
            ],
            "text/plain": [
              "<IPython.core.display.HTML object>"
            ]
          },
          "metadata": {
            "tags": []
          }
        },
        {
          "output_type": "display_data",
          "data": {
            "text/html": [
              "Find internal logs for this run at: <code>/content/wandb/run-20210713_111413-x036l1ab/logs/debug-internal.log</code>"
            ],
            "text/plain": [
              "<IPython.core.display.HTML object>"
            ]
          },
          "metadata": {
            "tags": []
          }
        },
        {
          "output_type": "display_data",
          "data": {
            "text/html": [
              "<h3>Run summary:</h3><br/><style>\n",
              "    table.wandb td:nth-child(1) { padding: 0 10px; text-align: right }\n",
              "    </style><table class=\"wandb\">\n",
              "<tr><td>epoch</td><td>9</td></tr><tr><td>loss</td><td>0.16907</td></tr><tr><td>accuracy</td><td>0.9421</td></tr><tr><td>val_loss</td><td>0.35516</td></tr><tr><td>val_accuracy</td><td>0.91346</td></tr><tr><td>_runtime</td><td>51</td></tr><tr><td>_timestamp</td><td>1626174904</td></tr><tr><td>_step</td><td>9</td></tr><tr><td>best_val_loss</td><td>0.29395</td></tr><tr><td>best_epoch</td><td>3</td></tr></table>"
            ],
            "text/plain": [
              "<IPython.core.display.HTML object>"
            ]
          },
          "metadata": {
            "tags": []
          }
        },
        {
          "output_type": "display_data",
          "data": {
            "text/html": [
              "<h3>Run history:</h3><br/><style>\n",
              "    table.wandb td:nth-child(1) { padding: 0 10px; text-align: right }\n",
              "    </style><table class=\"wandb\">\n",
              "<tr><td>epoch</td><td>▁▂▃▃▄▅▆▆▇█</td></tr><tr><td>loss</td><td>█▃▃▂▂▁▁▁▁▁</td></tr><tr><td>accuracy</td><td>▁▅▆▇▇█████</td></tr><tr><td>val_loss</td><td>█▄▂▁▁▁▁▄▅▅</td></tr><tr><td>val_accuracy</td><td>▁▄▆▇██████</td></tr><tr><td>_runtime</td><td>▁▂▃▃▄▅▆▆▇█</td></tr><tr><td>_timestamp</td><td>▁▂▃▃▄▅▆▆▇█</td></tr><tr><td>_step</td><td>▁▂▃▃▄▅▆▆▇█</td></tr></table><br/>"
            ],
            "text/plain": [
              "<IPython.core.display.HTML object>"
            ]
          },
          "metadata": {
            "tags": []
          }
        },
        {
          "output_type": "display_data",
          "data": {
            "text/html": [
              "Synced 5 W&B file(s), 1 media file(s), 2 artifact file(s) and 2 other file(s)"
            ],
            "text/plain": [
              "<IPython.core.display.HTML object>"
            ]
          },
          "metadata": {
            "tags": []
          }
        },
        {
          "output_type": "display_data",
          "data": {
            "text/html": [
              "\n",
              "                    <br/>Synced <strong style=\"color:#cdcd00\">brisk-sponge-6</strong>: <a href=\"https://wandb.ai/anandkarunan/EMNIST_0/runs/x036l1ab\" target=\"_blank\">https://wandb.ai/anandkarunan/EMNIST_0/runs/x036l1ab</a><br/>\n",
              "                "
            ],
            "text/plain": [
              "<IPython.core.display.HTML object>"
            ]
          },
          "metadata": {
            "tags": []
          }
        },
        {
          "output_type": "display_data",
          "data": {
            "text/html": [
              "\n",
              "                Tracking run with wandb version 0.10.33<br/>\n",
              "                Syncing run <strong style=\"color:#cdcd00\">worldly-energy-7</strong> to <a href=\"https://wandb.ai\" target=\"_blank\">Weights & Biases</a> <a href=\"https://docs.wandb.com/integrations/jupyter.html\" target=\"_blank\">(Documentation)</a>.<br/>\n",
              "                Project page: <a href=\"https://wandb.ai/anandkarunan/EMNIST_0\" target=\"_blank\">https://wandb.ai/anandkarunan/EMNIST_0</a><br/>\n",
              "                Run page: <a href=\"https://wandb.ai/anandkarunan/EMNIST_0/runs/1gw3fgx4\" target=\"_blank\">https://wandb.ai/anandkarunan/EMNIST_0/runs/1gw3fgx4</a><br/>\n",
              "                Run data is saved locally in <code>/content/wandb/run-20210713_111548-1gw3fgx4</code><br/><br/>\n",
              "            "
            ],
            "text/plain": [
              "<IPython.core.display.HTML object>"
            ]
          },
          "metadata": {
            "tags": []
          }
        },
        {
          "output_type": "stream",
          "text": [
            "Epoch 1/10\n",
            "  1/780 [..............................] - ETA: 7:50 - loss: 3.3436 - accuracy: 0.0234WARNING:tensorflow:Callback method `on_train_batch_end` is slow compared to the batch time (batch time: 0.0028s vs `on_train_batch_end` time: 0.0038s). Check your callbacks.\n",
            "780/780 [==============================] - 5s 6ms/step - loss: 0.6437 - accuracy: 0.8024 - val_loss: 0.4011 - val_accuracy: 0.8710\n",
            "Epoch 2/10\n",
            "780/780 [==============================] - 5s 6ms/step - loss: 0.3294 - accuracy: 0.8928 - val_loss: 0.3404 - val_accuracy: 0.8919\n",
            "Epoch 3/10\n",
            "780/780 [==============================] - 5s 6ms/step - loss: 0.2632 - accuracy: 0.9127 - val_loss: 0.3056 - val_accuracy: 0.9046\n",
            "Epoch 4/10\n",
            "780/780 [==============================] - 5s 6ms/step - loss: 0.2242 - accuracy: 0.9233 - val_loss: 0.2976 - val_accuracy: 0.9098\n",
            "Epoch 5/10\n",
            "780/780 [==============================] - 5s 6ms/step - loss: 0.1984 - accuracy: 0.9314 - val_loss: 0.3168 - val_accuracy: 0.9109\n",
            "Epoch 6/10\n",
            "780/780 [==============================] - 5s 6ms/step - loss: 0.1803 - accuracy: 0.9376 - val_loss: 0.3310 - val_accuracy: 0.9141\n",
            "Epoch 7/10\n",
            "780/780 [==============================] - 4s 6ms/step - loss: 0.1674 - accuracy: 0.9414 - val_loss: 0.3390 - val_accuracy: 0.9105\n",
            "Epoch 8/10\n",
            "780/780 [==============================] - 4s 6ms/step - loss: 0.1577 - accuracy: 0.9449 - val_loss: 0.3579 - val_accuracy: 0.9140\n",
            "Epoch 9/10\n",
            "780/780 [==============================] - 5s 6ms/step - loss: 0.1478 - accuracy: 0.9468 - val_loss: 0.3708 - val_accuracy: 0.9155\n",
            "Epoch 10/10\n",
            "780/780 [==============================] - 4s 6ms/step - loss: 0.1411 - accuracy: 0.9499 - val_loss: 0.3939 - val_accuracy: 0.9105\n"
          ],
          "name": "stdout"
        },
        {
          "output_type": "display_data",
          "data": {
            "text/html": [
              "<br/>Waiting for W&B process to finish, PID 1732<br/>Program ended successfully."
            ],
            "text/plain": [
              "<IPython.core.display.HTML object>"
            ]
          },
          "metadata": {
            "tags": []
          }
        },
        {
          "output_type": "display_data",
          "data": {
            "application/vnd.jupyter.widget-view+json": {
              "model_id": "e670836e1d1944dcac15bddc8267719a",
              "version_minor": 0,
              "version_major": 2
            },
            "text/plain": [
              "VBox(children=(Label(value=' 5.43MB of 5.43MB uploaded (0.00MB deduped)\\r'), FloatProgress(value=1.0, max=1.0)…"
            ]
          },
          "metadata": {
            "tags": []
          }
        },
        {
          "output_type": "display_data",
          "data": {
            "text/html": [
              "Find user logs for this run at: <code>/content/wandb/run-20210713_111548-1gw3fgx4/logs/debug.log</code>"
            ],
            "text/plain": [
              "<IPython.core.display.HTML object>"
            ]
          },
          "metadata": {
            "tags": []
          }
        },
        {
          "output_type": "display_data",
          "data": {
            "text/html": [
              "Find internal logs for this run at: <code>/content/wandb/run-20210713_111548-1gw3fgx4/logs/debug-internal.log</code>"
            ],
            "text/plain": [
              "<IPython.core.display.HTML object>"
            ]
          },
          "metadata": {
            "tags": []
          }
        },
        {
          "output_type": "display_data",
          "data": {
            "text/html": [
              "<h3>Run summary:</h3><br/><style>\n",
              "    table.wandb td:nth-child(1) { padding: 0 10px; text-align: right }\n",
              "    </style><table class=\"wandb\">\n",
              "<tr><td>epoch</td><td>9</td></tr><tr><td>loss</td><td>0.14112</td></tr><tr><td>accuracy</td><td>0.94987</td></tr><tr><td>val_loss</td><td>0.39392</td></tr><tr><td>val_accuracy</td><td>0.91054</td></tr><tr><td>_runtime</td><td>52</td></tr><tr><td>_timestamp</td><td>1626175000</td></tr><tr><td>_step</td><td>9</td></tr><tr><td>best_val_loss</td><td>0.29763</td></tr><tr><td>best_epoch</td><td>3</td></tr></table>"
            ],
            "text/plain": [
              "<IPython.core.display.HTML object>"
            ]
          },
          "metadata": {
            "tags": []
          }
        },
        {
          "output_type": "display_data",
          "data": {
            "text/html": [
              "<h3>Run history:</h3><br/><style>\n",
              "    table.wandb td:nth-child(1) { padding: 0 10px; text-align: right }\n",
              "    </style><table class=\"wandb\">\n",
              "<tr><td>epoch</td><td>▁▂▃▃▄▅▆▆▇█</td></tr><tr><td>loss</td><td>█▄▃▂▂▂▁▁▁▁</td></tr><tr><td>accuracy</td><td>▁▅▆▇▇▇████</td></tr><tr><td>val_loss</td><td>█▄▂▁▂▃▄▅▆█</td></tr><tr><td>val_accuracy</td><td>▁▄▆▇▇█▇██▇</td></tr><tr><td>_runtime</td><td>▁▂▃▃▄▅▆▇▇█</td></tr><tr><td>_timestamp</td><td>▁▂▃▃▄▅▆▇▇█</td></tr><tr><td>_step</td><td>▁▂▃▃▄▅▆▆▇█</td></tr></table><br/>"
            ],
            "text/plain": [
              "<IPython.core.display.HTML object>"
            ]
          },
          "metadata": {
            "tags": []
          }
        },
        {
          "output_type": "display_data",
          "data": {
            "text/html": [
              "Synced 5 W&B file(s), 1 media file(s), 2 artifact file(s) and 2 other file(s)"
            ],
            "text/plain": [
              "<IPython.core.display.HTML object>"
            ]
          },
          "metadata": {
            "tags": []
          }
        },
        {
          "output_type": "display_data",
          "data": {
            "text/html": [
              "\n",
              "                    <br/>Synced <strong style=\"color:#cdcd00\">worldly-energy-7</strong>: <a href=\"https://wandb.ai/anandkarunan/EMNIST_0/runs/1gw3fgx4\" target=\"_blank\">https://wandb.ai/anandkarunan/EMNIST_0/runs/1gw3fgx4</a><br/>\n",
              "                "
            ],
            "text/plain": [
              "<IPython.core.display.HTML object>"
            ]
          },
          "metadata": {
            "tags": []
          }
        },
        {
          "output_type": "display_data",
          "data": {
            "text/html": [
              "\n",
              "                Tracking run with wandb version 0.10.33<br/>\n",
              "                Syncing run <strong style=\"color:#cdcd00\">genial-wood-8</strong> to <a href=\"https://wandb.ai\" target=\"_blank\">Weights & Biases</a> <a href=\"https://docs.wandb.com/integrations/jupyter.html\" target=\"_blank\">(Documentation)</a>.<br/>\n",
              "                Project page: <a href=\"https://wandb.ai/anandkarunan/EMNIST_0\" target=\"_blank\">https://wandb.ai/anandkarunan/EMNIST_0</a><br/>\n",
              "                Run page: <a href=\"https://wandb.ai/anandkarunan/EMNIST_0/runs/yyiobyqp\" target=\"_blank\">https://wandb.ai/anandkarunan/EMNIST_0/runs/yyiobyqp</a><br/>\n",
              "                Run data is saved locally in <code>/content/wandb/run-20210713_111724-yyiobyqp</code><br/><br/>\n",
              "            "
            ],
            "text/plain": [
              "<IPython.core.display.HTML object>"
            ]
          },
          "metadata": {
            "tags": []
          }
        },
        {
          "output_type": "stream",
          "text": [
            "Epoch 1/10\n",
            "780/780 [==============================] - 5s 6ms/step - loss: 0.7730 - accuracy: 0.7641 - val_loss: 0.4062 - val_accuracy: 0.8741\n",
            "Epoch 2/10\n",
            "780/780 [==============================] - 5s 6ms/step - loss: 0.4330 - accuracy: 0.8634 - val_loss: 0.3401 - val_accuracy: 0.8944\n",
            "Epoch 3/10\n",
            "780/780 [==============================] - 4s 6ms/step - loss: 0.3663 - accuracy: 0.8840 - val_loss: 0.3119 - val_accuracy: 0.9028\n",
            "Epoch 4/10\n",
            "780/780 [==============================] - 4s 6ms/step - loss: 0.3351 - accuracy: 0.8932 - val_loss: 0.3005 - val_accuracy: 0.9054\n",
            "Epoch 5/10\n",
            "780/780 [==============================] - 4s 6ms/step - loss: 0.3200 - accuracy: 0.8981 - val_loss: 0.2943 - val_accuracy: 0.9113\n",
            "Epoch 6/10\n",
            "780/780 [==============================] - 5s 6ms/step - loss: 0.3050 - accuracy: 0.9036 - val_loss: 0.3010 - val_accuracy: 0.9123\n",
            "Epoch 7/10\n",
            "780/780 [==============================] - 4s 6ms/step - loss: 0.2999 - accuracy: 0.9054 - val_loss: 0.3015 - val_accuracy: 0.9127\n",
            "Epoch 8/10\n",
            "780/780 [==============================] - 4s 6ms/step - loss: 0.3008 - accuracy: 0.9057 - val_loss: 0.3065 - val_accuracy: 0.9147\n",
            "Epoch 9/10\n",
            "780/780 [==============================] - 5s 6ms/step - loss: 0.3024 - accuracy: 0.9069 - val_loss: 0.3262 - val_accuracy: 0.9139\n",
            "Epoch 10/10\n",
            "780/780 [==============================] - 4s 6ms/step - loss: 0.2971 - accuracy: 0.9107 - val_loss: 0.3183 - val_accuracy: 0.9153\n"
          ],
          "name": "stdout"
        },
        {
          "output_type": "display_data",
          "data": {
            "text/html": [
              "<br/>Waiting for W&B process to finish, PID 1815<br/>Program ended successfully."
            ],
            "text/plain": [
              "<IPython.core.display.HTML object>"
            ]
          },
          "metadata": {
            "tags": []
          }
        },
        {
          "output_type": "display_data",
          "data": {
            "application/vnd.jupyter.widget-view+json": {
              "model_id": "f7034f324cfc43649a8e442db9a37fba",
              "version_minor": 0,
              "version_major": 2
            },
            "text/plain": [
              "VBox(children=(Label(value=' 5.44MB of 5.44MB uploaded (0.00MB deduped)\\r'), FloatProgress(value=1.0, max=1.0)…"
            ]
          },
          "metadata": {
            "tags": []
          }
        },
        {
          "output_type": "display_data",
          "data": {
            "text/html": [
              "Find user logs for this run at: <code>/content/wandb/run-20210713_111724-yyiobyqp/logs/debug.log</code>"
            ],
            "text/plain": [
              "<IPython.core.display.HTML object>"
            ]
          },
          "metadata": {
            "tags": []
          }
        },
        {
          "output_type": "display_data",
          "data": {
            "text/html": [
              "Find internal logs for this run at: <code>/content/wandb/run-20210713_111724-yyiobyqp/logs/debug-internal.log</code>"
            ],
            "text/plain": [
              "<IPython.core.display.HTML object>"
            ]
          },
          "metadata": {
            "tags": []
          }
        },
        {
          "output_type": "display_data",
          "data": {
            "text/html": [
              "<h3>Run summary:</h3><br/><style>\n",
              "    table.wandb td:nth-child(1) { padding: 0 10px; text-align: right }\n",
              "    </style><table class=\"wandb\">\n",
              "<tr><td>epoch</td><td>9</td></tr><tr><td>loss</td><td>0.2971</td></tr><tr><td>accuracy</td><td>0.91073</td></tr><tr><td>val_loss</td><td>0.31827</td></tr><tr><td>val_accuracy</td><td>0.9153</td></tr><tr><td>_runtime</td><td>52</td></tr><tr><td>_timestamp</td><td>1626175096</td></tr><tr><td>_step</td><td>9</td></tr><tr><td>best_val_loss</td><td>0.29435</td></tr><tr><td>best_epoch</td><td>4</td></tr></table>"
            ],
            "text/plain": [
              "<IPython.core.display.HTML object>"
            ]
          },
          "metadata": {
            "tags": []
          }
        },
        {
          "output_type": "display_data",
          "data": {
            "text/html": [
              "<h3>Run history:</h3><br/><style>\n",
              "    table.wandb td:nth-child(1) { padding: 0 10px; text-align: right }\n",
              "    </style><table class=\"wandb\">\n",
              "<tr><td>epoch</td><td>▁▂▃▃▄▅▆▆▇█</td></tr><tr><td>loss</td><td>█▃▂▂▁▁▁▁▁▁</td></tr><tr><td>accuracy</td><td>▁▆▇▇▇█████</td></tr><tr><td>val_loss</td><td>█▄▂▁▁▁▁▂▃▂</td></tr><tr><td>val_accuracy</td><td>▁▄▆▆▇▇████</td></tr><tr><td>_runtime</td><td>▁▂▃▃▄▅▆▆▇█</td></tr><tr><td>_timestamp</td><td>▁▂▃▃▄▅▆▆▇█</td></tr><tr><td>_step</td><td>▁▂▃▃▄▅▆▆▇█</td></tr></table><br/>"
            ],
            "text/plain": [
              "<IPython.core.display.HTML object>"
            ]
          },
          "metadata": {
            "tags": []
          }
        },
        {
          "output_type": "display_data",
          "data": {
            "text/html": [
              "Synced 5 W&B file(s), 1 media file(s), 2 artifact file(s) and 2 other file(s)"
            ],
            "text/plain": [
              "<IPython.core.display.HTML object>"
            ]
          },
          "metadata": {
            "tags": []
          }
        },
        {
          "output_type": "display_data",
          "data": {
            "text/html": [
              "\n",
              "                    <br/>Synced <strong style=\"color:#cdcd00\">genial-wood-8</strong>: <a href=\"https://wandb.ai/anandkarunan/EMNIST_0/runs/yyiobyqp\" target=\"_blank\">https://wandb.ai/anandkarunan/EMNIST_0/runs/yyiobyqp</a><br/>\n",
              "                "
            ],
            "text/plain": [
              "<IPython.core.display.HTML object>"
            ]
          },
          "metadata": {
            "tags": []
          }
        },
        {
          "output_type": "display_data",
          "data": {
            "text/html": [
              "\n",
              "                Tracking run with wandb version 0.10.33<br/>\n",
              "                Syncing run <strong style=\"color:#cdcd00\">eager-music-9</strong> to <a href=\"https://wandb.ai\" target=\"_blank\">Weights & Biases</a> <a href=\"https://docs.wandb.com/integrations/jupyter.html\" target=\"_blank\">(Documentation)</a>.<br/>\n",
              "                Project page: <a href=\"https://wandb.ai/anandkarunan/EMNIST_0\" target=\"_blank\">https://wandb.ai/anandkarunan/EMNIST_0</a><br/>\n",
              "                Run page: <a href=\"https://wandb.ai/anandkarunan/EMNIST_0/runs/52mi7d6o\" target=\"_blank\">https://wandb.ai/anandkarunan/EMNIST_0/runs/52mi7d6o</a><br/>\n",
              "                Run data is saved locally in <code>/content/wandb/run-20210713_111824-52mi7d6o</code><br/><br/>\n",
              "            "
            ],
            "text/plain": [
              "<IPython.core.display.HTML object>"
            ]
          },
          "metadata": {
            "tags": []
          }
        },
        {
          "output_type": "stream",
          "text": [
            "Epoch 1/10\n",
            "  1/780 [..............................] - ETA: 8:04 - loss: 3.3194 - accuracy: 0.0156WARNING:tensorflow:Callback method `on_train_batch_end` is slow compared to the batch time (batch time: 0.0038s vs `on_train_batch_end` time: 0.0041s). Check your callbacks.\n",
            "780/780 [==============================] - 5s 6ms/step - loss: 0.6750 - accuracy: 0.7926 - val_loss: 0.3962 - val_accuracy: 0.8778\n",
            "Epoch 2/10\n",
            "780/780 [==============================] - 4s 6ms/step - loss: 0.3549 - accuracy: 0.8861 - val_loss: 0.3152 - val_accuracy: 0.8975\n",
            "Epoch 3/10\n",
            "780/780 [==============================] - 4s 6ms/step - loss: 0.2880 - accuracy: 0.9054 - val_loss: 0.3088 - val_accuracy: 0.9007\n",
            "Epoch 4/10\n",
            "780/780 [==============================] - 5s 6ms/step - loss: 0.2521 - accuracy: 0.9150 - val_loss: 0.2953 - val_accuracy: 0.9085\n",
            "Epoch 5/10\n",
            "780/780 [==============================] - 5s 6ms/step - loss: 0.2305 - accuracy: 0.9222 - val_loss: 0.3037 - val_accuracy: 0.9093\n",
            "Epoch 6/10\n",
            "780/780 [==============================] - 5s 6ms/step - loss: 0.2142 - accuracy: 0.9283 - val_loss: 0.2888 - val_accuracy: 0.9146\n",
            "Epoch 7/10\n",
            "780/780 [==============================] - 4s 6ms/step - loss: 0.2039 - accuracy: 0.9311 - val_loss: 0.3074 - val_accuracy: 0.9136\n",
            "Epoch 8/10\n",
            "780/780 [==============================] - 4s 6ms/step - loss: 0.1974 - accuracy: 0.9337 - val_loss: 0.3314 - val_accuracy: 0.9135\n",
            "Epoch 9/10\n",
            "780/780 [==============================] - 5s 6ms/step - loss: 0.1898 - accuracy: 0.9365 - val_loss: 0.3254 - val_accuracy: 0.9157\n",
            "Epoch 10/10\n",
            "780/780 [==============================] - 5s 6ms/step - loss: 0.1843 - accuracy: 0.9373 - val_loss: 0.3451 - val_accuracy: 0.9184\n"
          ],
          "name": "stdout"
        },
        {
          "output_type": "display_data",
          "data": {
            "text/html": [
              "<br/>Waiting for W&B process to finish, PID 1900<br/>Program ended successfully."
            ],
            "text/plain": [
              "<IPython.core.display.HTML object>"
            ]
          },
          "metadata": {
            "tags": []
          }
        },
        {
          "output_type": "display_data",
          "data": {
            "application/vnd.jupyter.widget-view+json": {
              "model_id": "8c5438321e3f478885e903221c010585",
              "version_minor": 0,
              "version_major": 2
            },
            "text/plain": [
              "VBox(children=(Label(value=' 5.45MB of 5.45MB uploaded (0.00MB deduped)\\r'), FloatProgress(value=1.0, max=1.0)…"
            ]
          },
          "metadata": {
            "tags": []
          }
        },
        {
          "output_type": "display_data",
          "data": {
            "text/html": [
              "Find user logs for this run at: <code>/content/wandb/run-20210713_111824-52mi7d6o/logs/debug.log</code>"
            ],
            "text/plain": [
              "<IPython.core.display.HTML object>"
            ]
          },
          "metadata": {
            "tags": []
          }
        },
        {
          "output_type": "display_data",
          "data": {
            "text/html": [
              "Find internal logs for this run at: <code>/content/wandb/run-20210713_111824-52mi7d6o/logs/debug-internal.log</code>"
            ],
            "text/plain": [
              "<IPython.core.display.HTML object>"
            ]
          },
          "metadata": {
            "tags": []
          }
        },
        {
          "output_type": "display_data",
          "data": {
            "text/html": [
              "<h3>Run summary:</h3><br/><style>\n",
              "    table.wandb td:nth-child(1) { padding: 0 10px; text-align: right }\n",
              "    </style><table class=\"wandb\">\n",
              "<tr><td>epoch</td><td>9</td></tr><tr><td>loss</td><td>0.1843</td></tr><tr><td>accuracy</td><td>0.93732</td></tr><tr><td>val_loss</td><td>0.34507</td></tr><tr><td>val_accuracy</td><td>0.91839</td></tr><tr><td>_runtime</td><td>52</td></tr><tr><td>_timestamp</td><td>1626175156</td></tr><tr><td>_step</td><td>9</td></tr><tr><td>best_val_loss</td><td>0.28882</td></tr><tr><td>best_epoch</td><td>5</td></tr></table>"
            ],
            "text/plain": [
              "<IPython.core.display.HTML object>"
            ]
          },
          "metadata": {
            "tags": []
          }
        },
        {
          "output_type": "display_data",
          "data": {
            "text/html": [
              "<h3>Run history:</h3><br/><style>\n",
              "    table.wandb td:nth-child(1) { padding: 0 10px; text-align: right }\n",
              "    </style><table class=\"wandb\">\n",
              "<tr><td>epoch</td><td>▁▂▃▃▄▅▆▆▇█</td></tr><tr><td>loss</td><td>█▃▂▂▂▁▁▁▁▁</td></tr><tr><td>accuracy</td><td>▁▆▆▇▇█████</td></tr><tr><td>val_loss</td><td>█▃▂▁▂▁▂▄▃▅</td></tr><tr><td>val_accuracy</td><td>▁▄▅▆▆▇▇▇██</td></tr><tr><td>_runtime</td><td>▁▂▃▃▄▅▆▇▇█</td></tr><tr><td>_timestamp</td><td>▁▂▃▃▄▅▆▇▇█</td></tr><tr><td>_step</td><td>▁▂▃▃▄▅▆▆▇█</td></tr></table><br/>"
            ],
            "text/plain": [
              "<IPython.core.display.HTML object>"
            ]
          },
          "metadata": {
            "tags": []
          }
        },
        {
          "output_type": "display_data",
          "data": {
            "text/html": [
              "Synced 5 W&B file(s), 1 media file(s), 2 artifact file(s) and 2 other file(s)"
            ],
            "text/plain": [
              "<IPython.core.display.HTML object>"
            ]
          },
          "metadata": {
            "tags": []
          }
        },
        {
          "output_type": "display_data",
          "data": {
            "text/html": [
              "\n",
              "                    <br/>Synced <strong style=\"color:#cdcd00\">eager-music-9</strong>: <a href=\"https://wandb.ai/anandkarunan/EMNIST_0/runs/52mi7d6o\" target=\"_blank\">https://wandb.ai/anandkarunan/EMNIST_0/runs/52mi7d6o</a><br/>\n",
              "                "
            ],
            "text/plain": [
              "<IPython.core.display.HTML object>"
            ]
          },
          "metadata": {
            "tags": []
          }
        },
        {
          "output_type": "display_data",
          "data": {
            "text/html": [
              "\n",
              "                Tracking run with wandb version 0.10.33<br/>\n",
              "                Syncing run <strong style=\"color:#cdcd00\">atomic-forest-10</strong> to <a href=\"https://wandb.ai\" target=\"_blank\">Weights & Biases</a> <a href=\"https://docs.wandb.com/integrations/jupyter.html\" target=\"_blank\">(Documentation)</a>.<br/>\n",
              "                Project page: <a href=\"https://wandb.ai/anandkarunan/EMNIST_0\" target=\"_blank\">https://wandb.ai/anandkarunan/EMNIST_0</a><br/>\n",
              "                Run page: <a href=\"https://wandb.ai/anandkarunan/EMNIST_0/runs/1or24bzh\" target=\"_blank\">https://wandb.ai/anandkarunan/EMNIST_0/runs/1or24bzh</a><br/>\n",
              "                Run data is saved locally in <code>/content/wandb/run-20210713_111925-1or24bzh</code><br/><br/>\n",
              "            "
            ],
            "text/plain": [
              "<IPython.core.display.HTML object>"
            ]
          },
          "metadata": {
            "tags": []
          }
        },
        {
          "output_type": "stream",
          "text": [
            "Epoch 1/10\n",
            "780/780 [==============================] - 6s 6ms/step - loss: 0.7169 - accuracy: 0.7807 - val_loss: 0.4155 - val_accuracy: 0.8706\n",
            "Epoch 2/10\n",
            "780/780 [==============================] - 4s 6ms/step - loss: 0.3887 - accuracy: 0.8759 - val_loss: 0.3300 - val_accuracy: 0.8971\n",
            "Epoch 3/10\n",
            "780/780 [==============================] - 4s 6ms/step - loss: 0.3210 - accuracy: 0.8947 - val_loss: 0.3058 - val_accuracy: 0.9039\n",
            "Epoch 4/10\n",
            "780/780 [==============================] - 4s 6ms/step - loss: 0.2854 - accuracy: 0.9068 - val_loss: 0.3021 - val_accuracy: 0.9095\n",
            "Epoch 5/10\n",
            "780/780 [==============================] - 4s 6ms/step - loss: 0.2683 - accuracy: 0.9117 - val_loss: 0.2883 - val_accuracy: 0.9143\n",
            "Epoch 6/10\n",
            "780/780 [==============================] - 5s 6ms/step - loss: 0.2555 - accuracy: 0.9153 - val_loss: 0.3026 - val_accuracy: 0.9149\n",
            "Epoch 7/10\n",
            "780/780 [==============================] - 4s 6ms/step - loss: 0.2471 - accuracy: 0.9196 - val_loss: 0.3109 - val_accuracy: 0.9149\n",
            "Epoch 8/10\n",
            "780/780 [==============================] - 4s 6ms/step - loss: 0.2426 - accuracy: 0.9205 - val_loss: 0.3051 - val_accuracy: 0.9163\n",
            "Epoch 9/10\n",
            "780/780 [==============================] - 4s 6ms/step - loss: 0.2388 - accuracy: 0.9237 - val_loss: 0.3192 - val_accuracy: 0.9168\n",
            "Epoch 10/10\n",
            "780/780 [==============================] - 4s 6ms/step - loss: 0.2369 - accuracy: 0.9250 - val_loss: 0.3288 - val_accuracy: 0.9126\n"
          ],
          "name": "stdout"
        },
        {
          "output_type": "display_data",
          "data": {
            "text/html": [
              "<br/>Waiting for W&B process to finish, PID 1985<br/>Program ended successfully."
            ],
            "text/plain": [
              "<IPython.core.display.HTML object>"
            ]
          },
          "metadata": {
            "tags": []
          }
        },
        {
          "output_type": "display_data",
          "data": {
            "application/vnd.jupyter.widget-view+json": {
              "model_id": "93e0bb16d11b4ff99070426809db7ace",
              "version_minor": 0,
              "version_major": 2
            },
            "text/plain": [
              "VBox(children=(Label(value=' 5.47MB of 5.47MB uploaded (0.00MB deduped)\\r'), FloatProgress(value=1.0, max=1.0)…"
            ]
          },
          "metadata": {
            "tags": []
          }
        },
        {
          "output_type": "display_data",
          "data": {
            "text/html": [
              "Find user logs for this run at: <code>/content/wandb/run-20210713_111925-1or24bzh/logs/debug.log</code>"
            ],
            "text/plain": [
              "<IPython.core.display.HTML object>"
            ]
          },
          "metadata": {
            "tags": []
          }
        },
        {
          "output_type": "display_data",
          "data": {
            "text/html": [
              "Find internal logs for this run at: <code>/content/wandb/run-20210713_111925-1or24bzh/logs/debug-internal.log</code>"
            ],
            "text/plain": [
              "<IPython.core.display.HTML object>"
            ]
          },
          "metadata": {
            "tags": []
          }
        },
        {
          "output_type": "display_data",
          "data": {
            "text/html": [
              "<h3>Run summary:</h3><br/><style>\n",
              "    table.wandb td:nth-child(1) { padding: 0 10px; text-align: right }\n",
              "    </style><table class=\"wandb\">\n",
              "<tr><td>epoch</td><td>9</td></tr><tr><td>loss</td><td>0.2369</td></tr><tr><td>accuracy</td><td>0.92497</td></tr><tr><td>val_loss</td><td>0.32877</td></tr><tr><td>val_accuracy</td><td>0.91258</td></tr><tr><td>_runtime</td><td>52</td></tr><tr><td>_timestamp</td><td>1626175217</td></tr><tr><td>_step</td><td>9</td></tr><tr><td>best_val_loss</td><td>0.28834</td></tr><tr><td>best_epoch</td><td>4</td></tr></table>"
            ],
            "text/plain": [
              "<IPython.core.display.HTML object>"
            ]
          },
          "metadata": {
            "tags": []
          }
        },
        {
          "output_type": "display_data",
          "data": {
            "text/html": [
              "<h3>Run history:</h3><br/><style>\n",
              "    table.wandb td:nth-child(1) { padding: 0 10px; text-align: right }\n",
              "    </style><table class=\"wandb\">\n",
              "<tr><td>epoch</td><td>▁▂▃▃▄▅▆▆▇█</td></tr><tr><td>loss</td><td>█▃▂▂▁▁▁▁▁▁</td></tr><tr><td>accuracy</td><td>▁▆▇▇▇█████</td></tr><tr><td>val_loss</td><td>█▃▂▂▁▂▂▂▃▃</td></tr><tr><td>val_accuracy</td><td>▁▅▆▇█████▇</td></tr><tr><td>_runtime</td><td>▁▂▃▃▄▅▆▆▇█</td></tr><tr><td>_timestamp</td><td>▁▂▃▃▄▅▆▆▇█</td></tr><tr><td>_step</td><td>▁▂▃▃▄▅▆▆▇█</td></tr></table><br/>"
            ],
            "text/plain": [
              "<IPython.core.display.HTML object>"
            ]
          },
          "metadata": {
            "tags": []
          }
        },
        {
          "output_type": "display_data",
          "data": {
            "text/html": [
              "Synced 5 W&B file(s), 1 media file(s), 2 artifact file(s) and 2 other file(s)"
            ],
            "text/plain": [
              "<IPython.core.display.HTML object>"
            ]
          },
          "metadata": {
            "tags": []
          }
        },
        {
          "output_type": "display_data",
          "data": {
            "text/html": [
              "\n",
              "                    <br/>Synced <strong style=\"color:#cdcd00\">atomic-forest-10</strong>: <a href=\"https://wandb.ai/anandkarunan/EMNIST_0/runs/1or24bzh\" target=\"_blank\">https://wandb.ai/anandkarunan/EMNIST_0/runs/1or24bzh</a><br/>\n",
              "                "
            ],
            "text/plain": [
              "<IPython.core.display.HTML object>"
            ]
          },
          "metadata": {
            "tags": []
          }
        },
        {
          "output_type": "display_data",
          "data": {
            "text/html": [
              "\n",
              "                Tracking run with wandb version 0.10.33<br/>\n",
              "                Syncing run <strong style=\"color:#cdcd00\">worldly-cloud-11</strong> to <a href=\"https://wandb.ai\" target=\"_blank\">Weights & Biases</a> <a href=\"https://docs.wandb.com/integrations/jupyter.html\" target=\"_blank\">(Documentation)</a>.<br/>\n",
              "                Project page: <a href=\"https://wandb.ai/anandkarunan/EMNIST_0\" target=\"_blank\">https://wandb.ai/anandkarunan/EMNIST_0</a><br/>\n",
              "                Run page: <a href=\"https://wandb.ai/anandkarunan/EMNIST_0/runs/1jf29a5u\" target=\"_blank\">https://wandb.ai/anandkarunan/EMNIST_0/runs/1jf29a5u</a><br/>\n",
              "                Run data is saved locally in <code>/content/wandb/run-20210713_112026-1jf29a5u</code><br/><br/>\n",
              "            "
            ],
            "text/plain": [
              "<IPython.core.display.HTML object>"
            ]
          },
          "metadata": {
            "tags": []
          }
        },
        {
          "output_type": "stream",
          "text": [
            "Epoch 1/10\n",
            "  1/780 [..............................] - ETA: 7:24 - loss: 3.3392 - accuracy: 0.0156WARNING:tensorflow:Callback method `on_train_batch_end` is slow compared to the batch time (batch time: 0.0040s vs `on_train_batch_end` time: 0.0043s). Check your callbacks.\n",
            "780/780 [==============================] - 6s 6ms/step - loss: 0.7981 - accuracy: 0.7566 - val_loss: 0.4339 - val_accuracy: 0.8677\n",
            "Epoch 2/10\n",
            "780/780 [==============================] - 4s 6ms/step - loss: 0.4517 - accuracy: 0.8576 - val_loss: 0.3508 - val_accuracy: 0.8921\n",
            "Epoch 3/10\n",
            "780/780 [==============================] - 5s 6ms/step - loss: 0.3859 - accuracy: 0.8792 - val_loss: 0.3188 - val_accuracy: 0.9004\n",
            "Epoch 4/10\n",
            "780/780 [==============================] - 4s 6ms/step - loss: 0.3579 - accuracy: 0.8873 - val_loss: 0.3161 - val_accuracy: 0.9036\n",
            "Epoch 5/10\n",
            "780/780 [==============================] - 4s 6ms/step - loss: 0.3371 - accuracy: 0.8931 - val_loss: 0.3078 - val_accuracy: 0.9085\n",
            "Epoch 6/10\n",
            "780/780 [==============================] - 5s 6ms/step - loss: 0.3261 - accuracy: 0.8966 - val_loss: 0.2995 - val_accuracy: 0.9111\n",
            "Epoch 7/10\n",
            "780/780 [==============================] - 4s 6ms/step - loss: 0.3261 - accuracy: 0.8995 - val_loss: 0.3058 - val_accuracy: 0.9108\n",
            "Epoch 8/10\n",
            "780/780 [==============================] - 5s 6ms/step - loss: 0.3212 - accuracy: 0.9015 - val_loss: 0.3114 - val_accuracy: 0.9131\n",
            "Epoch 9/10\n",
            "780/780 [==============================] - 5s 6ms/step - loss: 0.3216 - accuracy: 0.9022 - val_loss: 0.3013 - val_accuracy: 0.9134\n",
            "Epoch 10/10\n",
            "780/780 [==============================] - 4s 6ms/step - loss: 0.3200 - accuracy: 0.9038 - val_loss: 0.3318 - val_accuracy: 0.9128\n"
          ],
          "name": "stdout"
        },
        {
          "output_type": "display_data",
          "data": {
            "text/html": [
              "<br/>Waiting for W&B process to finish, PID 2060<br/>Program ended successfully."
            ],
            "text/plain": [
              "<IPython.core.display.HTML object>"
            ]
          },
          "metadata": {
            "tags": []
          }
        },
        {
          "output_type": "display_data",
          "data": {
            "application/vnd.jupyter.widget-view+json": {
              "model_id": "4bd059fbba224950bd3138c04aedc8d3",
              "version_minor": 0,
              "version_major": 2
            },
            "text/plain": [
              "VBox(children=(Label(value=' 5.48MB of 5.48MB uploaded (0.00MB deduped)\\r'), FloatProgress(value=1.0, max=1.0)…"
            ]
          },
          "metadata": {
            "tags": []
          }
        },
        {
          "output_type": "display_data",
          "data": {
            "text/html": [
              "Find user logs for this run at: <code>/content/wandb/run-20210713_112026-1jf29a5u/logs/debug.log</code>"
            ],
            "text/plain": [
              "<IPython.core.display.HTML object>"
            ]
          },
          "metadata": {
            "tags": []
          }
        },
        {
          "output_type": "display_data",
          "data": {
            "text/html": [
              "Find internal logs for this run at: <code>/content/wandb/run-20210713_112026-1jf29a5u/logs/debug-internal.log</code>"
            ],
            "text/plain": [
              "<IPython.core.display.HTML object>"
            ]
          },
          "metadata": {
            "tags": []
          }
        },
        {
          "output_type": "display_data",
          "data": {
            "text/html": [
              "<h3>Run summary:</h3><br/><style>\n",
              "    table.wandb td:nth-child(1) { padding: 0 10px; text-align: right }\n",
              "    </style><table class=\"wandb\">\n",
              "<tr><td>epoch</td><td>9</td></tr><tr><td>loss</td><td>0.32004</td></tr><tr><td>accuracy</td><td>0.90382</td></tr><tr><td>val_loss</td><td>0.33182</td></tr><tr><td>val_accuracy</td><td>0.91278</td></tr><tr><td>_runtime</td><td>52</td></tr><tr><td>_timestamp</td><td>1626175278</td></tr><tr><td>_step</td><td>9</td></tr><tr><td>best_val_loss</td><td>0.29954</td></tr><tr><td>best_epoch</td><td>5</td></tr></table>"
            ],
            "text/plain": [
              "<IPython.core.display.HTML object>"
            ]
          },
          "metadata": {
            "tags": []
          }
        },
        {
          "output_type": "display_data",
          "data": {
            "text/html": [
              "<h3>Run history:</h3><br/><style>\n",
              "    table.wandb td:nth-child(1) { padding: 0 10px; text-align: right }\n",
              "    </style><table class=\"wandb\">\n",
              "<tr><td>epoch</td><td>▁▂▃▃▄▅▆▆▇█</td></tr><tr><td>loss</td><td>█▃▂▂▁▁▁▁▁▁</td></tr><tr><td>accuracy</td><td>▁▆▇▇▇█████</td></tr><tr><td>val_loss</td><td>█▄▂▂▁▁▁▂▁▃</td></tr><tr><td>val_accuracy</td><td>▁▅▆▆▇█████</td></tr><tr><td>_runtime</td><td>▁▂▃▃▄▅▆▆▇█</td></tr><tr><td>_timestamp</td><td>▁▂▃▃▄▅▆▆▇█</td></tr><tr><td>_step</td><td>▁▂▃▃▄▅▆▆▇█</td></tr></table><br/>"
            ],
            "text/plain": [
              "<IPython.core.display.HTML object>"
            ]
          },
          "metadata": {
            "tags": []
          }
        },
        {
          "output_type": "display_data",
          "data": {
            "text/html": [
              "Synced 5 W&B file(s), 1 media file(s), 2 artifact file(s) and 2 other file(s)"
            ],
            "text/plain": [
              "<IPython.core.display.HTML object>"
            ]
          },
          "metadata": {
            "tags": []
          }
        },
        {
          "output_type": "display_data",
          "data": {
            "text/html": [
              "\n",
              "                    <br/>Synced <strong style=\"color:#cdcd00\">worldly-cloud-11</strong>: <a href=\"https://wandb.ai/anandkarunan/EMNIST_0/runs/1jf29a5u\" target=\"_blank\">https://wandb.ai/anandkarunan/EMNIST_0/runs/1jf29a5u</a><br/>\n",
              "                "
            ],
            "text/plain": [
              "<IPython.core.display.HTML object>"
            ]
          },
          "metadata": {
            "tags": []
          }
        },
        {
          "output_type": "display_data",
          "data": {
            "text/html": [
              "\n",
              "                Tracking run with wandb version 0.10.33<br/>\n",
              "                Syncing run <strong style=\"color:#cdcd00\">clean-firebrand-12</strong> to <a href=\"https://wandb.ai\" target=\"_blank\">Weights & Biases</a> <a href=\"https://docs.wandb.com/integrations/jupyter.html\" target=\"_blank\">(Documentation)</a>.<br/>\n",
              "                Project page: <a href=\"https://wandb.ai/anandkarunan/EMNIST_0\" target=\"_blank\">https://wandb.ai/anandkarunan/EMNIST_0</a><br/>\n",
              "                Run page: <a href=\"https://wandb.ai/anandkarunan/EMNIST_0/runs/ueyq87tm\" target=\"_blank\">https://wandb.ai/anandkarunan/EMNIST_0/runs/ueyq87tm</a><br/>\n",
              "                Run data is saved locally in <code>/content/wandb/run-20210713_112202-ueyq87tm</code><br/><br/>\n",
              "            "
            ],
            "text/plain": [
              "<IPython.core.display.HTML object>"
            ]
          },
          "metadata": {
            "tags": []
          }
        },
        {
          "output_type": "stream",
          "text": [
            "Epoch 1/10\n",
            "  1/780 [..............................] - ETA: 7:36 - loss: 3.3763 - accuracy: 0.0156WARNING:tensorflow:Callback method `on_train_batch_end` is slow compared to the batch time (batch time: 0.0031s vs `on_train_batch_end` time: 0.0034s). Check your callbacks.\n",
            "780/780 [==============================] - 6s 7ms/step - loss: 0.8505 - accuracy: 0.7404 - val_loss: 0.4388 - val_accuracy: 0.8636\n",
            "Epoch 2/10\n",
            "780/780 [==============================] - 5s 6ms/step - loss: 0.4930 - accuracy: 0.8457 - val_loss: 0.3524 - val_accuracy: 0.8887\n",
            "Epoch 3/10\n",
            "780/780 [==============================] - 5s 6ms/step - loss: 0.4233 - accuracy: 0.8671 - val_loss: 0.3333 - val_accuracy: 0.8978\n",
            "Epoch 4/10\n",
            "780/780 [==============================] - 4s 6ms/step - loss: 0.3932 - accuracy: 0.8768 - val_loss: 0.3111 - val_accuracy: 0.9058\n",
            "Epoch 5/10\n",
            "780/780 [==============================] - 5s 6ms/step - loss: 0.3787 - accuracy: 0.8826 - val_loss: 0.3079 - val_accuracy: 0.9090\n",
            "Epoch 6/10\n",
            "780/780 [==============================] - 5s 6ms/step - loss: 0.3695 - accuracy: 0.8865 - val_loss: 0.3202 - val_accuracy: 0.9065\n",
            "Epoch 7/10\n",
            "780/780 [==============================] - 5s 6ms/step - loss: 0.3695 - accuracy: 0.8872 - val_loss: 0.3175 - val_accuracy: 0.9047\n",
            "Epoch 8/10\n",
            "780/780 [==============================] - 5s 6ms/step - loss: 0.3691 - accuracy: 0.8896 - val_loss: 0.3140 - val_accuracy: 0.9111\n",
            "Epoch 9/10\n",
            "780/780 [==============================] - 5s 6ms/step - loss: 0.3721 - accuracy: 0.8901 - val_loss: 0.3216 - val_accuracy: 0.9107\n",
            "Epoch 10/10\n",
            "780/780 [==============================] - 5s 6ms/step - loss: 0.3724 - accuracy: 0.8911 - val_loss: 0.3205 - val_accuracy: 0.9128\n"
          ],
          "name": "stdout"
        },
        {
          "output_type": "display_data",
          "data": {
            "text/html": [
              "<br/>Waiting for W&B process to finish, PID 2135<br/>Program ended successfully."
            ],
            "text/plain": [
              "<IPython.core.display.HTML object>"
            ]
          },
          "metadata": {
            "tags": []
          }
        },
        {
          "output_type": "display_data",
          "data": {
            "application/vnd.jupyter.widget-view+json": {
              "model_id": "66a7a356d8934d25a200cc2d0be97f50",
              "version_minor": 0,
              "version_major": 2
            },
            "text/plain": [
              "VBox(children=(Label(value=' 5.49MB of 5.49MB uploaded (0.00MB deduped)\\r'), FloatProgress(value=1.0, max=1.0)…"
            ]
          },
          "metadata": {
            "tags": []
          }
        },
        {
          "output_type": "display_data",
          "data": {
            "text/html": [
              "Find user logs for this run at: <code>/content/wandb/run-20210713_112202-ueyq87tm/logs/debug.log</code>"
            ],
            "text/plain": [
              "<IPython.core.display.HTML object>"
            ]
          },
          "metadata": {
            "tags": []
          }
        },
        {
          "output_type": "display_data",
          "data": {
            "text/html": [
              "Find internal logs for this run at: <code>/content/wandb/run-20210713_112202-ueyq87tm/logs/debug-internal.log</code>"
            ],
            "text/plain": [
              "<IPython.core.display.HTML object>"
            ]
          },
          "metadata": {
            "tags": []
          }
        },
        {
          "output_type": "display_data",
          "data": {
            "text/html": [
              "<h3>Run summary:</h3><br/><style>\n",
              "    table.wandb td:nth-child(1) { padding: 0 10px; text-align: right }\n",
              "    </style><table class=\"wandb\">\n",
              "<tr><td>epoch</td><td>9</td></tr><tr><td>loss</td><td>0.3724</td></tr><tr><td>accuracy</td><td>0.89109</td></tr><tr><td>val_loss</td><td>0.32052</td></tr><tr><td>val_accuracy</td><td>0.91282</td></tr><tr><td>_runtime</td><td>54</td></tr><tr><td>_timestamp</td><td>1626175376</td></tr><tr><td>_step</td><td>9</td></tr><tr><td>best_val_loss</td><td>0.30788</td></tr><tr><td>best_epoch</td><td>4</td></tr></table>"
            ],
            "text/plain": [
              "<IPython.core.display.HTML object>"
            ]
          },
          "metadata": {
            "tags": []
          }
        },
        {
          "output_type": "display_data",
          "data": {
            "text/html": [
              "<h3>Run history:</h3><br/><style>\n",
              "    table.wandb td:nth-child(1) { padding: 0 10px; text-align: right }\n",
              "    </style><table class=\"wandb\">\n",
              "<tr><td>epoch</td><td>▁▂▃▃▄▅▆▆▇█</td></tr><tr><td>loss</td><td>█▃▂▁▁▁▁▁▁▁</td></tr><tr><td>accuracy</td><td>▁▆▇▇██████</td></tr><tr><td>val_loss</td><td>█▃▂▁▁▂▂▁▂▂</td></tr><tr><td>val_accuracy</td><td>▁▅▆▇▇▇▇███</td></tr><tr><td>_runtime</td><td>▁▂▃▃▄▅▆▇▇█</td></tr><tr><td>_timestamp</td><td>▁▂▃▃▄▅▆▇▇█</td></tr><tr><td>_step</td><td>▁▂▃▃▄▅▆▆▇█</td></tr></table><br/>"
            ],
            "text/plain": [
              "<IPython.core.display.HTML object>"
            ]
          },
          "metadata": {
            "tags": []
          }
        },
        {
          "output_type": "display_data",
          "data": {
            "text/html": [
              "Synced 5 W&B file(s), 1 media file(s), 2 artifact file(s) and 2 other file(s)"
            ],
            "text/plain": [
              "<IPython.core.display.HTML object>"
            ]
          },
          "metadata": {
            "tags": []
          }
        },
        {
          "output_type": "display_data",
          "data": {
            "text/html": [
              "\n",
              "                    <br/>Synced <strong style=\"color:#cdcd00\">clean-firebrand-12</strong>: <a href=\"https://wandb.ai/anandkarunan/EMNIST_0/runs/ueyq87tm\" target=\"_blank\">https://wandb.ai/anandkarunan/EMNIST_0/runs/ueyq87tm</a><br/>\n",
              "                "
            ],
            "text/plain": [
              "<IPython.core.display.HTML object>"
            ]
          },
          "metadata": {
            "tags": []
          }
        },
        {
          "output_type": "display_data",
          "data": {
            "text/html": [
              "\n",
              "                Tracking run with wandb version 0.10.33<br/>\n",
              "                Syncing run <strong style=\"color:#cdcd00\">zesty-silence-13</strong> to <a href=\"https://wandb.ai\" target=\"_blank\">Weights & Biases</a> <a href=\"https://docs.wandb.com/integrations/jupyter.html\" target=\"_blank\">(Documentation)</a>.<br/>\n",
              "                Project page: <a href=\"https://wandb.ai/anandkarunan/EMNIST_0\" target=\"_blank\">https://wandb.ai/anandkarunan/EMNIST_0</a><br/>\n",
              "                Run page: <a href=\"https://wandb.ai/anandkarunan/EMNIST_0/runs/gi4n44md\" target=\"_blank\">https://wandb.ai/anandkarunan/EMNIST_0/runs/gi4n44md</a><br/>\n",
              "                Run data is saved locally in <code>/content/wandb/run-20210713_112339-gi4n44md</code><br/><br/>\n",
              "            "
            ],
            "text/plain": [
              "<IPython.core.display.HTML object>"
            ]
          },
          "metadata": {
            "tags": []
          }
        },
        {
          "output_type": "stream",
          "text": [
            "Epoch 1/10\n",
            "  1/780 [..............................] - ETA: 8:25 - loss: 3.3871 - accuracy: 0.0312WARNING:tensorflow:Callback method `on_train_batch_end` is slow compared to the batch time (batch time: 0.0031s vs `on_train_batch_end` time: 0.0035s). Check your callbacks.\n",
            "780/780 [==============================] - 6s 6ms/step - loss: 0.6628 - accuracy: 0.7965 - val_loss: 0.3752 - val_accuracy: 0.8831\n",
            "Epoch 2/10\n",
            "780/780 [==============================] - 5s 6ms/step - loss: 0.3422 - accuracy: 0.8892 - val_loss: 0.3307 - val_accuracy: 0.8962\n",
            "Epoch 3/10\n",
            "780/780 [==============================] - 5s 6ms/step - loss: 0.2765 - accuracy: 0.9078 - val_loss: 0.3230 - val_accuracy: 0.9021\n",
            "Epoch 4/10\n",
            "780/780 [==============================] - 5s 6ms/step - loss: 0.2393 - accuracy: 0.9195 - val_loss: 0.2930 - val_accuracy: 0.9134\n",
            "Epoch 5/10\n",
            "780/780 [==============================] - 5s 6ms/step - loss: 0.2176 - accuracy: 0.9265 - val_loss: 0.2901 - val_accuracy: 0.9114\n",
            "Epoch 6/10\n",
            "780/780 [==============================] - 4s 6ms/step - loss: 0.1983 - accuracy: 0.9323 - val_loss: 0.3132 - val_accuracy: 0.9132\n",
            "Epoch 7/10\n",
            "780/780 [==============================] - 5s 6ms/step - loss: 0.1855 - accuracy: 0.9348 - val_loss: 0.3191 - val_accuracy: 0.9138\n",
            "Epoch 8/10\n",
            "780/780 [==============================] - 4s 6ms/step - loss: 0.1769 - accuracy: 0.9388 - val_loss: 0.3299 - val_accuracy: 0.9178\n",
            "Epoch 9/10\n",
            "780/780 [==============================] - 5s 6ms/step - loss: 0.1700 - accuracy: 0.9411 - val_loss: 0.3612 - val_accuracy: 0.9155\n",
            "Epoch 10/10\n",
            "780/780 [==============================] - 5s 6ms/step - loss: 0.1664 - accuracy: 0.9420 - val_loss: 0.3458 - val_accuracy: 0.9166\n"
          ],
          "name": "stdout"
        },
        {
          "output_type": "display_data",
          "data": {
            "text/html": [
              "<br/>Waiting for W&B process to finish, PID 2228<br/>Program ended successfully."
            ],
            "text/plain": [
              "<IPython.core.display.HTML object>"
            ]
          },
          "metadata": {
            "tags": []
          }
        },
        {
          "output_type": "display_data",
          "data": {
            "application/vnd.jupyter.widget-view+json": {
              "model_id": "8804d005e33e428cb7de9aa25ee745a9",
              "version_minor": 0,
              "version_major": 2
            },
            "text/plain": [
              "VBox(children=(Label(value=' 5.50MB of 5.50MB uploaded (0.00MB deduped)\\r'), FloatProgress(value=1.0, max=1.0)…"
            ]
          },
          "metadata": {
            "tags": []
          }
        },
        {
          "output_type": "display_data",
          "data": {
            "text/html": [
              "Find user logs for this run at: <code>/content/wandb/run-20210713_112339-gi4n44md/logs/debug.log</code>"
            ],
            "text/plain": [
              "<IPython.core.display.HTML object>"
            ]
          },
          "metadata": {
            "tags": []
          }
        },
        {
          "output_type": "display_data",
          "data": {
            "text/html": [
              "Find internal logs for this run at: <code>/content/wandb/run-20210713_112339-gi4n44md/logs/debug-internal.log</code>"
            ],
            "text/plain": [
              "<IPython.core.display.HTML object>"
            ]
          },
          "metadata": {
            "tags": []
          }
        },
        {
          "output_type": "display_data",
          "data": {
            "text/html": [
              "<h3>Run summary:</h3><br/><style>\n",
              "    table.wandb td:nth-child(1) { padding: 0 10px; text-align: right }\n",
              "    </style><table class=\"wandb\">\n",
              "<tr><td>epoch</td><td>9</td></tr><tr><td>loss</td><td>0.16645</td></tr><tr><td>accuracy</td><td>0.94203</td></tr><tr><td>val_loss</td><td>0.34577</td></tr><tr><td>val_accuracy</td><td>0.91659</td></tr><tr><td>_runtime</td><td>53</td></tr><tr><td>_timestamp</td><td>1626175472</td></tr><tr><td>_step</td><td>9</td></tr><tr><td>best_val_loss</td><td>0.29009</td></tr><tr><td>best_epoch</td><td>4</td></tr></table>"
            ],
            "text/plain": [
              "<IPython.core.display.HTML object>"
            ]
          },
          "metadata": {
            "tags": []
          }
        },
        {
          "output_type": "display_data",
          "data": {
            "text/html": [
              "<h3>Run history:</h3><br/><style>\n",
              "    table.wandb td:nth-child(1) { padding: 0 10px; text-align: right }\n",
              "    </style><table class=\"wandb\">\n",
              "<tr><td>epoch</td><td>▁▂▃▃▄▅▆▆▇█</td></tr><tr><td>loss</td><td>█▃▃▂▂▁▁▁▁▁</td></tr><tr><td>accuracy</td><td>▁▅▆▇▇█████</td></tr><tr><td>val_loss</td><td>█▄▄▁▁▃▃▄▇▆</td></tr><tr><td>val_accuracy</td><td>▁▄▅▇▇▇▇███</td></tr><tr><td>_runtime</td><td>▁▂▃▃▄▅▆▆▇█</td></tr><tr><td>_timestamp</td><td>▁▂▃▃▄▅▆▆▇█</td></tr><tr><td>_step</td><td>▁▂▃▃▄▅▆▆▇█</td></tr></table><br/>"
            ],
            "text/plain": [
              "<IPython.core.display.HTML object>"
            ]
          },
          "metadata": {
            "tags": []
          }
        },
        {
          "output_type": "display_data",
          "data": {
            "text/html": [
              "Synced 5 W&B file(s), 1 media file(s), 2 artifact file(s) and 2 other file(s)"
            ],
            "text/plain": [
              "<IPython.core.display.HTML object>"
            ]
          },
          "metadata": {
            "tags": []
          }
        },
        {
          "output_type": "display_data",
          "data": {
            "text/html": [
              "\n",
              "                    <br/>Synced <strong style=\"color:#cdcd00\">zesty-silence-13</strong>: <a href=\"https://wandb.ai/anandkarunan/EMNIST_0/runs/gi4n44md\" target=\"_blank\">https://wandb.ai/anandkarunan/EMNIST_0/runs/gi4n44md</a><br/>\n",
              "                "
            ],
            "text/plain": [
              "<IPython.core.display.HTML object>"
            ]
          },
          "metadata": {
            "tags": []
          }
        },
        {
          "output_type": "display_data",
          "data": {
            "text/html": [
              "\n",
              "                Tracking run with wandb version 0.10.33<br/>\n",
              "                Syncing run <strong style=\"color:#cdcd00\">deep-snowflake-14</strong> to <a href=\"https://wandb.ai\" target=\"_blank\">Weights & Biases</a> <a href=\"https://docs.wandb.com/integrations/jupyter.html\" target=\"_blank\">(Documentation)</a>.<br/>\n",
              "                Project page: <a href=\"https://wandb.ai/anandkarunan/EMNIST_0\" target=\"_blank\">https://wandb.ai/anandkarunan/EMNIST_0</a><br/>\n",
              "                Run page: <a href=\"https://wandb.ai/anandkarunan/EMNIST_0/runs/3orrsk8z\" target=\"_blank\">https://wandb.ai/anandkarunan/EMNIST_0/runs/3orrsk8z</a><br/>\n",
              "                Run data is saved locally in <code>/content/wandb/run-20210713_112441-3orrsk8z</code><br/><br/>\n",
              "            "
            ],
            "text/plain": [
              "<IPython.core.display.HTML object>"
            ]
          },
          "metadata": {
            "tags": []
          }
        },
        {
          "output_type": "stream",
          "text": [
            "Epoch 1/10\n",
            "  1/780 [..............................] - ETA: 7:49 - loss: 3.3123 - accuracy: 0.0234WARNING:tensorflow:Callback method `on_train_batch_end` is slow compared to the batch time (batch time: 0.0037s vs `on_train_batch_end` time: 0.0040s). Check your callbacks.\n",
            "780/780 [==============================] - 6s 6ms/step - loss: 0.7693 - accuracy: 0.7646 - val_loss: 0.4020 - val_accuracy: 0.8733\n",
            "Epoch 2/10\n",
            "780/780 [==============================] - 5s 6ms/step - loss: 0.4316 - accuracy: 0.8639 - val_loss: 0.3490 - val_accuracy: 0.8918\n",
            "Epoch 3/10\n",
            "780/780 [==============================] - 5s 6ms/step - loss: 0.3675 - accuracy: 0.8816 - val_loss: 0.3207 - val_accuracy: 0.9023\n",
            "Epoch 4/10\n",
            "780/780 [==============================] - 5s 6ms/step - loss: 0.3310 - accuracy: 0.8935 - val_loss: 0.2965 - val_accuracy: 0.9110\n",
            "Epoch 5/10\n",
            "780/780 [==============================] - 5s 6ms/step - loss: 0.3187 - accuracy: 0.8987 - val_loss: 0.3042 - val_accuracy: 0.9105\n",
            "Epoch 6/10\n",
            "780/780 [==============================] - 5s 6ms/step - loss: 0.3088 - accuracy: 0.9022 - val_loss: 0.3003 - val_accuracy: 0.9135\n",
            "Epoch 7/10\n",
            "780/780 [==============================] - 5s 6ms/step - loss: 0.3027 - accuracy: 0.9046 - val_loss: 0.3020 - val_accuracy: 0.9145\n",
            "Epoch 8/10\n",
            "780/780 [==============================] - 5s 6ms/step - loss: 0.2962 - accuracy: 0.9077 - val_loss: 0.2988 - val_accuracy: 0.9137\n",
            "Epoch 9/10\n",
            "780/780 [==============================] - 5s 6ms/step - loss: 0.2964 - accuracy: 0.9093 - val_loss: 0.3318 - val_accuracy: 0.9117\n",
            "Epoch 10/10\n",
            "780/780 [==============================] - 5s 6ms/step - loss: 0.2911 - accuracy: 0.9109 - val_loss: 0.3131 - val_accuracy: 0.9130\n"
          ],
          "name": "stdout"
        },
        {
          "output_type": "display_data",
          "data": {
            "text/html": [
              "<br/>Waiting for W&B process to finish, PID 2313<br/>Program ended successfully."
            ],
            "text/plain": [
              "<IPython.core.display.HTML object>"
            ]
          },
          "metadata": {
            "tags": []
          }
        },
        {
          "output_type": "display_data",
          "data": {
            "application/vnd.jupyter.widget-view+json": {
              "model_id": "dcaed861cd824cef96bc878dde86f0ef",
              "version_minor": 0,
              "version_major": 2
            },
            "text/plain": [
              "VBox(children=(Label(value=' 5.51MB of 5.51MB uploaded (0.00MB deduped)\\r'), FloatProgress(value=1.0, max=1.0)…"
            ]
          },
          "metadata": {
            "tags": []
          }
        },
        {
          "output_type": "display_data",
          "data": {
            "text/html": [
              "Find user logs for this run at: <code>/content/wandb/run-20210713_112441-3orrsk8z/logs/debug.log</code>"
            ],
            "text/plain": [
              "<IPython.core.display.HTML object>"
            ]
          },
          "metadata": {
            "tags": []
          }
        },
        {
          "output_type": "display_data",
          "data": {
            "text/html": [
              "Find internal logs for this run at: <code>/content/wandb/run-20210713_112441-3orrsk8z/logs/debug-internal.log</code>"
            ],
            "text/plain": [
              "<IPython.core.display.HTML object>"
            ]
          },
          "metadata": {
            "tags": []
          }
        },
        {
          "output_type": "display_data",
          "data": {
            "text/html": [
              "<h3>Run summary:</h3><br/><style>\n",
              "    table.wandb td:nth-child(1) { padding: 0 10px; text-align: right }\n",
              "    </style><table class=\"wandb\">\n",
              "<tr><td>epoch</td><td>9</td></tr><tr><td>loss</td><td>0.29112</td></tr><tr><td>accuracy</td><td>0.91091</td></tr><tr><td>val_loss</td><td>0.31307</td></tr><tr><td>val_accuracy</td><td>0.91302</td></tr><tr><td>_runtime</td><td>53</td></tr><tr><td>_timestamp</td><td>1626175534</td></tr><tr><td>_step</td><td>9</td></tr><tr><td>best_val_loss</td><td>0.29654</td></tr><tr><td>best_epoch</td><td>3</td></tr></table>"
            ],
            "text/plain": [
              "<IPython.core.display.HTML object>"
            ]
          },
          "metadata": {
            "tags": []
          }
        },
        {
          "output_type": "display_data",
          "data": {
            "text/html": [
              "<h3>Run history:</h3><br/><style>\n",
              "    table.wandb td:nth-child(1) { padding: 0 10px; text-align: right }\n",
              "    </style><table class=\"wandb\">\n",
              "<tr><td>epoch</td><td>▁▂▃▃▄▅▆▆▇█</td></tr><tr><td>loss</td><td>█▃▂▂▁▁▁▁▁▁</td></tr><tr><td>accuracy</td><td>▁▆▇▇▇█████</td></tr><tr><td>val_loss</td><td>█▄▃▁▂▁▁▁▃▂</td></tr><tr><td>val_accuracy</td><td>▁▄▆▇▇█████</td></tr><tr><td>_runtime</td><td>▁▂▃▃▄▅▆▇▇█</td></tr><tr><td>_timestamp</td><td>▁▂▃▃▄▅▆▇▇█</td></tr><tr><td>_step</td><td>▁▂▃▃▄▅▆▆▇█</td></tr></table><br/>"
            ],
            "text/plain": [
              "<IPython.core.display.HTML object>"
            ]
          },
          "metadata": {
            "tags": []
          }
        },
        {
          "output_type": "display_data",
          "data": {
            "text/html": [
              "Synced 5 W&B file(s), 1 media file(s), 2 artifact file(s) and 2 other file(s)"
            ],
            "text/plain": [
              "<IPython.core.display.HTML object>"
            ]
          },
          "metadata": {
            "tags": []
          }
        },
        {
          "output_type": "display_data",
          "data": {
            "text/html": [
              "\n",
              "                    <br/>Synced <strong style=\"color:#cdcd00\">deep-snowflake-14</strong>: <a href=\"https://wandb.ai/anandkarunan/EMNIST_0/runs/3orrsk8z\" target=\"_blank\">https://wandb.ai/anandkarunan/EMNIST_0/runs/3orrsk8z</a><br/>\n",
              "                "
            ],
            "text/plain": [
              "<IPython.core.display.HTML object>"
            ]
          },
          "metadata": {
            "tags": []
          }
        },
        {
          "output_type": "display_data",
          "data": {
            "text/html": [
              "\n",
              "                Tracking run with wandb version 0.10.33<br/>\n",
              "                Syncing run <strong style=\"color:#cdcd00\">copper-snowflake-15</strong> to <a href=\"https://wandb.ai\" target=\"_blank\">Weights & Biases</a> <a href=\"https://docs.wandb.com/integrations/jupyter.html\" target=\"_blank\">(Documentation)</a>.<br/>\n",
              "                Project page: <a href=\"https://wandb.ai/anandkarunan/EMNIST_0\" target=\"_blank\">https://wandb.ai/anandkarunan/EMNIST_0</a><br/>\n",
              "                Run page: <a href=\"https://wandb.ai/anandkarunan/EMNIST_0/runs/jt1s23o7\" target=\"_blank\">https://wandb.ai/anandkarunan/EMNIST_0/runs/jt1s23o7</a><br/>\n",
              "                Run data is saved locally in <code>/content/wandb/run-20210713_112617-jt1s23o7</code><br/><br/>\n",
              "            "
            ],
            "text/plain": [
              "<IPython.core.display.HTML object>"
            ]
          },
          "metadata": {
            "tags": []
          }
        },
        {
          "output_type": "stream",
          "text": [
            "Epoch 1/10\n",
            "  1/780 [..............................] - ETA: 7:46 - loss: 3.3391 - accuracy: 0.0859WARNING:tensorflow:Callback method `on_train_batch_end` is slow compared to the batch time (batch time: 0.0034s vs `on_train_batch_end` time: 0.0035s). Check your callbacks.\n",
            "780/780 [==============================] - 6s 7ms/step - loss: 0.7813 - accuracy: 0.7621 - val_loss: 0.4093 - val_accuracy: 0.8754\n",
            "Epoch 2/10\n",
            "780/780 [==============================] - 5s 6ms/step - loss: 0.4369 - accuracy: 0.8612 - val_loss: 0.3445 - val_accuracy: 0.8945\n",
            "Epoch 3/10\n",
            "780/780 [==============================] - 5s 6ms/step - loss: 0.3702 - accuracy: 0.8826 - val_loss: 0.3111 - val_accuracy: 0.9039\n",
            "Epoch 4/10\n",
            "780/780 [==============================] - 5s 6ms/step - loss: 0.3409 - accuracy: 0.8907 - val_loss: 0.3088 - val_accuracy: 0.9044\n",
            "Epoch 5/10\n",
            "780/780 [==============================] - 5s 6ms/step - loss: 0.3222 - accuracy: 0.8976 - val_loss: 0.3053 - val_accuracy: 0.9048\n",
            "Epoch 6/10\n",
            "780/780 [==============================] - 5s 6ms/step - loss: 0.3141 - accuracy: 0.9004 - val_loss: 0.3160 - val_accuracy: 0.9097\n",
            "Epoch 7/10\n",
            "780/780 [==============================] - 5s 6ms/step - loss: 0.3087 - accuracy: 0.9028 - val_loss: 0.3118 - val_accuracy: 0.9137\n",
            "Epoch 8/10\n",
            "780/780 [==============================] - 5s 6ms/step - loss: 0.3064 - accuracy: 0.9051 - val_loss: 0.3114 - val_accuracy: 0.9133\n",
            "Epoch 9/10\n",
            "780/780 [==============================] - 5s 6ms/step - loss: 0.3045 - accuracy: 0.9062 - val_loss: 0.3077 - val_accuracy: 0.9152\n",
            "Epoch 10/10\n",
            "780/780 [==============================] - 5s 6ms/step - loss: 0.3023 - accuracy: 0.9082 - val_loss: 0.3348 - val_accuracy: 0.9123\n"
          ],
          "name": "stdout"
        },
        {
          "output_type": "display_data",
          "data": {
            "text/html": [
              "<br/>Waiting for W&B process to finish, PID 2404<br/>Program ended successfully."
            ],
            "text/plain": [
              "<IPython.core.display.HTML object>"
            ]
          },
          "metadata": {
            "tags": []
          }
        },
        {
          "output_type": "display_data",
          "data": {
            "application/vnd.jupyter.widget-view+json": {
              "model_id": "da9e186edbf54c21b49ac669ede11898",
              "version_minor": 0,
              "version_major": 2
            },
            "text/plain": [
              "VBox(children=(Label(value=' 5.52MB of 5.52MB uploaded (0.00MB deduped)\\r'), FloatProgress(value=1.0, max=1.0)…"
            ]
          },
          "metadata": {
            "tags": []
          }
        },
        {
          "output_type": "display_data",
          "data": {
            "text/html": [
              "Find user logs for this run at: <code>/content/wandb/run-20210713_112617-jt1s23o7/logs/debug.log</code>"
            ],
            "text/plain": [
              "<IPython.core.display.HTML object>"
            ]
          },
          "metadata": {
            "tags": []
          }
        },
        {
          "output_type": "display_data",
          "data": {
            "text/html": [
              "Find internal logs for this run at: <code>/content/wandb/run-20210713_112617-jt1s23o7/logs/debug-internal.log</code>"
            ],
            "text/plain": [
              "<IPython.core.display.HTML object>"
            ]
          },
          "metadata": {
            "tags": []
          }
        },
        {
          "output_type": "display_data",
          "data": {
            "text/html": [
              "<h3>Run summary:</h3><br/><style>\n",
              "    table.wandb td:nth-child(1) { padding: 0 10px; text-align: right }\n",
              "    </style><table class=\"wandb\">\n",
              "<tr><td>epoch</td><td>9</td></tr><tr><td>loss</td><td>0.30232</td></tr><tr><td>accuracy</td><td>0.90816</td></tr><tr><td>val_loss</td><td>0.33477</td></tr><tr><td>val_accuracy</td><td>0.91234</td></tr><tr><td>_runtime</td><td>54</td></tr><tr><td>_timestamp</td><td>1626175631</td></tr><tr><td>_step</td><td>9</td></tr><tr><td>best_val_loss</td><td>0.30527</td></tr><tr><td>best_epoch</td><td>4</td></tr></table>"
            ],
            "text/plain": [
              "<IPython.core.display.HTML object>"
            ]
          },
          "metadata": {
            "tags": []
          }
        },
        {
          "output_type": "display_data",
          "data": {
            "text/html": [
              "<h3>Run history:</h3><br/><style>\n",
              "    table.wandb td:nth-child(1) { padding: 0 10px; text-align: right }\n",
              "    </style><table class=\"wandb\">\n",
              "<tr><td>epoch</td><td>▁▂▃▃▄▅▆▆▇█</td></tr><tr><td>loss</td><td>█▃▂▂▁▁▁▁▁▁</td></tr><tr><td>accuracy</td><td>▁▆▇▇▇█████</td></tr><tr><td>val_loss</td><td>█▄▁▁▁▂▁▁▁▃</td></tr><tr><td>val_accuracy</td><td>▁▄▆▆▆▇███▇</td></tr><tr><td>_runtime</td><td>▁▂▃▃▄▅▆▇▇█</td></tr><tr><td>_timestamp</td><td>▁▂▃▃▄▅▆▇▇█</td></tr><tr><td>_step</td><td>▁▂▃▃▄▅▆▆▇█</td></tr></table><br/>"
            ],
            "text/plain": [
              "<IPython.core.display.HTML object>"
            ]
          },
          "metadata": {
            "tags": []
          }
        },
        {
          "output_type": "display_data",
          "data": {
            "text/html": [
              "Synced 5 W&B file(s), 1 media file(s), 2 artifact file(s) and 2 other file(s)"
            ],
            "text/plain": [
              "<IPython.core.display.HTML object>"
            ]
          },
          "metadata": {
            "tags": []
          }
        },
        {
          "output_type": "display_data",
          "data": {
            "text/html": [
              "\n",
              "                    <br/>Synced <strong style=\"color:#cdcd00\">copper-snowflake-15</strong>: <a href=\"https://wandb.ai/anandkarunan/EMNIST_0/runs/jt1s23o7\" target=\"_blank\">https://wandb.ai/anandkarunan/EMNIST_0/runs/jt1s23o7</a><br/>\n",
              "                "
            ],
            "text/plain": [
              "<IPython.core.display.HTML object>"
            ]
          },
          "metadata": {
            "tags": []
          }
        },
        {
          "output_type": "display_data",
          "data": {
            "text/html": [
              "\n",
              "                Tracking run with wandb version 0.10.33<br/>\n",
              "                Syncing run <strong style=\"color:#cdcd00\">rich-sky-16</strong> to <a href=\"https://wandb.ai\" target=\"_blank\">Weights & Biases</a> <a href=\"https://docs.wandb.com/integrations/jupyter.html\" target=\"_blank\">(Documentation)</a>.<br/>\n",
              "                Project page: <a href=\"https://wandb.ai/anandkarunan/EMNIST_0\" target=\"_blank\">https://wandb.ai/anandkarunan/EMNIST_0</a><br/>\n",
              "                Run page: <a href=\"https://wandb.ai/anandkarunan/EMNIST_0/runs/30ixlntx\" target=\"_blank\">https://wandb.ai/anandkarunan/EMNIST_0/runs/30ixlntx</a><br/>\n",
              "                Run data is saved locally in <code>/content/wandb/run-20210713_112754-30ixlntx</code><br/><br/>\n",
              "            "
            ],
            "text/plain": [
              "<IPython.core.display.HTML object>"
            ]
          },
          "metadata": {
            "tags": []
          }
        },
        {
          "output_type": "stream",
          "text": [
            "Epoch 1/10\n",
            "780/780 [==============================] - 5s 6ms/step - loss: 0.7385 - accuracy: 0.7740 - val_loss: 0.4224 - val_accuracy: 0.8681\n",
            "Epoch 2/10\n",
            "780/780 [==============================] - 5s 6ms/step - loss: 0.4040 - accuracy: 0.8713 - val_loss: 0.3309 - val_accuracy: 0.8948\n",
            "Epoch 3/10\n",
            "780/780 [==============================] - 5s 6ms/step - loss: 0.3375 - accuracy: 0.8899 - val_loss: 0.3136 - val_accuracy: 0.9042\n",
            "Epoch 4/10\n",
            "780/780 [==============================] - 5s 6ms/step - loss: 0.3057 - accuracy: 0.9014 - val_loss: 0.2945 - val_accuracy: 0.9099\n",
            "Epoch 5/10\n",
            "780/780 [==============================] - 5s 6ms/step - loss: 0.2838 - accuracy: 0.9068 - val_loss: 0.2887 - val_accuracy: 0.9137\n",
            "Epoch 6/10\n",
            "780/780 [==============================] - 5s 6ms/step - loss: 0.2769 - accuracy: 0.9109 - val_loss: 0.2916 - val_accuracy: 0.9128\n",
            "Epoch 7/10\n",
            "780/780 [==============================] - 5s 6ms/step - loss: 0.2670 - accuracy: 0.9147 - val_loss: 0.3039 - val_accuracy: 0.9139\n",
            "Epoch 8/10\n",
            "780/780 [==============================] - 5s 6ms/step - loss: 0.2636 - accuracy: 0.9155 - val_loss: 0.3018 - val_accuracy: 0.9147\n",
            "Epoch 9/10\n",
            "780/780 [==============================] - 5s 6ms/step - loss: 0.2579 - accuracy: 0.9180 - val_loss: 0.3172 - val_accuracy: 0.9161\n",
            "Epoch 10/10\n",
            "780/780 [==============================] - 5s 6ms/step - loss: 0.2617 - accuracy: 0.9178 - val_loss: 0.3201 - val_accuracy: 0.9143\n"
          ],
          "name": "stdout"
        },
        {
          "output_type": "display_data",
          "data": {
            "text/html": [
              "<br/>Waiting for W&B process to finish, PID 2497<br/>Program ended successfully."
            ],
            "text/plain": [
              "<IPython.core.display.HTML object>"
            ]
          },
          "metadata": {
            "tags": []
          }
        },
        {
          "output_type": "display_data",
          "data": {
            "application/vnd.jupyter.widget-view+json": {
              "model_id": "5d3c3ca9e6a442d38accfa6261d92a01",
              "version_minor": 0,
              "version_major": 2
            },
            "text/plain": [
              "VBox(children=(Label(value=' 5.54MB of 5.54MB uploaded (0.00MB deduped)\\r'), FloatProgress(value=1.0, max=1.0)…"
            ]
          },
          "metadata": {
            "tags": []
          }
        },
        {
          "output_type": "display_data",
          "data": {
            "text/html": [
              "Find user logs for this run at: <code>/content/wandb/run-20210713_112754-30ixlntx/logs/debug.log</code>"
            ],
            "text/plain": [
              "<IPython.core.display.HTML object>"
            ]
          },
          "metadata": {
            "tags": []
          }
        },
        {
          "output_type": "display_data",
          "data": {
            "text/html": [
              "Find internal logs for this run at: <code>/content/wandb/run-20210713_112754-30ixlntx/logs/debug-internal.log</code>"
            ],
            "text/plain": [
              "<IPython.core.display.HTML object>"
            ]
          },
          "metadata": {
            "tags": []
          }
        },
        {
          "output_type": "display_data",
          "data": {
            "text/html": [
              "<h3>Run summary:</h3><br/><style>\n",
              "    table.wandb td:nth-child(1) { padding: 0 10px; text-align: right }\n",
              "    </style><table class=\"wandb\">\n",
              "<tr><td>epoch</td><td>9</td></tr><tr><td>loss</td><td>0.26169</td></tr><tr><td>accuracy</td><td>0.91782</td></tr><tr><td>val_loss</td><td>0.32013</td></tr><tr><td>val_accuracy</td><td>0.91426</td></tr><tr><td>_runtime</td><td>55</td></tr><tr><td>_timestamp</td><td>1626175729</td></tr><tr><td>_step</td><td>9</td></tr><tr><td>best_val_loss</td><td>0.28867</td></tr><tr><td>best_epoch</td><td>4</td></tr></table>"
            ],
            "text/plain": [
              "<IPython.core.display.HTML object>"
            ]
          },
          "metadata": {
            "tags": []
          }
        },
        {
          "output_type": "display_data",
          "data": {
            "text/html": [
              "<h3>Run history:</h3><br/><style>\n",
              "    table.wandb td:nth-child(1) { padding: 0 10px; text-align: right }\n",
              "    </style><table class=\"wandb\">\n",
              "<tr><td>epoch</td><td>▁▂▃▃▄▅▆▆▇█</td></tr><tr><td>loss</td><td>█▃▂▂▁▁▁▁▁▁</td></tr><tr><td>accuracy</td><td>▁▆▇▇▇█████</td></tr><tr><td>val_loss</td><td>█▃▂▁▁▁▂▂▂▃</td></tr><tr><td>val_accuracy</td><td>▁▅▆▇██████</td></tr><tr><td>_runtime</td><td>▁▂▂▃▄▅▆▆▇█</td></tr><tr><td>_timestamp</td><td>▁▂▂▃▄▅▆▆▇█</td></tr><tr><td>_step</td><td>▁▂▃▃▄▅▆▆▇█</td></tr></table><br/>"
            ],
            "text/plain": [
              "<IPython.core.display.HTML object>"
            ]
          },
          "metadata": {
            "tags": []
          }
        },
        {
          "output_type": "display_data",
          "data": {
            "text/html": [
              "Synced 5 W&B file(s), 1 media file(s), 2 artifact file(s) and 2 other file(s)"
            ],
            "text/plain": [
              "<IPython.core.display.HTML object>"
            ]
          },
          "metadata": {
            "tags": []
          }
        },
        {
          "output_type": "display_data",
          "data": {
            "text/html": [
              "\n",
              "                    <br/>Synced <strong style=\"color:#cdcd00\">rich-sky-16</strong>: <a href=\"https://wandb.ai/anandkarunan/EMNIST_0/runs/30ixlntx\" target=\"_blank\">https://wandb.ai/anandkarunan/EMNIST_0/runs/30ixlntx</a><br/>\n",
              "                "
            ],
            "text/plain": [
              "<IPython.core.display.HTML object>"
            ]
          },
          "metadata": {
            "tags": []
          }
        },
        {
          "output_type": "display_data",
          "data": {
            "text/html": [
              "\n",
              "                Tracking run with wandb version 0.10.33<br/>\n",
              "                Syncing run <strong style=\"color:#cdcd00\">leafy-cloud-17</strong> to <a href=\"https://wandb.ai\" target=\"_blank\">Weights & Biases</a> <a href=\"https://docs.wandb.com/integrations/jupyter.html\" target=\"_blank\">(Documentation)</a>.<br/>\n",
              "                Project page: <a href=\"https://wandb.ai/anandkarunan/EMNIST_0\" target=\"_blank\">https://wandb.ai/anandkarunan/EMNIST_0</a><br/>\n",
              "                Run page: <a href=\"https://wandb.ai/anandkarunan/EMNIST_0/runs/2acb8x55\" target=\"_blank\">https://wandb.ai/anandkarunan/EMNIST_0/runs/2acb8x55</a><br/>\n",
              "                Run data is saved locally in <code>/content/wandb/run-20210713_112859-2acb8x55</code><br/><br/>\n",
              "            "
            ],
            "text/plain": [
              "<IPython.core.display.HTML object>"
            ]
          },
          "metadata": {
            "tags": []
          }
        },
        {
          "output_type": "stream",
          "text": [
            "Epoch 1/10\n",
            "  1/780 [..............................] - ETA: 7:55 - loss: 3.3564 - accuracy: 0.0234WARNING:tensorflow:Callback method `on_train_batch_end` is slow compared to the batch time (batch time: 0.0034s vs `on_train_batch_end` time: 0.0038s). Check your callbacks.\n",
            "780/780 [==============================] - 6s 7ms/step - loss: 0.7245 - accuracy: 0.7785 - val_loss: 0.3959 - val_accuracy: 0.8749\n",
            "Epoch 2/10\n",
            "780/780 [==============================] - 5s 6ms/step - loss: 0.3914 - accuracy: 0.8759 - val_loss: 0.3178 - val_accuracy: 0.8992\n",
            "Epoch 3/10\n",
            "780/780 [==============================] - 5s 6ms/step - loss: 0.3246 - accuracy: 0.8947 - val_loss: 0.3159 - val_accuracy: 0.9023\n",
            "Epoch 4/10\n",
            "780/780 [==============================] - 5s 6ms/step - loss: 0.2902 - accuracy: 0.9056 - val_loss: 0.2940 - val_accuracy: 0.9054\n",
            "Epoch 5/10\n",
            "780/780 [==============================] - 5s 6ms/step - loss: 0.2691 - accuracy: 0.9119 - val_loss: 0.2935 - val_accuracy: 0.9130\n",
            "Epoch 6/10\n",
            "780/780 [==============================] - 5s 6ms/step - loss: 0.2597 - accuracy: 0.9153 - val_loss: 0.2944 - val_accuracy: 0.9125\n",
            "Epoch 7/10\n",
            "780/780 [==============================] - 5s 6ms/step - loss: 0.2508 - accuracy: 0.9188 - val_loss: 0.3049 - val_accuracy: 0.9159\n",
            "Epoch 8/10\n",
            "780/780 [==============================] - 5s 6ms/step - loss: 0.2416 - accuracy: 0.9213 - val_loss: 0.3077 - val_accuracy: 0.9153\n",
            "Epoch 9/10\n",
            "780/780 [==============================] - 5s 6ms/step - loss: 0.2424 - accuracy: 0.9228 - val_loss: 0.3175 - val_accuracy: 0.9139\n",
            "Epoch 10/10\n",
            "780/780 [==============================] - 5s 6ms/step - loss: 0.2368 - accuracy: 0.9241 - val_loss: 0.3278 - val_accuracy: 0.9160\n"
          ],
          "name": "stdout"
        },
        {
          "output_type": "display_data",
          "data": {
            "text/html": [
              "<br/>Waiting for W&B process to finish, PID 2584<br/>Program ended successfully."
            ],
            "text/plain": [
              "<IPython.core.display.HTML object>"
            ]
          },
          "metadata": {
            "tags": []
          }
        },
        {
          "output_type": "display_data",
          "data": {
            "application/vnd.jupyter.widget-view+json": {
              "model_id": "fea0f82a43644278a698fa83ba0a3ac0",
              "version_minor": 0,
              "version_major": 2
            },
            "text/plain": [
              "VBox(children=(Label(value=' 5.55MB of 5.55MB uploaded (0.00MB deduped)\\r'), FloatProgress(value=1.0, max=1.0)…"
            ]
          },
          "metadata": {
            "tags": []
          }
        },
        {
          "output_type": "display_data",
          "data": {
            "text/html": [
              "Find user logs for this run at: <code>/content/wandb/run-20210713_112859-2acb8x55/logs/debug.log</code>"
            ],
            "text/plain": [
              "<IPython.core.display.HTML object>"
            ]
          },
          "metadata": {
            "tags": []
          }
        },
        {
          "output_type": "display_data",
          "data": {
            "text/html": [
              "Find internal logs for this run at: <code>/content/wandb/run-20210713_112859-2acb8x55/logs/debug-internal.log</code>"
            ],
            "text/plain": [
              "<IPython.core.display.HTML object>"
            ]
          },
          "metadata": {
            "tags": []
          }
        },
        {
          "output_type": "display_data",
          "data": {
            "text/html": [
              "<h3>Run summary:</h3><br/><style>\n",
              "    table.wandb td:nth-child(1) { padding: 0 10px; text-align: right }\n",
              "    </style><table class=\"wandb\">\n",
              "<tr><td>epoch</td><td>9</td></tr><tr><td>loss</td><td>0.23678</td></tr><tr><td>accuracy</td><td>0.92413</td></tr><tr><td>val_loss</td><td>0.32778</td></tr><tr><td>val_accuracy</td><td>0.91603</td></tr><tr><td>_runtime</td><td>55</td></tr><tr><td>_timestamp</td><td>1626175794</td></tr><tr><td>_step</td><td>9</td></tr><tr><td>best_val_loss</td><td>0.29352</td></tr><tr><td>best_epoch</td><td>4</td></tr></table>"
            ],
            "text/plain": [
              "<IPython.core.display.HTML object>"
            ]
          },
          "metadata": {
            "tags": []
          }
        },
        {
          "output_type": "display_data",
          "data": {
            "text/html": [
              "<h3>Run history:</h3><br/><style>\n",
              "    table.wandb td:nth-child(1) { padding: 0 10px; text-align: right }\n",
              "    </style><table class=\"wandb\">\n",
              "<tr><td>epoch</td><td>▁▂▃▃▄▅▆▆▇█</td></tr><tr><td>loss</td><td>█▃▂▂▁▁▁▁▁▁</td></tr><tr><td>accuracy</td><td>▁▆▇▇▇█████</td></tr><tr><td>val_loss</td><td>█▃▃▁▁▁▂▂▃▃</td></tr><tr><td>val_accuracy</td><td>▁▅▆▆▇▇████</td></tr><tr><td>_runtime</td><td>▁▂▃▃▄▅▆▆▇█</td></tr><tr><td>_timestamp</td><td>▁▂▃▃▄▅▆▆▇█</td></tr><tr><td>_step</td><td>▁▂▃▃▄▅▆▆▇█</td></tr></table><br/>"
            ],
            "text/plain": [
              "<IPython.core.display.HTML object>"
            ]
          },
          "metadata": {
            "tags": []
          }
        },
        {
          "output_type": "display_data",
          "data": {
            "text/html": [
              "Synced 5 W&B file(s), 1 media file(s), 2 artifact file(s) and 2 other file(s)"
            ],
            "text/plain": [
              "<IPython.core.display.HTML object>"
            ]
          },
          "metadata": {
            "tags": []
          }
        },
        {
          "output_type": "display_data",
          "data": {
            "text/html": [
              "\n",
              "                    <br/>Synced <strong style=\"color:#cdcd00\">leafy-cloud-17</strong>: <a href=\"https://wandb.ai/anandkarunan/EMNIST_0/runs/2acb8x55\" target=\"_blank\">https://wandb.ai/anandkarunan/EMNIST_0/runs/2acb8x55</a><br/>\n",
              "                "
            ],
            "text/plain": [
              "<IPython.core.display.HTML object>"
            ]
          },
          "metadata": {
            "tags": []
          }
        },
        {
          "output_type": "display_data",
          "data": {
            "text/html": [
              "\n",
              "                Tracking run with wandb version 0.10.33<br/>\n",
              "                Syncing run <strong style=\"color:#cdcd00\">pious-pyramid-18</strong> to <a href=\"https://wandb.ai\" target=\"_blank\">Weights & Biases</a> <a href=\"https://docs.wandb.com/integrations/jupyter.html\" target=\"_blank\">(Documentation)</a>.<br/>\n",
              "                Project page: <a href=\"https://wandb.ai/anandkarunan/EMNIST_0\" target=\"_blank\">https://wandb.ai/anandkarunan/EMNIST_0</a><br/>\n",
              "                Run page: <a href=\"https://wandb.ai/anandkarunan/EMNIST_0/runs/1ai5hpr6\" target=\"_blank\">https://wandb.ai/anandkarunan/EMNIST_0/runs/1ai5hpr6</a><br/>\n",
              "                Run data is saved locally in <code>/content/wandb/run-20210713_113037-1ai5hpr6</code><br/><br/>\n",
              "            "
            ],
            "text/plain": [
              "<IPython.core.display.HTML object>"
            ]
          },
          "metadata": {
            "tags": []
          }
        },
        {
          "output_type": "stream",
          "text": [
            "Epoch 1/10\n",
            "780/780 [==============================] - 6s 7ms/step - loss: 0.6743 - accuracy: 0.7916 - val_loss: 0.3848 - val_accuracy: 0.8789\n",
            "Epoch 2/10\n",
            "780/780 [==============================] - 5s 6ms/step - loss: 0.3541 - accuracy: 0.8859 - val_loss: 0.3325 - val_accuracy: 0.8968\n",
            "Epoch 3/10\n",
            "780/780 [==============================] - 5s 6ms/step - loss: 0.2886 - accuracy: 0.9040 - val_loss: 0.3203 - val_accuracy: 0.8984\n",
            "Epoch 4/10\n",
            "780/780 [==============================] - 5s 6ms/step - loss: 0.2538 - accuracy: 0.9157 - val_loss: 0.3005 - val_accuracy: 0.9099\n",
            "Epoch 5/10\n",
            "780/780 [==============================] - 5s 6ms/step - loss: 0.2341 - accuracy: 0.9220 - val_loss: 0.2952 - val_accuracy: 0.9088\n",
            "Epoch 6/10\n",
            "780/780 [==============================] - 5s 6ms/step - loss: 0.2185 - accuracy: 0.9259 - val_loss: 0.3113 - val_accuracy: 0.9152\n",
            "Epoch 7/10\n",
            "780/780 [==============================] - 5s 6ms/step - loss: 0.2066 - accuracy: 0.9310 - val_loss: 0.3221 - val_accuracy: 0.9152\n",
            "Epoch 8/10\n",
            "780/780 [==============================] - 5s 6ms/step - loss: 0.2011 - accuracy: 0.9327 - val_loss: 0.3282 - val_accuracy: 0.9111\n",
            "Epoch 9/10\n",
            "780/780 [==============================] - 5s 6ms/step - loss: 0.1943 - accuracy: 0.9349 - val_loss: 0.3628 - val_accuracy: 0.9123\n",
            "Epoch 10/10\n",
            "780/780 [==============================] - 5s 6ms/step - loss: 0.1887 - accuracy: 0.9369 - val_loss: 0.3653 - val_accuracy: 0.9125\n"
          ],
          "name": "stdout"
        },
        {
          "output_type": "display_data",
          "data": {
            "text/html": [
              "<br/>Waiting for W&B process to finish, PID 2677<br/>Program ended successfully."
            ],
            "text/plain": [
              "<IPython.core.display.HTML object>"
            ]
          },
          "metadata": {
            "tags": []
          }
        },
        {
          "output_type": "display_data",
          "data": {
            "application/vnd.jupyter.widget-view+json": {
              "model_id": "00d346cd69c9422a85de2deea45e0421",
              "version_minor": 0,
              "version_major": 2
            },
            "text/plain": [
              "VBox(children=(Label(value=' 5.56MB of 5.56MB uploaded (0.00MB deduped)\\r'), FloatProgress(value=1.0, max=1.0)…"
            ]
          },
          "metadata": {
            "tags": []
          }
        },
        {
          "output_type": "display_data",
          "data": {
            "text/html": [
              "Find user logs for this run at: <code>/content/wandb/run-20210713_113037-1ai5hpr6/logs/debug.log</code>"
            ],
            "text/plain": [
              "<IPython.core.display.HTML object>"
            ]
          },
          "metadata": {
            "tags": []
          }
        },
        {
          "output_type": "display_data",
          "data": {
            "text/html": [
              "Find internal logs for this run at: <code>/content/wandb/run-20210713_113037-1ai5hpr6/logs/debug-internal.log</code>"
            ],
            "text/plain": [
              "<IPython.core.display.HTML object>"
            ]
          },
          "metadata": {
            "tags": []
          }
        },
        {
          "output_type": "display_data",
          "data": {
            "text/html": [
              "<h3>Run summary:</h3><br/><style>\n",
              "    table.wandb td:nth-child(1) { padding: 0 10px; text-align: right }\n",
              "    </style><table class=\"wandb\">\n",
              "<tr><td>epoch</td><td>9</td></tr><tr><td>loss</td><td>0.1887</td></tr><tr><td>accuracy</td><td>0.93695</td></tr><tr><td>val_loss</td><td>0.36526</td></tr><tr><td>val_accuracy</td><td>0.9125</td></tr><tr><td>_runtime</td><td>55</td></tr><tr><td>_timestamp</td><td>1626175892</td></tr><tr><td>_step</td><td>9</td></tr><tr><td>best_val_loss</td><td>0.2952</td></tr><tr><td>best_epoch</td><td>4</td></tr></table>"
            ],
            "text/plain": [
              "<IPython.core.display.HTML object>"
            ]
          },
          "metadata": {
            "tags": []
          }
        },
        {
          "output_type": "display_data",
          "data": {
            "text/html": [
              "<h3>Run history:</h3><br/><style>\n",
              "    table.wandb td:nth-child(1) { padding: 0 10px; text-align: right }\n",
              "    </style><table class=\"wandb\">\n",
              "<tr><td>epoch</td><td>▁▂▃▃▄▅▆▆▇█</td></tr><tr><td>loss</td><td>█▃▂▂▂▁▁▁▁▁</td></tr><tr><td>accuracy</td><td>▁▆▆▇▇▇████</td></tr><tr><td>val_loss</td><td>█▄▃▁▁▂▃▄▆▆</td></tr><tr><td>val_accuracy</td><td>▁▄▅▇▇██▇▇▇</td></tr><tr><td>_runtime</td><td>▁▂▂▃▄▅▆▆▇█</td></tr><tr><td>_timestamp</td><td>▁▂▂▃▄▅▆▆▇█</td></tr><tr><td>_step</td><td>▁▂▃▃▄▅▆▆▇█</td></tr></table><br/>"
            ],
            "text/plain": [
              "<IPython.core.display.HTML object>"
            ]
          },
          "metadata": {
            "tags": []
          }
        },
        {
          "output_type": "display_data",
          "data": {
            "text/html": [
              "Synced 5 W&B file(s), 1 media file(s), 2 artifact file(s) and 2 other file(s)"
            ],
            "text/plain": [
              "<IPython.core.display.HTML object>"
            ]
          },
          "metadata": {
            "tags": []
          }
        },
        {
          "output_type": "display_data",
          "data": {
            "text/html": [
              "\n",
              "                    <br/>Synced <strong style=\"color:#cdcd00\">pious-pyramid-18</strong>: <a href=\"https://wandb.ai/anandkarunan/EMNIST_0/runs/1ai5hpr6\" target=\"_blank\">https://wandb.ai/anandkarunan/EMNIST_0/runs/1ai5hpr6</a><br/>\n",
              "                "
            ],
            "text/plain": [
              "<IPython.core.display.HTML object>"
            ]
          },
          "metadata": {
            "tags": []
          }
        },
        {
          "output_type": "display_data",
          "data": {
            "text/html": [
              "\n",
              "                Tracking run with wandb version 0.10.33<br/>\n",
              "                Syncing run <strong style=\"color:#cdcd00\">vibrant-lion-19</strong> to <a href=\"https://wandb.ai\" target=\"_blank\">Weights & Biases</a> <a href=\"https://docs.wandb.com/integrations/jupyter.html\" target=\"_blank\">(Documentation)</a>.<br/>\n",
              "                Project page: <a href=\"https://wandb.ai/anandkarunan/EMNIST_0\" target=\"_blank\">https://wandb.ai/anandkarunan/EMNIST_0</a><br/>\n",
              "                Run page: <a href=\"https://wandb.ai/anandkarunan/EMNIST_0/runs/2hfxvt2n\" target=\"_blank\">https://wandb.ai/anandkarunan/EMNIST_0/runs/2hfxvt2n</a><br/>\n",
              "                Run data is saved locally in <code>/content/wandb/run-20210713_113142-2hfxvt2n</code><br/><br/>\n",
              "            "
            ],
            "text/plain": [
              "<IPython.core.display.HTML object>"
            ]
          },
          "metadata": {
            "tags": []
          }
        },
        {
          "output_type": "stream",
          "text": [
            "Epoch 1/10\n",
            "  1/780 [..............................] - ETA: 8:15 - loss: 3.3789 - accuracy: 0.0234WARNING:tensorflow:Callback method `on_train_batch_end` is slow compared to the batch time (batch time: 0.0037s vs `on_train_batch_end` time: 0.0037s). Check your callbacks.\n",
            "780/780 [==============================] - 6s 7ms/step - loss: 0.7305 - accuracy: 0.7761 - val_loss: 0.3932 - val_accuracy: 0.8782\n",
            "Epoch 2/10\n",
            "780/780 [==============================] - 5s 6ms/step - loss: 0.3969 - accuracy: 0.8739 - val_loss: 0.3370 - val_accuracy: 0.8929\n",
            "Epoch 3/10\n",
            "780/780 [==============================] - 5s 6ms/step - loss: 0.3316 - accuracy: 0.8937 - val_loss: 0.3045 - val_accuracy: 0.9042\n",
            "Epoch 4/10\n",
            "780/780 [==============================] - 5s 6ms/step - loss: 0.2980 - accuracy: 0.9031 - val_loss: 0.2937 - val_accuracy: 0.9100\n",
            "Epoch 5/10\n",
            "780/780 [==============================] - 5s 6ms/step - loss: 0.2787 - accuracy: 0.9094 - val_loss: 0.3096 - val_accuracy: 0.9103\n",
            "Epoch 6/10\n",
            "780/780 [==============================] - 5s 6ms/step - loss: 0.2686 - accuracy: 0.9131 - val_loss: 0.2985 - val_accuracy: 0.9137\n",
            "Epoch 7/10\n",
            "780/780 [==============================] - 5s 6ms/step - loss: 0.2590 - accuracy: 0.9167 - val_loss: 0.2884 - val_accuracy: 0.9151\n",
            "Epoch 8/10\n",
            "780/780 [==============================] - 5s 6ms/step - loss: 0.2550 - accuracy: 0.9176 - val_loss: 0.3073 - val_accuracy: 0.9149\n",
            "Epoch 9/10\n",
            "780/780 [==============================] - 5s 6ms/step - loss: 0.2525 - accuracy: 0.9193 - val_loss: 0.3075 - val_accuracy: 0.9167\n",
            "Epoch 10/10\n",
            "780/780 [==============================] - 5s 6ms/step - loss: 0.2479 - accuracy: 0.9209 - val_loss: 0.3188 - val_accuracy: 0.9164\n"
          ],
          "name": "stdout"
        },
        {
          "output_type": "display_data",
          "data": {
            "text/html": [
              "<br/>Waiting for W&B process to finish, PID 2766<br/>Program ended successfully."
            ],
            "text/plain": [
              "<IPython.core.display.HTML object>"
            ]
          },
          "metadata": {
            "tags": []
          }
        },
        {
          "output_type": "display_data",
          "data": {
            "application/vnd.jupyter.widget-view+json": {
              "model_id": "c377c3a3c20242ed8365a967cedbc6f2",
              "version_minor": 0,
              "version_major": 2
            },
            "text/plain": [
              "VBox(children=(Label(value=' 5.57MB of 5.57MB uploaded (0.00MB deduped)\\r'), FloatProgress(value=1.0, max=1.0)…"
            ]
          },
          "metadata": {
            "tags": []
          }
        },
        {
          "output_type": "display_data",
          "data": {
            "text/html": [
              "Find user logs for this run at: <code>/content/wandb/run-20210713_113142-2hfxvt2n/logs/debug.log</code>"
            ],
            "text/plain": [
              "<IPython.core.display.HTML object>"
            ]
          },
          "metadata": {
            "tags": []
          }
        },
        {
          "output_type": "display_data",
          "data": {
            "text/html": [
              "Find internal logs for this run at: <code>/content/wandb/run-20210713_113142-2hfxvt2n/logs/debug-internal.log</code>"
            ],
            "text/plain": [
              "<IPython.core.display.HTML object>"
            ]
          },
          "metadata": {
            "tags": []
          }
        },
        {
          "output_type": "display_data",
          "data": {
            "text/html": [
              "<h3>Run summary:</h3><br/><style>\n",
              "    table.wandb td:nth-child(1) { padding: 0 10px; text-align: right }\n",
              "    </style><table class=\"wandb\">\n",
              "<tr><td>epoch</td><td>9</td></tr><tr><td>loss</td><td>0.24795</td></tr><tr><td>accuracy</td><td>0.92089</td></tr><tr><td>val_loss</td><td>0.31876</td></tr><tr><td>val_accuracy</td><td>0.91639</td></tr><tr><td>_runtime</td><td>57</td></tr><tr><td>_timestamp</td><td>1626175959</td></tr><tr><td>_step</td><td>9</td></tr><tr><td>best_val_loss</td><td>0.28843</td></tr><tr><td>best_epoch</td><td>6</td></tr></table>"
            ],
            "text/plain": [
              "<IPython.core.display.HTML object>"
            ]
          },
          "metadata": {
            "tags": []
          }
        },
        {
          "output_type": "display_data",
          "data": {
            "text/html": [
              "<h3>Run history:</h3><br/><style>\n",
              "    table.wandb td:nth-child(1) { padding: 0 10px; text-align: right }\n",
              "    </style><table class=\"wandb\">\n",
              "<tr><td>epoch</td><td>▁▂▃▃▄▅▆▆▇█</td></tr><tr><td>loss</td><td>█▃▂▂▁▁▁▁▁▁</td></tr><tr><td>accuracy</td><td>▁▆▇▇▇█████</td></tr><tr><td>val_loss</td><td>█▄▂▁▂▂▁▂▂▃</td></tr><tr><td>val_accuracy</td><td>▁▄▆▇▇▇████</td></tr><tr><td>_runtime</td><td>▁▂▃▃▄▅▆▆▇█</td></tr><tr><td>_timestamp</td><td>▁▂▃▃▄▅▆▆▇█</td></tr><tr><td>_step</td><td>▁▂▃▃▄▅▆▆▇█</td></tr></table><br/>"
            ],
            "text/plain": [
              "<IPython.core.display.HTML object>"
            ]
          },
          "metadata": {
            "tags": []
          }
        },
        {
          "output_type": "display_data",
          "data": {
            "text/html": [
              "Synced 5 W&B file(s), 1 media file(s), 2 artifact file(s) and 2 other file(s)"
            ],
            "text/plain": [
              "<IPython.core.display.HTML object>"
            ]
          },
          "metadata": {
            "tags": []
          }
        },
        {
          "output_type": "display_data",
          "data": {
            "text/html": [
              "\n",
              "                    <br/>Synced <strong style=\"color:#cdcd00\">vibrant-lion-19</strong>: <a href=\"https://wandb.ai/anandkarunan/EMNIST_0/runs/2hfxvt2n\" target=\"_blank\">https://wandb.ai/anandkarunan/EMNIST_0/runs/2hfxvt2n</a><br/>\n",
              "                "
            ],
            "text/plain": [
              "<IPython.core.display.HTML object>"
            ]
          },
          "metadata": {
            "tags": []
          }
        },
        {
          "output_type": "display_data",
          "data": {
            "text/html": [
              "\n",
              "                Tracking run with wandb version 0.10.33<br/>\n",
              "                Syncing run <strong style=\"color:#cdcd00\">winter-lake-20</strong> to <a href=\"https://wandb.ai\" target=\"_blank\">Weights & Biases</a> <a href=\"https://docs.wandb.com/integrations/jupyter.html\" target=\"_blank\">(Documentation)</a>.<br/>\n",
              "                Project page: <a href=\"https://wandb.ai/anandkarunan/EMNIST_0\" target=\"_blank\">https://wandb.ai/anandkarunan/EMNIST_0</a><br/>\n",
              "                Run page: <a href=\"https://wandb.ai/anandkarunan/EMNIST_0/runs/20jnvzzi\" target=\"_blank\">https://wandb.ai/anandkarunan/EMNIST_0/runs/20jnvzzi</a><br/>\n",
              "                Run data is saved locally in <code>/content/wandb/run-20210713_113321-20jnvzzi</code><br/><br/>\n",
              "            "
            ],
            "text/plain": [
              "<IPython.core.display.HTML object>"
            ]
          },
          "metadata": {
            "tags": []
          }
        },
        {
          "output_type": "stream",
          "text": [
            "Epoch 1/10\n",
            "780/780 [==============================] - 5s 6ms/step - loss: 0.8705 - accuracy: 0.7356 - val_loss: 0.4341 - val_accuracy: 0.8686\n",
            "Epoch 2/10\n",
            "780/780 [==============================] - 5s 6ms/step - loss: 0.5023 - accuracy: 0.8431 - val_loss: 0.3588 - val_accuracy: 0.8881\n",
            "Epoch 3/10\n",
            "780/780 [==============================] - 5s 6ms/step - loss: 0.4343 - accuracy: 0.8650 - val_loss: 0.3281 - val_accuracy: 0.8964\n",
            "Epoch 4/10\n",
            "780/780 [==============================] - 5s 6ms/step - loss: 0.4034 - accuracy: 0.8749 - val_loss: 0.3211 - val_accuracy: 0.9021\n",
            "Epoch 5/10\n",
            "780/780 [==============================] - 5s 6ms/step - loss: 0.3888 - accuracy: 0.8808 - val_loss: 0.3112 - val_accuracy: 0.9044\n",
            "Epoch 6/10\n",
            "780/780 [==============================] - 5s 6ms/step - loss: 0.3831 - accuracy: 0.8841 - val_loss: 0.3211 - val_accuracy: 0.9066\n",
            "Epoch 7/10\n",
            "780/780 [==============================] - 5s 6ms/step - loss: 0.3761 - accuracy: 0.8854 - val_loss: 0.3115 - val_accuracy: 0.9103\n",
            "Epoch 8/10\n",
            "780/780 [==============================] - 5s 6ms/step - loss: 0.3799 - accuracy: 0.8865 - val_loss: 0.3074 - val_accuracy: 0.9114\n",
            "Epoch 9/10\n",
            "780/780 [==============================] - 5s 6ms/step - loss: 0.3850 - accuracy: 0.8863 - val_loss: 0.3150 - val_accuracy: 0.9096\n",
            "Epoch 10/10\n",
            "780/780 [==============================] - 5s 6ms/step - loss: 0.3868 - accuracy: 0.8863 - val_loss: 0.3216 - val_accuracy: 0.9101\n"
          ],
          "name": "stdout"
        },
        {
          "output_type": "display_data",
          "data": {
            "text/html": [
              "<br/>Waiting for W&B process to finish, PID 2859<br/>Program ended successfully."
            ],
            "text/plain": [
              "<IPython.core.display.HTML object>"
            ]
          },
          "metadata": {
            "tags": []
          }
        },
        {
          "output_type": "display_data",
          "data": {
            "application/vnd.jupyter.widget-view+json": {
              "model_id": "8368f360a2bb40efafd11b20ea262c32",
              "version_minor": 0,
              "version_major": 2
            },
            "text/plain": [
              "VBox(children=(Label(value=' 5.58MB of 5.58MB uploaded (0.00MB deduped)\\r'), FloatProgress(value=1.0, max=1.0)…"
            ]
          },
          "metadata": {
            "tags": []
          }
        },
        {
          "output_type": "display_data",
          "data": {
            "text/html": [
              "Find user logs for this run at: <code>/content/wandb/run-20210713_113321-20jnvzzi/logs/debug.log</code>"
            ],
            "text/plain": [
              "<IPython.core.display.HTML object>"
            ]
          },
          "metadata": {
            "tags": []
          }
        },
        {
          "output_type": "display_data",
          "data": {
            "text/html": [
              "Find internal logs for this run at: <code>/content/wandb/run-20210713_113321-20jnvzzi/logs/debug-internal.log</code>"
            ],
            "text/plain": [
              "<IPython.core.display.HTML object>"
            ]
          },
          "metadata": {
            "tags": []
          }
        },
        {
          "output_type": "display_data",
          "data": {
            "text/html": [
              "<h3>Run summary:</h3><br/><style>\n",
              "    table.wandb td:nth-child(1) { padding: 0 10px; text-align: right }\n",
              "    </style><table class=\"wandb\">\n",
              "<tr><td>epoch</td><td>9</td></tr><tr><td>loss</td><td>0.38682</td></tr><tr><td>accuracy</td><td>0.88632</td></tr><tr><td>val_loss</td><td>0.32158</td></tr><tr><td>val_accuracy</td><td>0.91014</td></tr><tr><td>_runtime</td><td>56</td></tr><tr><td>_timestamp</td><td>1626176057</td></tr><tr><td>_step</td><td>9</td></tr><tr><td>best_val_loss</td><td>0.30737</td></tr><tr><td>best_epoch</td><td>7</td></tr></table>"
            ],
            "text/plain": [
              "<IPython.core.display.HTML object>"
            ]
          },
          "metadata": {
            "tags": []
          }
        },
        {
          "output_type": "display_data",
          "data": {
            "text/html": [
              "<h3>Run history:</h3><br/><style>\n",
              "    table.wandb td:nth-child(1) { padding: 0 10px; text-align: right }\n",
              "    </style><table class=\"wandb\">\n",
              "<tr><td>epoch</td><td>▁▂▃▃▄▅▆▆▇█</td></tr><tr><td>loss</td><td>█▃▂▁▁▁▁▁▁▁</td></tr><tr><td>accuracy</td><td>▁▆▇▇██████</td></tr><tr><td>val_loss</td><td>█▄▂▂▁▂▁▁▁▂</td></tr><tr><td>val_accuracy</td><td>▁▄▆▆▇▇████</td></tr><tr><td>_runtime</td><td>▁▂▃▃▄▅▆▆▇█</td></tr><tr><td>_timestamp</td><td>▁▂▃▃▄▅▆▆▇█</td></tr><tr><td>_step</td><td>▁▂▃▃▄▅▆▆▇█</td></tr></table><br/>"
            ],
            "text/plain": [
              "<IPython.core.display.HTML object>"
            ]
          },
          "metadata": {
            "tags": []
          }
        },
        {
          "output_type": "display_data",
          "data": {
            "text/html": [
              "Synced 5 W&B file(s), 1 media file(s), 2 artifact file(s) and 2 other file(s)"
            ],
            "text/plain": [
              "<IPython.core.display.HTML object>"
            ]
          },
          "metadata": {
            "tags": []
          }
        },
        {
          "output_type": "display_data",
          "data": {
            "text/html": [
              "\n",
              "                    <br/>Synced <strong style=\"color:#cdcd00\">winter-lake-20</strong>: <a href=\"https://wandb.ai/anandkarunan/EMNIST_0/runs/20jnvzzi\" target=\"_blank\">https://wandb.ai/anandkarunan/EMNIST_0/runs/20jnvzzi</a><br/>\n",
              "                "
            ],
            "text/plain": [
              "<IPython.core.display.HTML object>"
            ]
          },
          "metadata": {
            "tags": []
          }
        }
      ]
    },
    {
      "cell_type": "markdown",
      "metadata": {
        "id": "1qXXihkCi2HP"
      },
      "source": [
        "# **Testing Accuracy after training the model**"
      ]
    },
    {
      "cell_type": "code",
      "metadata": {
        "colab": {
          "base_uri": "https://localhost:8080/"
        },
        "id": "N4K36D9ef3yb",
        "outputId": "d4f15b53-80e4-4dcc-826c-110ebc07ed4e"
      },
      "source": [
        "z = model.evaluate(X_test, Y_test, verbose=1)\n",
        "accuracy = 100*z[1]\n",
        "\n",
        "print('Test accuracy after training: %.2f%%' % accuracy)"
      ],
      "execution_count": 13,
      "outputs": [
        {
          "output_type": "stream",
          "text": [
            "650/650 [==============================] - 2s 3ms/step - loss: 0.3214 - accuracy: 0.9105\n",
            "Test accuracy after training: 91.05%\n"
          ],
          "name": "stdout"
        }
      ]
    },
    {
      "cell_type": "code",
      "metadata": {
        "id": "WZoLPauyjnKV"
      },
      "source": [
        "accuracy_plot = plt.imread('/content/drive/MyDrive/Program/EMNIST/Accuracy.png')\n",
        "loss_plot = plt.imread('/content/drive/MyDrive/Program/EMNIST/Loss.png')"
      ],
      "execution_count": 15,
      "outputs": []
    },
    {
      "cell_type": "code",
      "metadata": {
        "colab": {
          "base_uri": "https://localhost:8080/",
          "height": 336
        },
        "id": "yQjqVlPNktq8",
        "outputId": "447219d6-1154-4106-a48f-eef217555148"
      },
      "source": [
        "fig = plt.figure(figsize=(10,20))\n",
        "plt.imshow(accuracy_plot)"
      ],
      "execution_count": 22,
      "outputs": [
        {
          "output_type": "execute_result",
          "data": {
            "text/plain": [
              "<matplotlib.image.AxesImage at 0x7fef7fd13450>"
            ]
          },
          "metadata": {
            "tags": []
          },
          "execution_count": 22
        },
        {
          "output_type": "display_data",
          "data": {
            "image/png": "[encoded data removed]",
            "text/plain": [
              "<Figure size 720x1440 with 1 Axes>"
            ]
          },
          "metadata": {
            "tags": [],
            "needs_background": "light"
          }
        }
      ]
    },
    {
      "cell_type": "code",
      "metadata": {
        "colab": {
          "base_uri": "https://localhost:8080/",
          "height": 336
        },
        "id": "QiYK7H8irTZQ",
        "outputId": "cae34070-9609-40b9-99e9-d7e21eb813bc"
      },
      "source": [
        "fig = plt.figure(figsize=(10,20))\n",
        "plt.imshow(loss_plot)"
      ],
      "execution_count": 28,
      "outputs": [
        {
          "output_type": "execute_result",
          "data": {
            "text/plain": [
              "<matplotlib.image.AxesImage at 0x7fef7e71f190>"
            ]
          },
          "metadata": {
            "tags": []
          },
          "execution_count": 28
        },
        {
          "output_type": "display_data",
          "data": {
            "image/png": "[encoded data removed]",
            "text/plain": [
              "<Figure size 720x1440 with 1 Axes>"
            ]
          },
          "metadata": {
            "tags": [],
            "needs_background": "light"
          }
        }
      ]
    },
    {
      "cell_type": "markdown",
      "metadata": {
        "id": "qEO7s-plylqp"
      },
      "source": [
        "# **Predicting Alphabets**"
      ]
    },
    {
      "cell_type": "code",
      "metadata": {
        "id": "18a3QbX2tt9A"
      },
      "source": [
        "import tensorflow as tf\n",
        "from keras_preprocessing import image\n",
        "\n",
        "def get_pred(img_sample):\n",
        "  images = image.load_img(img_sample, target_size=(28, 28))    \n",
        "  x = image.img_to_array(images)\n",
        "  x = tf.image.rgb_to_grayscale(x)\n",
        "  x = np.expand_dims(x, axis=0)\n",
        "  x = x/255.0\n",
        "  \n",
        "  pred = model.predict(x)\n",
        "  n=0\n",
        "  max=0\n",
        "  for i in range(len(pred[0])):\n",
        "    if pred[0][i]>max:\n",
        "      n=i\n",
        "      max=pred[0][i]\n",
        "  prediction = get_label(n)\n",
        "  print (\"Predicted alphabet:\",prediction)"
      ],
      "execution_count": 49,
      "outputs": []
    },
    {
      "cell_type": "markdown",
      "metadata": {
        "id": "FIIXTYEBywJv"
      },
      "source": [
        " **Sample Input 1 - A**"
      ]
    },
    {
      "cell_type": "code",
      "metadata": {
        "colab": {
          "base_uri": "https://localhost:8080/",
          "height": 286
        },
        "id": "pCznrfHHwk9W",
        "outputId": "7cf96eb1-0b58-4930-80ed-71b4bf4686c2"
      },
      "source": [
        "test=plt.imread('/content/drive/MyDrive/Program/EMNIST/A_EMNIST.jpg')\n",
        "plt.imshow(test,cmap='gray')"
      ],
      "execution_count": 50,
      "outputs": [
        {
          "output_type": "execute_result",
          "data": {
            "text/plain": [
              "<matplotlib.image.AxesImage at 0x7fef7d6c74d0>"
            ]
          },
          "metadata": {
            "tags": []
          },
          "execution_count": 50
        },
        {
          "output_type": "display_data",
          "data": {
            "image/png": "[encoded data removed]",
            "text/plain": [
              "<Figure size 432x288 with 1 Axes>"
            ]
          },
          "metadata": {
            "tags": [],
            "needs_background": "light"
          }
        }
      ]
    },
    {
      "cell_type": "code",
      "metadata": {
        "colab": {
          "base_uri": "https://localhost:8080/"
        },
        "id": "qQBWLzjEw9PH",
        "outputId": "0ca407e7-0619-42b5-f762-9d96d7072643"
      },
      "source": [
        "get_pred('/content/drive/MyDrive/Program/EMNIST/A_EMNIST.jpg')"
      ],
      "execution_count": 51,
      "outputs": [
        {
          "output_type": "stream",
          "text": [
            "Predicted alphabet: A\n"
          ],
          "name": "stdout"
        }
      ]
    },
    {
      "cell_type": "markdown",
      "metadata": {
        "id": "G7HtBZPHy4zG"
      },
      "source": [
        " **Sample Input 2 - M**"
      ]
    },
    {
      "cell_type": "code",
      "metadata": {
        "colab": {
          "base_uri": "https://localhost:8080/",
          "height": 286
        },
        "id": "wTzeJigLxITe",
        "outputId": "b493152d-8a2e-4ef7-91f0-9387bb9fe9c6"
      },
      "source": [
        "test=plt.imread('/content/drive/MyDrive/Program/EMNIST/M-EMNIST.jpg')\n",
        "plt.imshow(test,cmap='gray')"
      ],
      "execution_count": 52,
      "outputs": [
        {
          "output_type": "execute_result",
          "data": {
            "text/plain": [
              "<matplotlib.image.AxesImage at 0x7fef7d621d50>"
            ]
          },
          "metadata": {
            "tags": []
          },
          "execution_count": 52
        },
        {
          "output_type": "display_data",
          "data": {
            "image/png": "[encoded data removed]",
            "text/plain": [
              "<Figure size 432x288 with 1 Axes>"
            ]
          },
          "metadata": {
            "tags": [],
            "needs_background": "light"
          }
        }
      ]
    },
    {
      "cell_type": "code",
      "metadata": {
        "colab": {
          "base_uri": "https://localhost:8080/"
        },
        "id": "NxQoLM6qxlof",
        "outputId": "8c873c8b-89d5-48ee-b5c3-4503151fc074"
      },
      "source": [
        "get_pred('/content/drive/MyDrive/Program/EMNIST/M-EMNIST.jpg')"
      ],
      "execution_count": 53,
      "outputs": [
        {
          "output_type": "stream",
          "text": [
            "Predicted alphabet: M\n"
          ],
          "name": "stdout"
        }
      ]
    },
    {
      "cell_type": "code",
      "metadata": {
        "id": "hQV9_Up1yi3c"
      },
      "source": [
        ""
      ],
      "execution_count": null,
      "outputs": []
    }
  ]
}